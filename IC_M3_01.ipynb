{
  "nbformat": 4,
  "nbformat_minor": 0,
  "metadata": {
    "colab": {
      "provenance": [],
      "collapsed_sections": [],
      "authorship_tag": "ABX9TyM38Ee1UolG7bCVy4YfHkMl",
      "include_colab_link": true
    },
    "kernelspec": {
      "name": "python3",
      "display_name": "Python 3"
    },
    "language_info": {
      "name": "python"
    }
  },
  "cells": [
    {
      "cell_type": "markdown",
      "metadata": {
        "id": "view-in-github",
        "colab_type": "text"
      },
      "source": [
        "<a href=\"https://colab.research.google.com/github/fabiqroz/disciplina_IC/blob/main/IC_M3_01.ipynb\" target=\"_parent\"><img src=\"https://colab.research.google.com/assets/colab-badge.svg\" alt=\"Open In Colab\"/></a>"
      ]
    },
    {
      "cell_type": "markdown",
      "source": [
        "# Desafio motivacional\n"
      ],
      "metadata": {
        "id": "QV_ibWwsiZdc"
      }
    },
    {
      "cell_type": "markdown",
      "source": [
        " Suponha que precisamos desenvolver um algoritmo que compute a média de um aluno a partir de suas duas notas trimestrais:\n",
        "\n",
        "\n",
        "\n",
        "```\n",
        "ab1 = float(input())\n",
        "ab2 = float(input())\n",
        "\n",
        "media = (ab1+ab2)/2\n",
        "\n",
        "print(media)\n",
        "```\n",
        "\n"
      ],
      "metadata": {
        "id": "4tgJvrD49xvb"
      }
    },
    {
      "cell_type": "markdown",
      "source": [
        "E se tivéssemos que computar a média de dois alunos?\n",
        "\n",
        "\n",
        "\n",
        "```\n",
        "# Calculo da média do primeiro aluno\n",
        "\n",
        "ab1_aluno1 = float(input())\n",
        "ab2_aluno1 = float(input())\n",
        "media_aluno1 = (ab1_aluno1+ab2_aluno1)/2\n",
        "print(media_aluno1)\n",
        "\n",
        "# Calculo da média do segundo aluno\n",
        "ab1_aluno2 = float(input())\n",
        "ab2_aluno2 = float(input())\n",
        "media_aluno2 = (ab1_aluno2+ab2_aluno2)/2\n",
        "print(media_aluno2)\n",
        "```\n",
        "\n",
        "\n",
        "\n"
      ],
      "metadata": {
        "id": "-gxY5f_z89Fd"
      }
    },
    {
      "cell_type": "markdown",
      "source": [
        "E se tivéssemos que computar a média de 10000 alunos?\n",
        "\n",
        "<img src = \"https://drive.google.com/uc?id=1n_oIifdBs0XepZO0T47P-15H02YicrUR\" width = \"300\">"
      ],
      "metadata": {
        "id": "XStF3H66M6AB"
      }
    },
    {
      "cell_type": "markdown",
      "source": [
        "# Repetição Condicionada\n",
        "\n",
        "A análise de condição com `if`, `elif` e `else` é executado de cima para baixo. **Às vezes, precisamos fazer algo mais de uma vez.** Para tanto, precisamos implementar um *loop*, e o mecanismo de *loop* mais simples em Python é o `while`. "
      ],
      "metadata": {
        "id": "s-FQEzmQ8uIw"
      }
    },
    {
      "cell_type": "markdown",
      "source": [
        "<img src = \"https://drive.google.com/uc?id=1WBBxYHArxNCOMGGb6FBE7NEZqzLdSjag\" width = \"600\">"
      ],
      "metadata": {
        "id": "j5Q2Oz-DUntX"
      }
    },
    {
      "cell_type": "markdown",
      "source": [
        "## Resolução do desafio motivacional\n"
      ],
      "metadata": {
        "id": "SLg4qmQ8WwZn"
      }
    },
    {
      "cell_type": "code",
      "execution_count": null,
      "metadata": {
        "id": "O6I-TU1b8rcg",
        "colab": {
          "base_uri": "https://localhost:8080/"
        },
        "outputId": "92a685d9-3849-4b25-8b52-d489403bd475"
      },
      "outputs": [
        {
          "output_type": "stream",
          "name": "stdout",
          "text": [
            "8\n",
            "7\n",
            "7.5\n",
            "10\n",
            "10\n",
            "10.0\n",
            "4\n",
            "0\n",
            "2.0\n",
            "Fim da execução!\n"
          ]
        }
      ],
      "source": [
        "alunos = 0\n",
        "\n",
        "while alunos<3:\n",
        "  ab1 = float(input())\n",
        "  ab2 = float(input())\n",
        "\n",
        "  media = (ab1+ab2)/2\n",
        "\n",
        "  print(media)\n",
        "\n",
        "  alunos +=1\n",
        "\n",
        "print(\"Fim da execução!\")\n"
      ]
    },
    {
      "cell_type": "markdown",
      "source": [
        "❌❌❌❌❌❌❌❌❌❌❌ Cuidado com o Loop infinito! ❌❌❌❌❌❌❌❌❌❌❌\n",
        "\n",
        "\n",
        "\n",
        "```\n",
        "alunos = 0 \n",
        "\n",
        "while alunos<10: \n",
        "  ab1 = float(input())\n",
        "  ab2 = float(input())\n",
        "  media = (ab1+ab2 )/2\n",
        "  print(media)\n",
        "  # O que acontece se eu remover a linha abaixo?\n",
        "  # alunos += 1  \n",
        "```\n",
        "\n",
        "\n"
      ],
      "metadata": {
        "id": "8_GD-DXqXpSK"
      }
    },
    {
      "cell_type": "markdown",
      "source": [
        "## Variáveis contadoras e acumuladoras\n",
        "\n",
        "Além da nossa variável de controle do *loop*, nós também usamos variáveis com fins de **registrar** quantas vezes um determinado evento ocorreu na repetição ou **acumular** o resultado de eventos que ocorreram numa repetição.\n",
        "\n",
        "Para entender melhor o uso dessas variáveis, vamos pensar em um novo problema:\n",
        "\n",
        "> Suponha que eu deva receber, a partir do usuário, um conjunto de 5 valores numéricos inteiros, e verificar quantos desses números foram par e quantos foram ímpar.\n",
        "\n"
      ],
      "metadata": {
        "id": "v_IU7KG8fhC5"
      }
    },
    {
      "cell_type": "code",
      "source": [
        "posicao = 0\n",
        "\n",
        "pares = 0\n",
        "impares = 0\n",
        "\n",
        "while posicao<5:\n",
        "  num = int(input())\n",
        "  if num%2 == 0:\n",
        "    pares += 1\n",
        "  else:\n",
        "    impares += 1\n",
        "\n",
        "  posicao +=1 \n",
        "\n",
        "print(pares)\n",
        "print(impares)"
      ],
      "metadata": {
        "id": "TtwiuamJfm0x"
      },
      "execution_count": null,
      "outputs": []
    },
    {
      "cell_type": "markdown",
      "source": [
        "\n",
        "> Agora suponha que se o número for par, eu irei acumular este número em uma soma e se o número for ímpar, eu irei acumular este número em um produto. Para este fim, nós utilizamos variáveis acumuladoras."
      ],
      "metadata": {
        "id": "0tX--bg_g_8L"
      }
    },
    {
      "cell_type": "code",
      "source": [
        "posicao = 0\n",
        "\n",
        "pares = 0\n",
        "impares = 0\n",
        "\n",
        "soma = 0\n",
        "produto = 1\n",
        "\n",
        "while posicao<5:\n",
        "  num = int(input())\n",
        "  if num%2 == 0:\n",
        "    pares += 1\n",
        "    soma += num\n",
        "  else:\n",
        "    produto = produto * num\n",
        "    impares += 1\n",
        "\n",
        "  posicao +=1 \n",
        "\n",
        "print(\"Há {} numeros pares, cuja soma acumulada é {}\".format(pares, soma))\n",
        "print(\"Há {} numeros impares, cujo produto acumulado é {}\".format(impares, produto))\n"
      ],
      "metadata": {
        "id": "m03_Ux43hMs7",
        "colab": {
          "base_uri": "https://localhost:8080/"
        },
        "outputId": "381a0d27-f5da-4ab0-8c1e-6c4cded7127c"
      },
      "execution_count": null,
      "outputs": [
        {
          "output_type": "stream",
          "name": "stdout",
          "text": [
            "2\n",
            "5\n",
            "-9\n",
            "0\n",
            "4\n",
            "Há 3 numeros pares, cuja soma acumulada é 6\n",
            "Há 2 numeros impares, cujo produto acumulado é -45\n"
          ]
        }
      ]
    },
    {
      "cell_type": "markdown",
      "source": [
        "## O comando `break`\n",
        "\n",
        "Se você deseja fazer um *loop* até que algo ocorra, mas não tem certeza de quando isso pode acontecer, você pode usar um *loop* infinito com uma instrução `break`.\n",
        "\n",
        "Para entender melhor o uso de interrupção com `break`, vamos pensar em um problema:\n",
        "\n",
        "\n",
        "\n",
        "> Suponha, que voce não saiba de quantos alunos será necessário computar a média. Então a leitura de notas deve encerrar quando ao menos uma das notas informada for negativa.\n",
        "\n",
        "\n"
      ],
      "metadata": {
        "id": "yJLI5R8pXCJZ"
      }
    },
    {
      "cell_type": "code",
      "source": [
        "ab1 = float(input())\n",
        "ab2 = float(input())\n",
        "\n",
        "while ab1>=0 or ab2>=0:\n",
        "  \n",
        "  media = (ab1+ab2 )/2\n",
        "  print(media)\n",
        "\n",
        "  ab1 = float(input())\n",
        "  ab2 = float(input())\n",
        "\n",
        "print(\"Fim da execução!\")"
      ],
      "metadata": {
        "id": "s9X6TJeeXQkf",
        "colab": {
          "base_uri": "https://localhost:8080/"
        },
        "outputId": "904867fb-5b8f-4db5-ce13-a314d113bac3"
      },
      "execution_count": null,
      "outputs": [
        {
          "output_type": "stream",
          "name": "stdout",
          "text": [
            "-1\n",
            "9\n",
            "Fim da execução!0\n"
          ]
        }
      ]
    },
    {
      "cell_type": "markdown",
      "source": [
        "> Nós podemos estabelecer também um limite para o número de médias computadas:\n"
      ],
      "metadata": {
        "id": "msZ6Qe5ocFU7"
      }
    },
    {
      "cell_type": "code",
      "source": [
        "#Variavel de controle\n",
        "alunos = 0 \n",
        "#O sistema só permitirá que 3 médias sejam computadas\n",
        "limite = 100  \n",
        "\n",
        "#Forçando o loop infinito\n",
        "while True: \n",
        "  if alunos >= limite:\n",
        "    print('Numero limite de alunos ultrapassado. Processo interrompido!')\n",
        "    break\n",
        "\n",
        "  ab1 = float(input())\n",
        "  ab2 = float(input())\n",
        "  \n",
        "  if ab1<0 or ab2<0:\n",
        "    print('Leitura de nota inválida. Processo interrompido!')\n",
        "    break\n",
        "  \n",
        "  media = (ab1+ab2 )/2\n",
        "  print('A media do aluno é: {:.2f}'.format(media))\n",
        "  \n",
        "  alunos  += 1 #Incrementa a variavel de controle\n",
        "  print(alunos)"
      ],
      "metadata": {
        "id": "TQ9px16CcQe0"
      },
      "execution_count": null,
      "outputs": []
    },
    {
      "cell_type": "markdown",
      "source": [
        "## O comando `continue`\n",
        "\n",
        "Às vezes você não quer sair de um *loop*, mas apenas quer pular para a próxima iteração por algum motivo. \n",
        "\n",
        "Para entender melhor o uso do `continue`, vamos pensar em uma evolução do problema anterior:\n",
        "\n",
        "\n",
        ">Suponha, que você queira omitir a mensagem com a média computada do aluno, caso ele tenha ficado com média inferior a 7.0.\n",
        "\n",
        "\n",
        "\n"
      ],
      "metadata": {
        "id": "r-CbJneBZIY2"
      }
    },
    {
      "cell_type": "code",
      "source": [
        "alunos = 0 # Variavel de controle\n",
        "limite = 3 # O sistema só permitirá que 10 médias sejam computadas\n",
        "\n",
        "while True: #Forçando o loop infinito\n",
        "  \n",
        "  if alunos>=limite:\n",
        "    print('Numero limite de alunos ultrapassado. Processo interrompido!')\n",
        "    break\n",
        "\n",
        "  ab1 = float(input())\n",
        "  ab2 = float(input())\n",
        "  \n",
        "  if ab1<0 or ab2<0:\n",
        "    print('Leitura de nota inválida. Processo interrompido!')\n",
        "    break\n",
        "  \n",
        "  media = (ab1+ab2 )/2\n",
        "  alunos += 1 #Incrementa a variavel de controle\n",
        "\n",
        "  if media<7: #Verifica se a média é inferior a 7 \n",
        "    continue\n",
        "\n",
        "  print('A media do aluno é: {:.2f}'.format(media))\n"
      ],
      "metadata": {
        "id": "sUPhc7aeZVnt"
      },
      "execution_count": null,
      "outputs": []
    },
    {
      "cell_type": "markdown",
      "source": [
        "## Pode haver um `else` no seu *loop*! 😀\n",
        "\n",
        "Se o *loop* `while` terminou normalmente (sem interrupção do tipo break), o controle passa para um `else` opcional. \n",
        "\n",
        "O `else` seria executado se o *loop* `while` fosse concluído, mas o objeto de interesse não fosse encontrado.\n",
        "\n",
        "Rara verificar esse recurso, vamos introduzir aqui um novo problema:\n",
        "\n",
        "\n",
        "\n",
        "> Eu devo receber do usuário um conjunto de 3 valores **ímpares**. Se por acaso, algum destes valores seja par, eu devo interromper o *loop* e emitir uma mensagem para o usuário. Ao final do processo, para me certificar que tudo saiu dentro do esperado, ou seja, todos os números recebidos foram ímpares, eu emito uma mensagem pra o uruário confirmando que todos os números digitados foram ímpares.   "
      ],
      "metadata": {
        "id": "MReEei-PaKrS"
      }
    },
    {
      "cell_type": "code",
      "source": [
        "posicao = 0 #variavel de controle\n",
        "\n",
        "while posicao<3: #Verifica a variavel de controle \n",
        "  num = int(input())\n",
        "\n",
        "  if num%2 == 0: #Verifica se o número lido é par e interrompe o loop\n",
        "    print('Numero par encontrado. Processo interrompido!')\n",
        "    break\n",
        "\n",
        "  posicao += 1 #Incrementa a variavel de controle\n",
        "\n",
        "else:\n",
        "  print('Nenhum número par encontrado. Processo finalizado com sucesso!')"
      ],
      "metadata": {
        "id": "Ev-bwy8za7IU",
        "colab": {
          "base_uri": "https://localhost:8080/"
        },
        "outputId": "5d31040a-5fd8-4efe-f398-0c661aeeae37"
      },
      "execution_count": null,
      "outputs": [
        {
          "output_type": "stream",
          "name": "stdout",
          "text": [
            "2\n",
            "Numero par encontrado. Processo interrompido!\n"
          ]
        }
      ]
    }
  ]
}