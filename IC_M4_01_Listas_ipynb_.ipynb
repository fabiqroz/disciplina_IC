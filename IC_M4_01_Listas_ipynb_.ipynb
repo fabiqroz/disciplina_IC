{
  "nbformat": 4,
  "nbformat_minor": 0,
  "metadata": {
    "colab": {
      "provenance": [],
      "collapsed_sections": [],
      "authorship_tag": "ABX9TyMJcrVLklJnu4b6hgGZ1pXq",
      "include_colab_link": true
    },
    "kernelspec": {
      "name": "python3",
      "display_name": "Python 3"
    },
    "language_info": {
      "name": "python"
    }
  },
  "cells": [
    {
      "cell_type": "markdown",
      "metadata": {
        "id": "view-in-github",
        "colab_type": "text"
      },
      "source": [
        "<a href=\"https://colab.research.google.com/github/fabiqroz/disciplina_IC/blob/main/IC_M4_01_Listas_ipynb_.ipynb\" target=\"_parent\"><img src=\"https://colab.research.google.com/assets/colab-badge.svg\" alt=\"Open In Colab\"/></a>"
      ]
    },
    {
      "cell_type": "markdown",
      "source": [
        "# Desafio Motivacional\n",
        "\n",
        "<img src = \"https://drive.google.com/uc?id=1Gy4XA0dWqpdDVCQc0GbjJ24hJ1GXYuTT\" width = \"1000\">\n",
        "\n"
      ],
      "metadata": {
        "id": "GCceH8VMWDdC"
      }
    },
    {
      "cell_type": "markdown",
      "source": [
        "# Listas"
      ],
      "metadata": {
        "id": "pb1fHmqutWsP"
      }
    },
    {
      "cell_type": "code",
      "execution_count": null,
      "metadata": {
        "id": "dLQVDyeOtFgT"
      },
      "outputs": [],
      "source": [
        "# Atribuindo uma lista a uma variável chamada minha_lista\n",
        "lista = [1,2,3, 5*2]"
      ]
    },
    {
      "cell_type": "code",
      "source": [
        "lista"
      ],
      "metadata": {
        "colab": {
          "base_uri": "https://localhost:8080/"
        },
        "id": "4bBHeX3tfDa9",
        "outputId": "e5cc9ce8-d0ea-4ad4-cbe1-dd136f837331"
      },
      "execution_count": null,
      "outputs": [
        {
          "output_type": "execute_result",
          "data": {
            "text/plain": [
              "[1, 2, 3, 10]"
            ]
          },
          "metadata": {},
          "execution_count": 6
        }
      ]
    },
    {
      "cell_type": "code",
      "source": [
        "# Verificando o tipo da variável lista\n",
        "type(lista)"
      ],
      "metadata": {
        "colab": {
          "base_uri": "https://localhost:8080/"
        },
        "id": "CS1P0R5sJ0cL",
        "outputId": "3e01eb95-b3e5-4a20-e01d-5fc4dc62a82e"
      },
      "execution_count": null,
      "outputs": [
        {
          "output_type": "execute_result",
          "data": {
            "text/plain": [
              "list"
            ]
          },
          "metadata": {},
          "execution_count": 11
        }
      ]
    },
    {
      "cell_type": "markdown",
      "source": [
        "Listas podem ser heterogêneas:"
      ],
      "metadata": {
        "id": "GgbabgiPueHu"
      }
    },
    {
      "cell_type": "code",
      "source": [
        "# Criando listas heterogêneas\n",
        "minha_lista = [1, 4.6, 'maria', True]"
      ],
      "metadata": {
        "id": "3QI5Qs2OubbF"
      },
      "execution_count": null,
      "outputs": []
    },
    {
      "cell_type": "code",
      "source": [
        "minha_lista"
      ],
      "metadata": {
        "colab": {
          "base_uri": "https://localhost:8080/"
        },
        "id": "O44YwsZvfsGb",
        "outputId": "6a4bf72d-afcc-43a0-bef4-728682a3db3b"
      },
      "execution_count": null,
      "outputs": [
        {
          "output_type": "execute_result",
          "data": {
            "text/plain": [
              "[1, 4.6, 'maria', True]"
            ]
          },
          "metadata": {},
          "execution_count": 13
        }
      ]
    },
    {
      "cell_type": "markdown",
      "source": [
        "Assim como as *strings*, a ocomando (funçao) `len()` lhe dirá quantos itens tem em uma lista."
      ],
      "metadata": {
        "id": "b8WrT4w9uqFe"
      }
    },
    {
      "cell_type": "code",
      "source": [
        "# Verificando o tamanho de uma lista\n",
        "len(minha_lista)"
      ],
      "metadata": {
        "colab": {
          "base_uri": "https://localhost:8080/"
        },
        "id": "PnpOvi4Cuymu",
        "outputId": "137fa1ce-42f1-46e6-d30e-77d8627aeed7"
      },
      "execution_count": null,
      "outputs": [
        {
          "output_type": "execute_result",
          "data": {
            "text/plain": [
              "4"
            ]
          },
          "metadata": {},
          "execution_count": 15
        }
      ]
    },
    {
      "cell_type": "code",
      "source": [
        "len(\"maria\")"
      ],
      "metadata": {
        "colab": {
          "base_uri": "https://localhost:8080/"
        },
        "id": "rODUXhEwlVAG",
        "outputId": "80dd720e-850a-4251-abe7-b1c02a0dff52"
      },
      "execution_count": null,
      "outputs": [
        {
          "output_type": "execute_result",
          "data": {
            "text/plain": [
              "5"
            ]
          },
          "metadata": {},
          "execution_count": 40
        }
      ]
    },
    {
      "cell_type": "markdown",
      "source": [
        "## Indexação em listas\n",
        "\n",
        "Indexação e \"fatiamento\" de listas e *strings* funcionam da mesma maneira.\n",
        "\n",
        "Vamos entender como isso funciona a indexação dos elementos em uma string:\n",
        "\n",
        "<img src = \"https://drive.google.com/uc?id=1AH8DJp_IRHn16w5YKS0HWa7UU2wwjxfY\" width = \"400\">\n",
        "\n",
        "\n",
        "E em uma lista:\n",
        "\n",
        "<img src = \"https://drive.google.com/uc?id=1YrEdqb5sXJxrgy5F8YatLEW_DC1OrK7H\" width = \"600\">\n",
        "\n"
      ],
      "metadata": {
        "id": "QkGLAroAu6Na"
      }
    },
    {
      "cell_type": "code",
      "source": [
        "# Criando uma string\n",
        "minha_string = 'Python'\n",
        "\n",
        "# Criando uma lista\n",
        "minha_lista = ['um','dois','tres',4,5]"
      ],
      "metadata": {
        "id": "MvqIloCXu76Q"
      },
      "execution_count": null,
      "outputs": []
    },
    {
      "cell_type": "code",
      "source": [
        "# Primeiro elemento da string\n",
        "minha_string[0]"
      ],
      "metadata": {
        "colab": {
          "base_uri": "https://localhost:8080/",
          "height": 35
        },
        "id": "uT3M4EhbI1gn",
        "outputId": "afca5edc-74ac-4d20-d8d5-b16aa18cc0f0"
      },
      "execution_count": null,
      "outputs": [
        {
          "output_type": "execute_result",
          "data": {
            "text/plain": [
              "'n'"
            ],
            "application/vnd.google.colaboratory.intrinsic+json": {
              "type": "string"
            }
          },
          "metadata": {},
          "execution_count": 19
        }
      ]
    },
    {
      "cell_type": "code",
      "source": [
        "# Primeiro elemento da lista\n",
        "minha_lista[0]"
      ],
      "metadata": {
        "colab": {
          "base_uri": "https://localhost:8080/",
          "height": 35
        },
        "id": "iGYqXRSmGbqT",
        "outputId": "347bf4a7-66ac-4d3e-9d77-019c9372c71e"
      },
      "execution_count": null,
      "outputs": [
        {
          "output_type": "execute_result",
          "data": {
            "text/plain": [
              "'um'"
            ],
            "application/vnd.google.colaboratory.intrinsic+json": {
              "type": "string"
            }
          },
          "metadata": {},
          "execution_count": 20
        }
      ]
    },
    {
      "cell_type": "code",
      "source": [
        "# Primeiro elemento da string e da lista (da direita para a esquerda)\n",
        "print(minha_string[-1])\n",
        "print(minha_lista[-1])"
      ],
      "metadata": {
        "colab": {
          "base_uri": "https://localhost:8080/"
        },
        "id": "O5MBYT0gOTcT",
        "outputId": "f6d14d0a-ebfc-41f9-e3d7-27d0e5bb1ccc"
      },
      "execution_count": null,
      "outputs": [
        {
          "output_type": "stream",
          "name": "stdout",
          "text": [
            "n\n",
            "5\n"
          ]
        }
      ]
    },
    {
      "cell_type": "code",
      "source": [
        "# Segundo e terceiros elementos da string e da lista \n",
        "print(minha_string[1:3])\n",
        "print(minha_lista[1:3])"
      ],
      "metadata": {
        "colab": {
          "base_uri": "https://localhost:8080/"
        },
        "id": "fqZOt3laN5n_",
        "outputId": "ae43091d-d91e-4fb7-c4b8-eb1eb054e201"
      },
      "execution_count": null,
      "outputs": [
        {
          "output_type": "stream",
          "name": "stdout",
          "text": [
            "yt\n",
            "['dois', 'tres']\n"
          ]
        }
      ]
    },
    {
      "cell_type": "code",
      "source": [
        "# Os tres primeiros elementos da string e da lista \n",
        "print(minha_string[:3])\n",
        "print(minha_lista[:3])"
      ],
      "metadata": {
        "colab": {
          "base_uri": "https://localhost:8080/"
        },
        "id": "fniROQtjJX8j",
        "outputId": "ebc6e938-2eff-4549-9e7b-fe8496054689"
      },
      "execution_count": null,
      "outputs": [
        {
          "output_type": "stream",
          "name": "stdout",
          "text": [
            "Pyt\n",
            "['um', 'dois', 'tres']\n"
          ]
        }
      ]
    },
    {
      "cell_type": "code",
      "source": [
        "# Os tres ultimos elementos da string e da lista \n",
        "print(minha_string[3:])\n",
        "print(minha_lista[3:])"
      ],
      "metadata": {
        "id": "WnzSeR18JNKz",
        "colab": {
          "base_uri": "https://localhost:8080/"
        },
        "outputId": "583a613c-4721-45c2-cb07-48b73c2a2b8a"
      },
      "execution_count": null,
      "outputs": [
        {
          "output_type": "stream",
          "name": "stdout",
          "text": [
            "hon\n",
            "[4, 5]\n"
          ]
        }
      ]
    },
    {
      "cell_type": "markdown",
      "source": [
        "Perceba que a indexação de listas retornará um erro se não houver nenhum item nesse índice. Por exemplo:"
      ],
      "metadata": {
        "id": "aXC9hgJSNoE3"
      }
    },
    {
      "cell_type": "code",
      "source": [
        "minha_lista[10]\n"
      ],
      "metadata": {
        "colab": {
          "base_uri": "https://localhost:8080/",
          "height": 203
        },
        "id": "EBIzYRSMNj6a",
        "outputId": "96754310-7c7d-4505-b479-1a676b687a79"
      },
      "execution_count": null,
      "outputs": [
        {
          "output_type": "error",
          "ename": "IndexError",
          "evalue": "ignored",
          "traceback": [
            "\u001b[0;31m---------------------------------------------------------------------------\u001b[0m",
            "\u001b[0;31mIndexError\u001b[0m                                Traceback (most recent call last)",
            "\u001b[0;32m<ipython-input-27-d9c7c7a1bbd2>\u001b[0m in \u001b[0;36m<module>\u001b[0;34m\u001b[0m\n\u001b[0;32m----> 1\u001b[0;31m \u001b[0mminha_lista\u001b[0m\u001b[0;34m[\u001b[0m\u001b[0;36m10\u001b[0m\u001b[0;34m]\u001b[0m\u001b[0;34m\u001b[0m\u001b[0;34m\u001b[0m\u001b[0m\n\u001b[0m",
            "\u001b[0;31mIndexError\u001b[0m: list index out of range"
          ]
        }
      ]
    },
    {
      "cell_type": "markdown",
      "source": [
        "<img src = \"https://drive.google.com/uc?id=1xKxbRypQVkHMwdcV19sVSOQ8nCev12kw\" width = \"300\">"
      ],
      "metadata": {
        "id": "VUiABeBaNv4G"
      }
    },
    {
      "cell_type": "markdown",
      "source": [
        "## Concatenando listas"
      ],
      "metadata": {
        "id": "iGdYMeRjSWw6"
      }
    },
    {
      "cell_type": "markdown",
      "source": [
        "Também podemos usar operador `+` para concatenar listas, assim como fizemos para *strings*."
      ],
      "metadata": {
        "id": "GrlhpKn5JkhO"
      }
    },
    {
      "cell_type": "code",
      "source": [
        "lista2 = minha_lista + minha_lista\n",
        "minha_lista"
      ],
      "metadata": {
        "colab": {
          "base_uri": "https://localhost:8080/"
        },
        "id": "G-I8gZgZJpPO",
        "outputId": "e13c3a3c-1f5f-46b4-ba70-11903e30cc18"
      },
      "execution_count": null,
      "outputs": [
        {
          "output_type": "execute_result",
          "data": {
            "text/plain": [
              "['um', 'dois', 'tres', 4, 5]"
            ]
          },
          "metadata": {},
          "execution_count": 31
        }
      ]
    },
    {
      "cell_type": "markdown",
      "source": [
        "O mesmo serve para o operador `*` para replicar o conteúdo de uma lista."
      ],
      "metadata": {
        "id": "XncapzXjKl1h"
      }
    },
    {
      "cell_type": "code",
      "source": [
        "[\"ha\"]*5"
      ],
      "metadata": {
        "colab": {
          "base_uri": "https://localhost:8080/"
        },
        "id": "zHGBttSpKuC5",
        "outputId": "37f9c14e-3498-4400-83da-9c54ba732e80"
      },
      "execution_count": null,
      "outputs": [
        {
          "output_type": "execute_result",
          "data": {
            "text/plain": [
              "['ha', 'ha', 'ha', 'ha', 'ha']"
            ]
          },
          "metadata": {},
          "execution_count": 29
        }
      ]
    },
    {
      "cell_type": "markdown",
      "source": [
        "Perceba que as duas  ações  anteriore não alteraram o conteúdo original das listas."
      ],
      "metadata": {
        "id": "2Jjx--xIKJMQ"
      }
    },
    {
      "cell_type": "code",
      "source": [
        "minha_lista"
      ],
      "metadata": {
        "colab": {
          "base_uri": "https://localhost:8080/"
        },
        "id": "wwSpKUCWKQMi",
        "outputId": "b0fb2931-92ab-436d-e8e2-83b7ff64b7cb"
      },
      "execution_count": null,
      "outputs": [
        {
          "output_type": "execute_result",
          "data": {
            "text/plain": [
              "['um', 'dois', 'tres', 4, 5]"
            ]
          },
          "metadata": {},
          "execution_count": 35
        }
      ]
    },
    {
      "cell_type": "markdown",
      "source": [
        "Contudo, listas, como qualquer outra variável, pode ser sobrescrita. "
      ],
      "metadata": {
        "id": "vW0dzbECKTXM"
      }
    },
    {
      "cell_type": "code",
      "source": [
        "minha_lista = [1,0]"
      ],
      "metadata": {
        "id": "zW0iNNNjKH74"
      },
      "execution_count": null,
      "outputs": []
    },
    {
      "cell_type": "code",
      "source": [
        "minha_lista"
      ],
      "metadata": {
        "colab": {
          "base_uri": "https://localhost:8080/"
        },
        "id": "y9kDfLfJKX4B",
        "outputId": "08e54e76-8bdd-4c80-b193-06fbc3b6b961"
      },
      "execution_count": null,
      "outputs": [
        {
          "output_type": "execute_result",
          "data": {
            "text/plain": [
              "[1, 0]"
            ]
          },
          "metadata": {},
          "execution_count": 33
        }
      ]
    },
    {
      "cell_type": "markdown",
      "source": [
        "# Funções embutidas (Built-in ) para se trabalhar com listas\n",
        "\n",
        "Vamos em frente e explorar alguns métodos mais especiais para objetos do tipo `list`:"
      ],
      "metadata": {
        "id": "fZnrzdRpLFO5"
      }
    },
    {
      "cell_type": "code",
      "source": [
        "lista = [1,2,3]"
      ],
      "metadata": {
        "id": "iXInJ8MSLqLt"
      },
      "execution_count": null,
      "outputs": []
    },
    {
      "cell_type": "code",
      "source": [
        "lista"
      ],
      "metadata": {
        "colab": {
          "base_uri": "https://localhost:8080/"
        },
        "id": "EHFlfkXtMe29",
        "outputId": "975eed1a-a455-4fca-c7bd-4a6dff13bfe7"
      },
      "execution_count": null,
      "outputs": [
        {
          "output_type": "execute_result",
          "data": {
            "text/plain": [
              "[1, 2, 3]"
            ]
          },
          "metadata": {},
          "execution_count": 36
        }
      ]
    },
    {
      "cell_type": "markdown",
      "source": [
        "## O método `append()`\n",
        "\n",
        "Nós utilizamos o método `append()` para adicionar um novo item, permanentemente, ao final de uma lista:\n"
      ],
      "metadata": {
        "id": "JufyYkNZMKG9"
      }
    },
    {
      "cell_type": "code",
      "source": [
        "lista.append(4)"
      ],
      "metadata": {
        "id": "EJmTrDcyMP7C"
      },
      "execution_count": null,
      "outputs": []
    },
    {
      "cell_type": "code",
      "source": [
        "lista"
      ],
      "metadata": {
        "colab": {
          "base_uri": "https://localhost:8080/"
        },
        "id": "NKYG5CquMcD6",
        "outputId": "127e2852-4d59-4bfb-d1de-8c1e5eb8c40f"
      },
      "execution_count": null,
      "outputs": [
        {
          "output_type": "execute_result",
          "data": {
            "text/plain": [
              "[1, 2, 3, 4]"
            ]
          },
          "metadata": {},
          "execution_count": 38
        }
      ]
    },
    {
      "cell_type": "markdown",
      "source": [
        "## O método `extend()`\n",
        "\n",
        "Nós utilizamos o método `extend()` para adicionar uma outra lista, permanentemente, ao final de uma lista:"
      ],
      "metadata": {
        "id": "Ktjb9N74RidZ"
      }
    },
    {
      "cell_type": "code",
      "source": [
        "lista.extend([5,6,7])"
      ],
      "metadata": {
        "id": "PbUbdBVKR6C9"
      },
      "execution_count": null,
      "outputs": []
    },
    {
      "cell_type": "code",
      "source": [
        "lista"
      ],
      "metadata": {
        "colab": {
          "base_uri": "https://localhost:8080/"
        },
        "id": "SI_1VR_xSHAo",
        "outputId": "9146a157-c0e9-4fe1-bb88-3bd7cd338f88"
      },
      "execution_count": null,
      "outputs": [
        {
          "output_type": "execute_result",
          "data": {
            "text/plain": [
              "[1, 2, 3, 4, 5, 6, 7]"
            ]
          },
          "metadata": {},
          "execution_count": 40
        }
      ]
    },
    {
      "cell_type": "markdown",
      "source": [
        "## O método `pop()`\n",
        "\n",
        "Usamos o método `pop()` para remover um item da lista. Por padrão, o `pop()` remove o último item da lista, mas você também pode especificar o índice do item a ser removido. Vejamos um exemplo:"
      ],
      "metadata": {
        "id": "jt0mV_IxM3EK"
      }
    },
    {
      "cell_type": "code",
      "source": [
        "lista.pop()"
      ],
      "metadata": {
        "colab": {
          "base_uri": "https://localhost:8080/"
        },
        "id": "iMtqlflfNJm8",
        "outputId": "7f2302f3-ff0d-4e6a-82d1-10b1eeb458e2"
      },
      "execution_count": null,
      "outputs": [
        {
          "output_type": "execute_result",
          "data": {
            "text/plain": [
              "7"
            ]
          },
          "metadata": {},
          "execution_count": 41
        }
      ]
    },
    {
      "cell_type": "code",
      "source": [
        "lista"
      ],
      "metadata": {
        "colab": {
          "base_uri": "https://localhost:8080/"
        },
        "id": "RwdBfcEANSXK",
        "outputId": "762e2f69-1151-4af7-c06f-51bd8febc559"
      },
      "execution_count": null,
      "outputs": [
        {
          "output_type": "execute_result",
          "data": {
            "text/plain": [
              "[1, 2, 3, 4, 5, 6]"
            ]
          },
          "metadata": {},
          "execution_count": 42
        }
      ]
    },
    {
      "cell_type": "code",
      "source": [
        "lista.pop(-1)"
      ],
      "metadata": {
        "colab": {
          "base_uri": "https://localhost:8080/"
        },
        "id": "JwEnoLujNUXR",
        "outputId": "92a7ffd8-c824-4fd6-c4e1-ee0b96d9fe8f"
      },
      "execution_count": null,
      "outputs": [
        {
          "output_type": "execute_result",
          "data": {
            "text/plain": [
              "6"
            ]
          },
          "metadata": {},
          "execution_count": 45
        }
      ]
    },
    {
      "cell_type": "code",
      "source": [
        "lista"
      ],
      "metadata": {
        "colab": {
          "base_uri": "https://localhost:8080/"
        },
        "id": "29LPpIRrNYIO",
        "outputId": "fd0d0742-5e0f-4f0e-d4fd-1e6d364c1f65"
      },
      "execution_count": null,
      "outputs": [
        {
          "output_type": "execute_result",
          "data": {
            "text/plain": [
              "[2, 3, 4, 5, 6]"
            ]
          },
          "metadata": {},
          "execution_count": 44
        }
      ]
    },
    {
      "cell_type": "markdown",
      "source": [
        "## O comando `remove()`\n",
        "\n",
        "Nós utilizamos o método `remove()` para remover um item pelo seu valor:"
      ],
      "metadata": {
        "id": "VP0wBpkSSMv_"
      }
    },
    {
      "cell_type": "code",
      "source": [
        "lista.remove(2)"
      ],
      "metadata": {
        "id": "w1EKl5gzSgbx"
      },
      "execution_count": null,
      "outputs": []
    },
    {
      "cell_type": "code",
      "source": [
        "lista"
      ],
      "metadata": {
        "colab": {
          "base_uri": "https://localhost:8080/"
        },
        "id": "DN8QlWI8SP27",
        "outputId": "804738bd-1dcc-4cff-f816-e1cc04851c0e"
      },
      "execution_count": null,
      "outputs": [
        {
          "output_type": "execute_result",
          "data": {
            "text/plain": [
              "[3, 4, 5]"
            ]
          },
          "metadata": {},
          "execution_count": 47
        }
      ]
    },
    {
      "cell_type": "code",
      "source": [
        "lista.extend([10, 9 , 10])"
      ],
      "metadata": {
        "id": "GwDKu8nKmiGo"
      },
      "execution_count": null,
      "outputs": []
    },
    {
      "cell_type": "code",
      "source": [
        "lista"
      ],
      "metadata": {
        "colab": {
          "base_uri": "https://localhost:8080/"
        },
        "id": "170Jla-smo44",
        "outputId": "120ce724-d426-4164-9ddf-d67e761e6cae"
      },
      "execution_count": null,
      "outputs": [
        {
          "output_type": "execute_result",
          "data": {
            "text/plain": [
              "[3, 4, 5, 10, 9, 10]"
            ]
          },
          "metadata": {},
          "execution_count": 49
        }
      ]
    },
    {
      "cell_type": "code",
      "source": [
        "lista.remove(10)"
      ],
      "metadata": {
        "id": "HNQi8HE2mqlN"
      },
      "execution_count": null,
      "outputs": []
    },
    {
      "cell_type": "code",
      "source": [
        "lista"
      ],
      "metadata": {
        "colab": {
          "base_uri": "https://localhost:8080/"
        },
        "id": "qPBJ4XW6mtWU",
        "outputId": "156a51de-1d24-4091-a7cc-431d7fd9a6b6"
      },
      "execution_count": null,
      "outputs": [
        {
          "output_type": "execute_result",
          "data": {
            "text/plain": [
              "[3, 4, 5, 9, 10]"
            ]
          },
          "metadata": {},
          "execution_count": 51
        }
      ]
    },
    {
      "cell_type": "markdown",
      "source": [
        "## o comando `clear()`"
      ],
      "metadata": {
        "id": "liSuMUpiZy2n"
      }
    },
    {
      "cell_type": "code",
      "source": [
        "lista.clear()"
      ],
      "metadata": {
        "id": "TsEmSucUZ1tW"
      },
      "execution_count": null,
      "outputs": []
    },
    {
      "cell_type": "code",
      "source": [
        "lista"
      ],
      "metadata": {
        "id": "4P1n3IuqZ4b1",
        "outputId": "5b137975-33ff-4964-fd42-5f23e8993ad6",
        "colab": {
          "base_uri": "https://localhost:8080/"
        }
      },
      "execution_count": null,
      "outputs": [
        {
          "output_type": "execute_result",
          "data": {
            "text/plain": [
              "[]"
            ]
          },
          "metadata": {},
          "execution_count": 53
        }
      ]
    },
    {
      "cell_type": "code",
      "source": [
        "len(lista)"
      ],
      "metadata": {
        "colab": {
          "base_uri": "https://localhost:8080/"
        },
        "id": "M54nj1ESnCra",
        "outputId": "f904802a-d255-4b1e-9632-facc10203d09"
      },
      "execution_count": null,
      "outputs": [
        {
          "output_type": "execute_result",
          "data": {
            "text/plain": [
              "0"
            ]
          },
          "metadata": {},
          "execution_count": 54
        }
      ]
    },
    {
      "cell_type": "code",
      "source": [
        "lista2 = []"
      ],
      "metadata": {
        "id": "-hGIA6KZnF-R"
      },
      "execution_count": null,
      "outputs": []
    },
    {
      "cell_type": "code",
      "source": [
        "lista2"
      ],
      "metadata": {
        "colab": {
          "base_uri": "https://localhost:8080/"
        },
        "id": "P9tJWJonnIia",
        "outputId": "6a1170ee-dce0-48e3-8795-bc23ac2da485"
      },
      "execution_count": null,
      "outputs": [
        {
          "output_type": "execute_result",
          "data": {
            "text/plain": [
              "[]"
            ]
          },
          "metadata": {},
          "execution_count": 56
        }
      ]
    }
  ]
}