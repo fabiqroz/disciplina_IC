{
  "nbformat": 4,
  "nbformat_minor": 0,
  "metadata": {
    "colab": {
      "provenance": [],
      "authorship_tag": "ABX9TyPELFhBsITlxo9Buys88H+X",
      "include_colab_link": true
    },
    "kernelspec": {
      "name": "python3",
      "display_name": "Python 3"
    },
    "language_info": {
      "name": "python"
    }
  },
  "cells": [
    {
      "cell_type": "markdown",
      "metadata": {
        "id": "view-in-github",
        "colab_type": "text"
      },
      "source": [
        "<a href=\"https://colab.research.google.com/github/fabiqroz/introducao_computacao/blob/main/IC_M1_exercicios.ipynb\" target=\"_parent\"><img src=\"https://colab.research.google.com/assets/colab-badge.svg\" alt=\"Open In Colab\"/></a>"
      ]
    },
    {
      "cell_type": "markdown",
      "source": [
        "# Lista de Exercícios - Módulo 1 (Soluções)"
      ],
      "metadata": {
        "id": "CxdJUUUiC9in"
      }
    },
    {
      "cell_type": "markdown",
      "source": [
        "## 1000"
      ],
      "metadata": {
        "id": "9CM2IZ6hDDcS"
      }
    },
    {
      "cell_type": "code",
      "execution_count": null,
      "metadata": {
        "colab": {
          "base_uri": "https://localhost:8080/"
        },
        "id": "wkhSHmxa_nPS",
        "outputId": "f75cc9f6-8a8b-43d8-c6a2-4c2e6643d428"
      },
      "outputs": [
        {
          "output_type": "stream",
          "name": "stdout",
          "text": [
            "Hello World!\n"
          ]
        }
      ],
      "source": [
        "print(\"Hello World!\")"
      ]
    },
    {
      "cell_type": "code",
      "source": [
        "from google.colab import drive\n",
        "drive.mount('/content/drive')"
      ],
      "metadata": {
        "id": "PChpNnRL3RgT"
      },
      "execution_count": null,
      "outputs": []
    },
    {
      "cell_type": "markdown",
      "source": [
        "## 1001"
      ],
      "metadata": {
        "id": "rGwGGlANDMbq"
      }
    },
    {
      "cell_type": "code",
      "source": [
        "a = int(input())\n",
        "b= int(input())\n",
        "\n",
        "x = a+b\n",
        "\n",
        "print('X = {}'.format(x))"
      ],
      "metadata": {
        "id": "DScxZwGLDNqA"
      },
      "execution_count": null,
      "outputs": []
    },
    {
      "cell_type": "markdown",
      "source": [
        "## 1002"
      ],
      "metadata": {
        "id": "JDXy5_FKHXrJ"
      }
    },
    {
      "cell_type": "code",
      "source": [
        "raio =  float(input())\n",
        "\n",
        "pi = 3.14159\n",
        "\n",
        "area = pi*(raio**2)\n",
        "\n",
        "print('A={}'.format(area))\n",
        "\n"
      ],
      "metadata": {
        "colab": {
          "base_uri": "https://localhost:8080/"
        },
        "id": "AJrnSMsMHZoR",
        "outputId": "11b3a83d-3458-4d80-f129-f1ff4d4703b5"
      },
      "execution_count": null,
      "outputs": [
        {
          "output_type": "stream",
          "name": "stdout",
          "text": [
            "7\n",
            "A=153.93791\n"
          ]
        }
      ]
    },
    {
      "cell_type": "markdown",
      "source": [
        "## 1004"
      ],
      "metadata": {
        "id": "Ssx_hS3LGBTP"
      }
    },
    {
      "cell_type": "code",
      "source": [
        "a = input()\n",
        "b= input()\n",
        "\n",
        "x = a*3\n",
        "\n",
        "print('PROD = {}'.format(x))"
      ],
      "metadata": {
        "id": "nPAi0TWUGCVI"
      },
      "execution_count": null,
      "outputs": []
    },
    {
      "cell_type": "markdown",
      "source": [
        "## 1006"
      ],
      "metadata": {
        "id": "k9xi-MIUGDUO"
      }
    },
    {
      "cell_type": "code",
      "source": [
        "a = float(input())\n",
        "b = float(input())\n",
        "c = float(input())\n",
        "\n",
        "media = (2*a + 3*b + 5*c)/10\n",
        "\n",
        "print('MEDIA = {:.1f}'.format(media))"
      ],
      "metadata": {
        "id": "ATsSEFlZGFtd"
      },
      "execution_count": null,
      "outputs": []
    },
    {
      "cell_type": "markdown",
      "source": [
        "## 1010"
      ],
      "metadata": {
        "id": "jRqr9_YdJ43z"
      }
    },
    {
      "cell_type": "code",
      "source": [
        "peca_1, num_peca_1, valor_peca_1 = map(float, input().split())\n",
        "peca_2, num_peca_2, valor_peca_2 = map(float, input().split())\n",
        "\n",
        "peca_1 = int(peca_1)\n",
        "num_peca_1 = int(num_peca_1)\n",
        "peca_2 = int(peca_2)\n",
        "num_peca_2 = int(num_peca_2)\n",
        "\n",
        "total_pago = (num_peca_1*valor_peca_1) + (num_peca_2*valor_peca_2)\n",
        "\n",
        "\n",
        "print('VALOR A PAGAR: R$ {:.2f}'.format(total_pago))"
      ],
      "metadata": {
        "colab": {
          "base_uri": "https://localhost:8080/"
        },
        "id": "4-1G0glhJ6bD",
        "outputId": "ed584cce-d86c-477b-f78e-f23022dafc47"
      },
      "execution_count": null,
      "outputs": [
        {
          "output_type": "stream",
          "name": "stdout",
          "text": [
            "12 1 5.30\n",
            "16 2 5.10\n",
            "VALOR A PAGAR: R$ 15.50\n"
          ]
        }
      ]
    },
    {
      "cell_type": "markdown",
      "source": [
        "## 1014\n"
      ],
      "metadata": {
        "id": "1tnCFk60KxYn"
      }
    },
    {
      "cell_type": "code",
      "source": [
        "distancia = int(input())\n",
        "litros = float(input())\n",
        "\n",
        "dis_lit = distancia/litros\n",
        "\n",
        "print('{:.3f} km/l'.format(dis_lit))"
      ],
      "metadata": {
        "colab": {
          "base_uri": "https://localhost:8080/"
        },
        "id": "eecMLH9mK1nj",
        "outputId": "09a0958f-2745-4213-ae7f-0897d8e24310"
      },
      "execution_count": null,
      "outputs": [
        {
          "output_type": "stream",
          "name": "stdout",
          "text": [
            "500\n",
            "35\n",
            "14.286 km/l\n"
          ]
        }
      ]
    },
    {
      "cell_type": "markdown",
      "source": [
        "## 1017"
      ],
      "metadata": {
        "id": "oTmbxsoIMqAe"
      }
    },
    {
      "cell_type": "markdown",
      "source": [
        "### Solução 1:\n",
        "\n",
        "Essa solução apresenta um erro numérico por causa da quantida"
      ],
      "metadata": {
        "id": "yUCYYoRKgKRf"
      }
    },
    {
      "cell_type": "code",
      "source": [
        "tempo_viagem = int(input()) #h\n",
        "vel_media = int(input()) #km/h\n",
        "\n",
        "consumo = 12 #km/l\n",
        "\n",
        "distancia = tempo_viagem*vel_media #km\n",
        "\n",
        "listros_gastos = distancia/consumo #l\n",
        "\n",
        "print('{:.3f}'.format(listros_gastos))\n",
        "\n"
      ],
      "metadata": {
        "colab": {
          "base_uri": "https://localhost:8080/"
        },
        "id": "7EqIA_LZMr1Q",
        "outputId": "92d9688c-83a9-4191-e866-cdb28c75db0f"
      },
      "execution_count": null,
      "outputs": [
        {
          "output_type": "stream",
          "name": "stdout",
          "text": [
            "10\n",
            "85\n",
            "70.833\n"
          ]
        }
      ]
    },
    {
      "cell_type": "markdown",
      "source": [
        "## 1021"
      ],
      "metadata": {
        "id": "NXmX-_YSM3bh"
      }
    },
    {
      "cell_type": "markdown",
      "source": [
        "### Solução 1: Esta solução, apesar de correta algoritmicamente, não é aceita pelo beecrowd devido a um arro numérico descrito a sequir:\n",
        "\n",
        "As sucessivas divisões de dois números com parte decimal acarretam em alguns erros de arredondamento que vão se acumulando a medida que as divisões vão sendo executasdas. Isso pode ser verificado olhando-se o valor da sobra na ultima divisão. Para a entrada $567.73$, a sobra, ao invés de ser zero, apresenta-se como um número muito proximo a zero, porém diferente de zero: $1.817816730476096e-14$ (aprox. $1.8 * 10^{-14}$)\n",
        "\n"
      ],
      "metadata": {
        "id": "WiRcVwlbiH_v"
      }
    },
    {
      "cell_type": "code",
      "source": [
        "valor = float(input())\n",
        "\n",
        "# Separando as notas\n",
        "n_notas_100 = valor//100\n",
        "sobra = valor%100\n",
        "\n",
        "n_notas_50 = sobra//50\n",
        "sobra = sobra%50\n",
        "\n",
        "n_notas_20 = sobra//20\n",
        "sobra = sobra%20\n",
        "\n",
        "n_notas_10 = sobra//10\n",
        "sobra = sobra%10\n",
        "\n",
        "n_notas_5 = sobra//5\n",
        "sobra = sobra%5\n",
        "\n",
        "n_notas_2 = sobra//2\n",
        "sobra = sobra%2\n",
        "\n",
        "print('NOTAS:')\n",
        "print('{} nota(s) de R$ 100.00'.format(int(n_notas_100)))\n",
        "print('{} nota(s) de R$ 50.00'.format(int(n_notas_50)))\n",
        "print('{} nota(s) de R$ 20.00'.format(int(n_notas_20)))\n",
        "print('{} nota(s) de R$ 10.00'.format(int(n_notas_10)))\n",
        "print('{} nota(s) de R$ 5.00'.format(int(n_notas_5)))\n",
        "print('{} nota(s) de R$ 2.00'.format(int(n_notas_2)))\n",
        "\n",
        "# Separando as moedas\n",
        "n_moedas_1 = sobra//1\n",
        "sobra = sobra%1\n",
        "\n",
        "n_moedas_050 = sobra//0.5\n",
        "sobra = sobra%0.5\n",
        "\n",
        "n_moedas_025 = sobra//0.25\n",
        "sobra = sobra%0.25\n",
        "\n",
        "n_moedas_010 = sobra//0.10\n",
        "sobra = sobra%0.10\n",
        "\n",
        "n_moedas_005 = sobra//0.05\n",
        "sobra = sobra%0.05\n",
        "\n",
        "#print(sobra)\n",
        "\n",
        "# correção dos erros de arredendamento\n",
        "\n",
        "# arredondamos o valor da variável sobra para um número\n",
        "#com duas casas decimais após o ponto decimal\n",
        "sobra = round(sobra,2)\n",
        "\n",
        "#convertemos tudo para moedas\n",
        "sobra = sobra*1000\n",
        "\n",
        "# contamos quantas moedas restaram\n",
        "n_moedas_001 = sobra//10\n",
        "sobra = sobra%10\n",
        "\n",
        "print('MOEDAS:')\n",
        "print('{} moeda(s) de R$ 1.00'.format(int(n_moedas_1)))\n",
        "print('{} moeda(s) de R$ 0.50'.format(int(n_moedas_050)))\n",
        "print('{} moeda(s) de R$ 0.25'.format(int(n_moedas_025)))\n",
        "print('{} moeda(s) de R$ 0.10'.format(int(n_moedas_010)))\n",
        "print('{} moeda(s) de R$ 0.05'.format(int(n_moedas_005)))\n",
        "print('{} moeda(s) de R$ 0.01'.format(int(n_moedas_001)))\n"
      ],
      "metadata": {
        "id": "2oChTtvEM52H"
      },
      "execution_count": null,
      "outputs": []
    },
    {
      "cell_type": "markdown",
      "source": [
        "### Solução 2: esta solução evita os erros de arredondamento"
      ],
      "metadata": {
        "id": "KLrZw0ssUZ8n"
      }
    },
    {
      "cell_type": "code",
      "source": [
        "valor = float(input())\n",
        "\n",
        "'''Primeiro, iremos converter tudo para moedas de um centavo.\n",
        "Dessa forma iremos trabalhar sempre com números inteiros e\n",
        "evitaremos os erros de arredendamento'''\n",
        "\n",
        "# Agora convertemos nossas notas para moedas (1 real == 100 centavos)\n",
        "\n",
        "total_moedas = valor*100\n",
        "print('total: ', total_moedas)\n",
        "\n",
        "# Agora que temos apenas moedas, a lógica da divisão é:\n",
        "\n",
        "# Notas de 100 são obtivas pela divisão por 10000:\n",
        "n_notas_100 = total_moedas/10000\n",
        "sobra = total_moedas%10000\n",
        "print('{} nota(s) de R$ 100.00'.format(int(n_notas_100)))\n",
        "\n",
        "# Notas de 50 são obtidas pela divisão por 5000\n",
        "n_notas_50 = sobra/5000\n",
        "sobra = sobra%5000\n",
        "print('{} nota(s) de R$ 50.00'.format(int(n_notas_50)))\n",
        "\n",
        "# Notas de 20 são obtidas pela divisão por 2000\n",
        "n_notas_20 = sobra/2000\n",
        "sobra = sobra%2000\n",
        "print('{} nota(s) de R$ 20.00'.format(int(n_notas_20)))\n",
        "\n",
        "# Notas de 10 são obtidas pela divisão por 1000\n",
        "n_notas_10 = sobra/1000\n",
        "sobra = sobra%1000\n",
        "print('{} nota(s) de R$ 10.00'.format(int(n_notas_10)))\n",
        "\n",
        "# Notas de 5 são obtidas pela divisão por 500\n",
        "n_notas_5 = sobra/500\n",
        "sobra = sobra%500\n",
        "print('{} nota(s) de R$ 5.00'.format(int(n_notas_5)))\n",
        "\n",
        "# Notas de 2 são obtidas pela divisão por 200\n",
        "n_notas_2 = sobra/200\n",
        "sobra = sobra%200\n",
        "print('{} nota(s) de R$ 2.00'.format(int(n_notas_2)))\n",
        "\n",
        "# Moedas de 1 são obtidas pela divisão por 100\n",
        "n_notas_1 = sobra/100\n",
        "sobra = sobra%100\n",
        "print('{} moeda(s) de R$ 1.00'.format(int(n_notas_1)))\n",
        "\n",
        "# Moedas de 0.5 são obtidas pela divisão por 50\n",
        "n_notas_05 = sobra/50\n",
        "sobra = sobra%50\n",
        "print('{} moeda(s) de R$ 0.50'.format(int(n_notas_05)))\n",
        "\n",
        "# Moedas de 0.25 são obtidas pela divisão por 25\n",
        "n_notas_025 = sobra/25\n",
        "sobra = sobra%25\n",
        "print('{} moeda(s) de R$ 0.25'.format(int(n_notas_025)))\n",
        "\n",
        "# Moedas de 0.10 são obtidas pela divisão por 10\n",
        "n_notas_010 = sobra/10\n",
        "sobra = sobra%10\n",
        "print('{} moeda(s) de R$ 0.10'.format(int(n_notas_010)))\n",
        "\n",
        "# Moedas de 0.05 são obtidas pela divisão por 5\n",
        "n_notas_005 = sobra/5\n",
        "sobra = sobra%5\n",
        "print('{} moeda(s) de R$ 0.05'.format(int(n_notas_005)))\n",
        "\n",
        "# Moedas de 0.01 são o resto das moedas que sobraram\n",
        "n_notas_001 = sobra\n",
        "print('{} moeda(s) de R$ 0.01'.format(int(n_notas_001)))"
      ],
      "metadata": {
        "id": "2a1vQhhtSqpw"
      },
      "execution_count": null,
      "outputs": []
    },
    {
      "cell_type": "markdown",
      "source": [
        "## 1061"
      ],
      "metadata": {
        "id": "Ra6EABOqPg78"
      }
    },
    {
      "cell_type": "markdown",
      "source": [
        "<font color='red'>Questão não finalizada. Retomaremos depois de vermos condições!</font>"
      ],
      "metadata": {
        "id": "4mnYp94ODRay"
      }
    },
    {
      "cell_type": "code",
      "source": [
        "# lendo as entradas\n",
        "\n",
        "'''Ex:\n",
        "   Dia 5\n",
        "   08 : 12 : 23\n",
        "   Dia 9\n",
        "   06 : 13 : 23'''\n",
        "\n",
        "dia_inicio = int(input('Dia: '))\n",
        "h_ini, min_ini, seg_ini = map(int, input().split(' : '))\n",
        "\n",
        "dia_fim = int(input('Dia: '))\n",
        "h_fim, min_fim, seg_fim = map(int, input().split(' : '))\n"
      ],
      "metadata": {
        "colab": {
          "base_uri": "https://localhost:8080/"
        },
        "id": "em7NN-lnPiFO",
        "outputId": "344583b2-885d-4af3-f75f-1f7a24fa7159"
      },
      "execution_count": null,
      "outputs": [
        {
          "name": "stdout",
          "output_type": "stream",
          "text": [
            "Dia: 5\n",
            "8 : 12 : 23\n",
            "Dia: 9\n",
            "6 : 13 : 23\n"
          ]
        }
      ]
    },
    {
      "cell_type": "code",
      "source": [
        "#check das entradas\n",
        "\n",
        "print(h_ini, min_ini, seg_ini, h_fim, min_fim, seg_fim )"
      ],
      "metadata": {
        "id": "N4DqznRVQT2-"
      },
      "execution_count": null,
      "outputs": []
    },
    {
      "cell_type": "code",
      "source": [
        "dias = dia_fim - dia_inicio\n",
        "\n",
        "# Aqui usamos a mesma lógica do problema das moedas e convertemos tudo para\n",
        "#segundos afim de evitar erros de arredondamento:\n",
        "\n",
        "# 1 dia == 24h, 1h == 60min, 1m == 60s\n",
        "q_seg_ini = seg_ini + 60*min_ini + 3600*h_ini\n",
        "q_seg_fim = seg_fim + 60*min_fim + 3600*h_fim\n",
        "\n",
        "total_segundos = q_seg_fim - q_seg_ini\n",
        "\n",
        "horas = total_segundos//3600\n",
        "seg_sobra_1 = total_segundos%3600\n",
        "\n",
        "mins = seg_sobra_1//60\n",
        "segs = seg_sobra_1%60\n",
        "\n",
        "print(dias, horas, mins, segs)\n"
      ],
      "metadata": {
        "colab": {
          "base_uri": "https://localhost:8080/"
        },
        "id": "59o3yzHMQiC6",
        "outputId": "23d91132-d140-43fb-b14f-5d2c39f9a304"
      },
      "execution_count": null,
      "outputs": [
        {
          "output_type": "stream",
          "name": "stdout",
          "text": [
            "4 -2 1 0\n"
          ]
        }
      ]
    }
  ]
}