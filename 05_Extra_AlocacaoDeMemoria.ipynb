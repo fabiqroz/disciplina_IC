{
  "nbformat": 4,
  "nbformat_minor": 0,
  "metadata": {
    "colab": {
      "name": "05-Extra-AlocacaoDeMemoria.ipynb",
      "provenance": [],
      "authorship_tag": "ABX9TyOSMjEo8nEw8Lt/Fz6Qqvxe",
      "include_colab_link": true
    },
    "kernelspec": {
      "name": "python3",
      "display_name": "Python 3"
    },
    "language_info": {
      "name": "python"
    }
  },
  "cells": [
    {
      "cell_type": "markdown",
      "metadata": {
        "id": "view-in-github",
        "colab_type": "text"
      },
      "source": [
        "<a href=\"https://colab.research.google.com/github/fabiqroz/disciplina_IC/blob/main/05_Extra_AlocacaoDeMemoria.ipynb\" target=\"_parent\"><img src=\"https://colab.research.google.com/assets/colab-badge.svg\" alt=\"Open In Colab\"/></a>"
      ]
    },
    {
      "cell_type": "markdown",
      "source": [
        "# Conteúdo Extra\n",
        "\n",
        "**IMPORTANTE: Esse é um material EXTRA para quem quiser se aprofundar um pouco mais nos conceitos da disciplina. O conteúdo aqui presente NÃO será cobrado nas atividades avaliativas!**\n",
        "\n",
        "O que veremos aqui?\n",
        "\n",
        "    1.) Gerenciamento de memória no python\n",
        "    2.) Operadores de Identidade\n",
        "\n",
        "\n"
      ],
      "metadata": {
        "id": "-h-LcQmsABIC"
      }
    },
    {
      "cell_type": "markdown",
      "source": [
        "## Gerenciamento de Memória no Python"
      ],
      "metadata": {
        "id": "nRbOt_28Axnp"
      }
    },
    {
      "cell_type": "markdown",
      "source": [
        "Entender sobre alocação de memória é importante para quem pretende desenvolver software. Criar um código eficiente significa escrevê-lo com eficiência de memória. A grosso modo, a **alocação de memória** pode ser definida como a destinação de um bloco de espaço na memória (RAM) do computador para um programa. Diferente de outras linguagem de nível mais baixo (como o C, por exemplo), **no Python, o método de alocação e desalocação de memória é automático.**\n",
        "\n",
        "Esse processo automático de alocação de memória acontece porque o interpretador do pyton implementa o que chamamos de **coleta de lixo**, que é um processo no qual o interpretador libera a memória quando esta não está em uso para disponibilizá-la para outros objetos.\n",
        "\n",
        "A **contagem de referência** funciona contando o número de vezes que um objeto é referenciado por outros objetos no sistema. Quando as referências a um objeto são removidas, a contagem de referência para um objeto é diminuída. Quando a contagem de referência torna-se zero, o objeto é desalocado.\n",
        "\n"
      ],
      "metadata": {
        "id": "PXakucf_nF7d"
      }
    },
    {
      "cell_type": "markdown",
      "source": [
        "Vamos mostrar como funciona a alocação de memória no python!\n",
        "\n",
        "Abaixo estamos criando o objeto x que será alocado em memória. 😀"
      ],
      "metadata": {
        "id": "vYpMd4M0qAFl"
      }
    },
    {
      "cell_type": "code",
      "source": [
        "x = 10"
      ],
      "metadata": {
        "id": "gSNVYMoYlEDR"
      },
      "execution_count": null,
      "outputs": []
    },
    {
      "cell_type": "markdown",
      "source": [
        "O comando `id()` irá retornar o identificador desse objeto, que é único e se refere ao espaço de memória que foi alocado para aquele objeto. 😀"
      ],
      "metadata": {
        "id": "_VWHFS_YqZCW"
      }
    },
    {
      "cell_type": "code",
      "source": [
        "print(id(x))"
      ],
      "metadata": {
        "colab": {
          "base_uri": "https://localhost:8080/"
        },
        "id": "tIVsQrdClmnn",
        "outputId": "3904d3fc-a669-4659-979c-6bec2465fa1c"
      },
      "execution_count": null,
      "outputs": [
        {
          "output_type": "stream",
          "name": "stdout",
          "text": [
            "11256352\n"
          ]
        }
      ]
    },
    {
      "cell_type": "markdown",
      "source": [
        "<img src=\"https://drive.google.com/uc?id=1uFoKLCvLVSewow5pWpflcXTmFvOD5sA-\" style=\"width: 100px;\"/>"
      ],
      "metadata": {
        "id": "yIUQIFcVktcL"
      }
    },
    {
      "cell_type": "markdown",
      "source": [
        "Agora, vamos criar um objeto `y`, que fará referência ao objeto `x`. \n",
        "Para otimizar o gerenciamento de memória, ao invés de y ocupar um novo espaço, uma vez que ele compartilha o mesmo valor que x, ele irá compartilhar também esse mesmo espaço, ou seja, `x` e `y` apontam para um mesmo espaço de memória..."
      ],
      "metadata": {
        "id": "fZQYwrGHqpZk"
      }
    },
    {
      "cell_type": "code",
      "execution_count": null,
      "metadata": {
        "id": "awFMIhBH_zbw"
      },
      "outputs": [],
      "source": [
        "x = 10\n",
        "y = x "
      ]
    },
    {
      "cell_type": "markdown",
      "source": [
        "... e sendo assim, x e y compartilham do mesmo ID! 😀😀😀😀😀😀"
      ],
      "metadata": {
        "id": "F1IhjqqzrEDD"
      }
    },
    {
      "cell_type": "code",
      "source": [
        "print(id(x), id(y))"
      ],
      "metadata": {
        "colab": {
          "base_uri": "https://localhost:8080/"
        },
        "id": "s51uoFQhkhIv",
        "outputId": "0538a0ac-25e9-465b-9ed5-161e0631cefa"
      },
      "execution_count": null,
      "outputs": [
        {
          "output_type": "stream",
          "name": "stdout",
          "text": [
            "11256352 11256352\n"
          ]
        }
      ]
    },
    {
      "cell_type": "markdown",
      "source": [
        "<img src=\"https://drive.google.com/uc?id=19uEMTbWeHF_7YxZzPat7LtoGkeOCUgYe\" style=\"width: 200px;\"/>\n",
        "\n"
      ],
      "metadata": {
        "id": "_uKMiZeqktBs"
      }
    },
    {
      "cell_type": "markdown",
      "source": [
        "Agora vamos alterar o valor de `x` sobrescrevendo o seu valor original. \n",
        "\n",
        "Bem, como o valor de `x` e `y` serão distintos, eles não podem mais compartilhar um mesmo endereço de memoória, sendo assim, x precisará ser alocado em um espaço de memória diferente. 🤔"
      ],
      "metadata": {
        "id": "5kiYjKlmrQoL"
      }
    },
    {
      "cell_type": "code",
      "source": [
        "x = 10\n",
        "y = x \n",
        "x = x + 1"
      ],
      "metadata": {
        "id": "dB5orWpCksSX"
      },
      "execution_count": null,
      "outputs": []
    },
    {
      "cell_type": "markdown",
      "source": [
        "Em consequencia disso, o id de `x` irá mudar! 🤓"
      ],
      "metadata": {
        "id": "8DC4XGMNrxCl"
      }
    },
    {
      "cell_type": "code",
      "source": [
        "print(id(x), id(y))"
      ],
      "metadata": {
        "colab": {
          "base_uri": "https://localhost:8080/"
        },
        "id": "iZ-oSCmUkxoo",
        "outputId": "68b48125-5ae4-4150-b117-3c5b5c02dafe"
      },
      "execution_count": null,
      "outputs": [
        {
          "output_type": "stream",
          "name": "stdout",
          "text": [
            "11256384 11256352\n"
          ]
        }
      ]
    },
    {
      "cell_type": "markdown",
      "source": [
        "<img src=\"https://drive.google.com/uc?id=1odAP7FPQfNBKvkgZKiLbcC15YDQ2zLHI\" style=\"width: 200px;\"/>\n",
        "\n"
      ],
      "metadata": {
        "id": "0h_gDuvPmPs3"
      }
    },
    {
      "cell_type": "markdown",
      "source": [
        "# Operadores de Identidade"
      ],
      "metadata": {
        "id": "5MNFo_Ba9GNW"
      }
    },
    {
      "cell_type": "markdown",
      "source": [
        "Uma vez que tivemos essa compreenção, ainda que superficial, sobre como funciona o gerenciamento de memória do python, podemos compreender melhor o conceito de operador de identidade. \n",
        "\n",
        "O operador relacional `==` **compara o valor** de dois objetos, enquanto o operador Python `is` **verifica se duas variáveis ​​apontam para o mesmo objeto na memória**. \n",
        "\n",
        "<h2> Tabela de Operadores de Identidade </h2><p>  Considere a=2 e b=2.0</p>\n",
        "\n",
        "<table class=\"table table-bordered\">\n",
        "<tr>\n",
        "<th style=\"width:10%\">Operador</th><th style=\"width:45%\">Descrição</th><th>Exemplo</th>\n",
        "</tr>\n",
        "<tr>\n",
        "<td>is</td>\n",
        "<td>Verdadeiro se os dois operandos se referirem ao mesmo local de memória</td>\n",
        "<td> (a is b) não é verdadeiro</td>\n",
        "</tr>\n",
        "<tr>\n",
        "<td>is not</td>\n",
        "<td>Verdadeiro se os dois operandos se referirem a locais diferentes de memóriao</td>\n",
        "<td>(a is not b) é verdadeiro</td>\n",
        "</tr>\n",
        "\n",
        "</table>"
      ],
      "metadata": {
        "id": "deTAW1xl9ORc"
      }
    },
    {
      "cell_type": "markdown",
      "source": [
        "As variáveis `a` e `b` são de classes numéricas direntes. O objeto a é da classe `int`, enquanto que o objeto `b` é da classe `float`. \n",
        "\n",
        "Por serem de classes distintas, ainda que tenham o mesmo valor (dois), estas variáveis são automaticamente alocadas em espaçoes de memória distintos. "
      ],
      "metadata": {
        "id": "qMdnGf1NsYbg"
      }
    },
    {
      "cell_type": "code",
      "source": [
        "a = 2\n",
        "b = 2.0"
      ],
      "metadata": {
        "id": "IQVrrQ5m9Htw"
      },
      "execution_count": null,
      "outputs": []
    },
    {
      "cell_type": "markdown",
      "source": [
        "O operador relacional de igualdade `==` irá checar se ambas as variáveis possuem o mesmo valor. E nesse caso, a resposta é sim, ambas são iguais a dois. "
      ],
      "metadata": {
        "id": "vB0d8bfes18X"
      }
    },
    {
      "cell_type": "code",
      "source": [
        "a == b"
      ],
      "metadata": {
        "colab": {
          "base_uri": "https://localhost:8080/"
        },
        "id": "NJBnWEn6-l2t",
        "outputId": "8474b48f-319a-476a-845c-fac27dc2bb48"
      },
      "execution_count": null,
      "outputs": [
        {
          "output_type": "execute_result",
          "data": {
            "text/plain": [
              "True"
            ]
          },
          "metadata": {},
          "execution_count": 38
        }
      ]
    },
    {
      "cell_type": "markdown",
      "source": [
        "On operador de identidade `is` irá chegar se uma variável faz referencia a outra, ou seja, se ambas compartilham o mesmo espaço de memória e, consequentemente, possuem o mesmo ID. E nesse caso, as variáveis diferem uma da outra.  😀"
      ],
      "metadata": {
        "id": "_eNtkKs1tDU8"
      }
    },
    {
      "cell_type": "code",
      "source": [
        "a is b"
      ],
      "metadata": {
        "colab": {
          "base_uri": "https://localhost:8080/"
        },
        "id": "i_RhgKAT-nj6",
        "outputId": "fee56d39-cf14-4663-e14f-2cd423c10ed4"
      },
      "execution_count": null,
      "outputs": [
        {
          "output_type": "execute_result",
          "data": {
            "text/plain": [
              "False"
            ]
          },
          "metadata": {},
          "execution_count": 39
        }
      ]
    },
    {
      "cell_type": "markdown",
      "source": [
        "Em suma...\n",
        "\n",
        "A expressão `a is b` equivale a verificar se `id(a) == id(b)`.\n",
        "\n",
        "\n",
        "<img src=\"https://drive.google.com/uc?id=1dxULXASnVt4JkHmhOcgKyrCMA9nOKefr\" style=\"width: 200px;\"/>"
      ],
      "metadata": {
        "id": "QpC5BWENtct4"
      }
    },
    {
      "cell_type": "code",
      "source": [
        ""
      ],
      "metadata": {
        "id": "cXWMzpSkulMm"
      },
      "execution_count": null,
      "outputs": []
    }
  ]
}