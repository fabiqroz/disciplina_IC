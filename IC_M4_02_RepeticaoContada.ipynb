{
  "nbformat": 4,
  "nbformat_minor": 0,
  "metadata": {
    "colab": {
      "provenance": [],
      "collapsed_sections": [],
      "authorship_tag": "ABX9TyM05PfUNZk1WYT1Ca7QODTz",
      "include_colab_link": true
    },
    "kernelspec": {
      "name": "python3",
      "display_name": "Python 3"
    },
    "language_info": {
      "name": "python"
    }
  },
  "cells": [
    {
      "cell_type": "markdown",
      "metadata": {
        "id": "view-in-github",
        "colab_type": "text"
      },
      "source": [
        "<a href=\"https://colab.research.google.com/github/fabiqroz/disciplina_IC/blob/main/IC_M4_02_RepeticaoContada.ipynb\" target=\"_parent\"><img src=\"https://colab.research.google.com/assets/colab-badge.svg\" alt=\"Open In Colab\"/></a>"
      ]
    },
    {
      "cell_type": "markdown",
      "source": [
        "Um *loop* `for` atua como um **iterador em Python**; ele passa por itens que estão em uma sequência ou qualquer outro item iterável. \n",
        "\n"
      ],
      "metadata": {
        "id": "8hQhDx48KUi6"
      }
    },
    {
      "cell_type": "code",
      "execution_count": null,
      "metadata": {
        "id": "Acygq1bYJT49"
      },
      "outputs": [],
      "source": [
        "lista = [1,2,3,4,5,6,7,8,9,10]"
      ]
    },
    {
      "cell_type": "code",
      "source": [
        "n = 10\n",
        "posicao = 0\n",
        "while posicao<=n:\n",
        "  nota = int(input())\n",
        "  print(nota)\n",
        "  posicao+=1\n"
      ],
      "metadata": {
        "id": "UfTU9o_b47Au"
      },
      "execution_count": null,
      "outputs": []
    },
    {
      "cell_type": "code",
      "source": [
        "for i in lista:\n",
        "  nota = int(input())\n",
        "  print(nota)"
      ],
      "metadata": {
        "colab": {
          "base_uri": "https://localhost:8080/"
        },
        "id": "iO44-NugSufJ",
        "outputId": "3c91b10e-eac7-454e-eebe-21816d561e72"
      },
      "execution_count": null,
      "outputs": [
        {
          "output_type": "stream",
          "name": "stdout",
          "text": [
            "7\n",
            "7\n",
            "8\n",
            "8\n",
            "6\n",
            "6\n",
            "8\n",
            "8\n",
            "5\n",
            "5\n",
            "7\n",
            "7\n",
            "9\n",
            "9\n",
            "7\n",
            "7\n",
            "9\n",
            "9\n",
            "10\n",
            "10\n"
          ]
        }
      ]
    },
    {
      "cell_type": "markdown",
      "source": [
        "Agora vamos adicionar uma instrução `if` para verificar se há números pares na sequencia e exibir estes números pares. "
      ],
      "metadata": {
        "id": "It5oXjtMS62g"
      }
    },
    {
      "cell_type": "code",
      "source": [
        "for i in lista:\n",
        "  if i%2 == 0:\n",
        "    print(i)\n"
      ],
      "metadata": {
        "id": "1Uvlfqq-S_ND",
        "colab": {
          "base_uri": "https://localhost:8080/"
        },
        "outputId": "160f78db-137b-44a2-9e7d-44e95e4329e3"
      },
      "execution_count": null,
      "outputs": [
        {
          "output_type": "stream",
          "name": "stdout",
          "text": [
            "0\n",
            "2\n",
            "200\n"
          ]
        }
      ]
    },
    {
      "cell_type": "markdown",
      "source": [
        "também podemos definir um if-else dentro do loop!"
      ],
      "metadata": {
        "id": "5teEgNvaTUsq"
      }
    },
    {
      "cell_type": "code",
      "source": [
        "for i in lista:\n",
        "  if i%2 == 0:\n",
        "    print(i)\n",
        "  else:\n",
        "    print(\"numero impar\")"
      ],
      "metadata": {
        "colab": {
          "base_uri": "https://localhost:8080/"
        },
        "id": "a6lVv4RTTbT5",
        "outputId": "cbf5ede0-d918-4e30-92a5-a6c7b3a07087"
      },
      "execution_count": null,
      "outputs": [
        {
          "output_type": "stream",
          "name": "stdout",
          "text": [
            "numero impar\n",
            "2\n",
            "numero impar\n",
            "4\n",
            "numero impar\n",
            "6\n",
            "numero impar\n",
            "8\n",
            "numero impar\n",
            "10\n"
          ]
        }
      ]
    },
    {
      "cell_type": "markdown",
      "source": [
        "Usando variáveis contadoras/acumuladoras para manter algum tipo de registro em execução durante vários *loops*. "
      ],
      "metadata": {
        "id": "OfaOupJhTvOE"
      }
    },
    {
      "cell_type": "code",
      "source": [
        "pares = 0\n",
        "\n",
        "for i in lista:\n",
        "  if i%2 == 0:\n",
        "    pares +=1\n",
        "    \n",
        "print(pares)"
      ],
      "metadata": {
        "colab": {
          "base_uri": "https://localhost:8080/"
        },
        "id": "F1mUwFK9T3ji",
        "outputId": "d71ffe73-180f-42f3-9a6c-af41b71fa4f7"
      },
      "execution_count": null,
      "outputs": [
        {
          "output_type": "stream",
          "name": "stdout",
          "text": [
            "5\n"
          ]
        }
      ]
    },
    {
      "cell_type": "code",
      "source": [
        "soma = 0\n",
        "\n",
        "for i in lista:\n",
        "  if i%2 != 0:\n",
        "    soma += i\n",
        "    \n",
        "print(soma)"
      ],
      "metadata": {
        "colab": {
          "base_uri": "https://localhost:8080/"
        },
        "id": "cnd5MpYNozTC",
        "outputId": "3fa23888-00f6-43d1-b4b9-5742081e6b99"
      },
      "execution_count": null,
      "outputs": [
        {
          "output_type": "stream",
          "name": "stdout",
          "text": [
            "25\n"
          ]
        }
      ]
    },
    {
      "cell_type": "markdown",
      "source": [
        "Usamos loops for  com *strings* também! Lembre-se de que as *strings* são uma sequência, portanto, quando iterarmos por elas, estaremos acessando cada item dessa *string*."
      ],
      "metadata": {
        "id": "Rpoe03ljU9D0"
      }
    },
    {
      "cell_type": "code",
      "source": [
        "for i in \"maria\":\n",
        "  print(i)"
      ],
      "metadata": {
        "colab": {
          "base_uri": "https://localhost:8080/"
        },
        "id": "CWJzw_DCVEdb",
        "outputId": "db5a61fa-7da0-4aad-820f-67e3181a44ad"
      },
      "execution_count": null,
      "outputs": [
        {
          "output_type": "stream",
          "name": "stdout",
          "text": [
            "m\n",
            "a\n",
            "r\n",
            "i\n",
            "a\n"
          ]
        }
      ]
    },
    {
      "cell_type": "markdown",
      "source": [
        "Também tem um `else` no `for`!"
      ],
      "metadata": {
        "id": "2P9Bz_f0VpzD"
      }
    },
    {
      "cell_type": "code",
      "source": [
        "for i in lista:\n",
        "  if i == 2:\n",
        "    print(i)\n",
        "    break\n",
        "else:\n",
        "  print(\"Não encontrei o elemento 11\")\n"
      ],
      "metadata": {
        "colab": {
          "base_uri": "https://localhost:8080/"
        },
        "id": "8TLOQ0cHVtRP",
        "outputId": "8d57c090-9e09-4389-a32d-98e771b22994"
      },
      "execution_count": null,
      "outputs": [
        {
          "output_type": "stream",
          "name": "stdout",
          "text": [
            "2\n"
          ]
        }
      ]
    },
    {
      "cell_type": "markdown",
      "source": [
        "## Usando o comando `range()`\n",
        "\n",
        "O comando (função) `range()` retirna uma sequencia numérica. As vezes nós iteramos sobre os elementos dessa sequencia, principalmente quando queremos que nossa variável de controle assuma valores dos indices de uma sequencia, e não valores da sequencia propriamente dita. \n",
        "\n",
        "<img src = \"https://drive.google.com/uc?id=1VDD3DJ3ko9Q79MlW8YJH2TxwyxE0Yub_\" width = \"500\">"
      ],
      "metadata": {
        "id": "zGbeNG0xWLL0"
      }
    },
    {
      "cell_type": "code",
      "source": [
        "for i in range(2, 10, 2):\n",
        "  print(i, end=' ')"
      ],
      "metadata": {
        "colab": {
          "base_uri": "https://localhost:8080/"
        },
        "id": "2dXjiE6j8W45",
        "outputId": "585a66bc-e7a7-4f89-9bda-31ad82b03bff"
      },
      "execution_count": null,
      "outputs": [
        {
          "output_type": "stream",
          "name": "stdout",
          "text": [
            "2 4 6 8 "
          ]
        }
      ]
    },
    {
      "cell_type": "code",
      "source": [
        "for i in range(10):\n",
        "  print(i, end=' ') "
      ],
      "metadata": {
        "colab": {
          "base_uri": "https://localhost:8080/"
        },
        "id": "Cu38zgkYWRLr",
        "outputId": "e3159460-ce35-4281-fa9f-6502c39dbaac"
      },
      "execution_count": null,
      "outputs": [
        {
          "output_type": "stream",
          "name": "stdout",
          "text": [
            "0 1 2 3 4 5 6 7 8 9 "
          ]
        }
      ]
    },
    {
      "cell_type": "code",
      "source": [
        "for i in range(1,10,2):\n",
        "  print(i, end=' ') "
      ],
      "metadata": {
        "colab": {
          "base_uri": "https://localhost:8080/"
        },
        "id": "RdqFsYP2X32E",
        "outputId": "7f6d229f-a5e9-425b-a34c-a4536aefdc82"
      },
      "execution_count": null,
      "outputs": [
        {
          "output_type": "stream",
          "name": "stdout",
          "text": [
            "1 3 5 7 9 "
          ]
        }
      ]
    },
    {
      "cell_type": "code",
      "source": [
        "len(lista)"
      ],
      "metadata": {
        "colab": {
          "base_uri": "https://localhost:8080/"
        },
        "id": "-Ady_Pwy8zLK",
        "outputId": "d8270693-aec2-412b-b08a-73b97e66173e"
      },
      "execution_count": null,
      "outputs": [
        {
          "output_type": "execute_result",
          "data": {
            "text/plain": [
              "10"
            ]
          },
          "metadata": {},
          "execution_count": 23
        }
      ]
    },
    {
      "cell_type": "code",
      "source": [
        "for i in range(len(lista)):\n",
        "  print(lista[i])"
      ],
      "metadata": {
        "id": "kxsdS_jbZUq6",
        "colab": {
          "base_uri": "https://localhost:8080/"
        },
        "outputId": "d92956b6-8741-4322-b68a-dff7c97d8513"
      },
      "execution_count": null,
      "outputs": [
        {
          "output_type": "stream",
          "name": "stdout",
          "text": [
            "1\n",
            "2\n",
            "3\n",
            "4\n",
            "5\n",
            "6\n",
            "7\n",
            "8\n",
            "9\n",
            "10\n"
          ]
        }
      ]
    },
    {
      "cell_type": "markdown",
      "source": [
        "Agora vamos resolver o nosso problema motivacional!\n",
        "\n",
        "> Suponhamos que queiramos somar os numeros pares em uma dada lista:"
      ],
      "metadata": {
        "id": "B5Cacq9kX9uE"
      }
    },
    {
      "cell_type": "code",
      "source": [
        "soma = 0\n",
        "\n",
        "for num in lista:\n",
        "  if num % 2 == 0:\n",
        "      soma += num\n",
        "\n",
        "print(soma)"
      ],
      "metadata": {
        "id": "ltGwPH6_YDQu"
      },
      "execution_count": null,
      "outputs": []
    },
    {
      "cell_type": "markdown",
      "source": [
        "\n",
        "> Agora suponha que queiramos acumular numa soma todos os elementos da sequencia que estão indexados numa posição par: \n",
        "\n"
      ],
      "metadata": {
        "id": "z5BS1uI0Y5Gt"
      }
    },
    {
      "cell_type": "code",
      "source": [
        "soma = 0\n",
        "\n",
        "for posicao in range(len(lista)):\n",
        "  if posicao % 2 == 0:\n",
        "      soma += lista[posicao]\n",
        "\n",
        "print(soma)"
      ],
      "metadata": {
        "colab": {
          "base_uri": "https://localhost:8080/"
        },
        "id": "2HT3sHUJZGJj",
        "outputId": "d783a1e0-1ec1-4eaf-bf7a-1041d1025d21"
      },
      "execution_count": null,
      "outputs": [
        {
          "output_type": "stream",
          "name": "stdout",
          "text": [
            "25\n"
          ]
        }
      ]
    },
    {
      "cell_type": "code",
      "source": [
        "soma = 0\n",
        "\n",
        "notas = []\n",
        "\n",
        "while True:\n",
        "  nota = float(input())\n",
        "  if nota == -1:\n",
        "    break\n",
        "  \n",
        "  notas.append(nota)\n",
        "  soma += nota\n",
        "\n",
        "media = soma/len(notas)\n",
        "print(media)\n",
        "\n",
        "acima_media = 0 \n",
        "\n",
        "for aluno in range(len(notas)):\n",
        "  if notas[aluno] > media:\n",
        "    acima_media +=1\n",
        "\n",
        "print(acima_media)\n",
        "\n"
      ],
      "metadata": {
        "colab": {
          "base_uri": "https://localhost:8080/"
        },
        "id": "zaLvYPo5-UXu",
        "outputId": "8674a197-6207-427f-f183-27074e7fc399"
      },
      "execution_count": null,
      "outputs": [
        {
          "output_type": "stream",
          "name": "stdout",
          "text": [
            "10\n",
            "5\n",
            "parei\n",
            "7.5\n",
            "1\n"
          ]
        }
      ]
    },
    {
      "cell_type": "code",
      "source": [],
      "metadata": {
        "id": "Pshg68qz_hic"
      },
      "execution_count": null,
      "outputs": []
    }
  ]
}