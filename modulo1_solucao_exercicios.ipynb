{
  "nbformat": 4,
  "nbformat_minor": 0,
  "metadata": {
    "colab": {
      "name": "solucao_exercicios_modulo1.ipynb",
      "provenance": [],
      "collapsed_sections": []
    },
    "kernelspec": {
      "name": "python3",
      "display_name": "Python 3"
    },
    "language_info": {
      "name": "python"
    }
  },
  "cells": [
    {
      "cell_type": "markdown",
      "source": [
        "Soluções da Lista de Exercícios - Módulo 1"
      ],
      "metadata": {
        "id": "KOijHFrm5AEg"
      }
    },
    {
      "cell_type": "code",
      "source": [
        "''' Concatenação de nomes\n",
        "by Fabiane Queiroz'''\n",
        "\n",
        "nome = input()\n",
        "sobrenome = input()\n",
        "\n",
        "print(nome + ' ' + sobrenome)"
      ],
      "metadata": {
        "id": "DsZFWoA7GJZx"
      },
      "execution_count": null,
      "outputs": []
    },
    {
      "cell_type": "code",
      "source": [
        "'''AC2 - Ex. 1\n",
        "by Fabiane Queiroz'''\n",
        "\n",
        "xa = float(input())\n",
        "ya = float(input())\n",
        "za = float(input())\n",
        "xb = float(input())\n",
        "yb = float(input())\n",
        "zb = float(input())\n",
        "\n",
        "soma = (xb-xa)**2 + (yb-ya)**2 + (zb-za)**2\n",
        "distancia = soma**(1/2)\n",
        "\n",
        "print(distancia)\n"
      ],
      "metadata": {
        "id": "-gOb7ouUEAW7"
      },
      "execution_count": null,
      "outputs": []
    },
    {
      "cell_type": "code",
      "source": [
        "'''AC2 - Ex. 2\n",
        "by Fabiane Queiroz'''\n",
        "\n",
        "num1 = int(input())\n",
        "num2 = int(input())\n",
        "\n",
        "soma = num1+num2\n",
        "sub = num1-num2\n",
        "mult = num1*num2\n",
        "div = num1/num2\n",
        "div_int = num1//num2\n",
        "resto = num1%num2\n",
        "pot = num1**num2\n",
        "\n",
        "print(soma, sub, mult, div, div_int, resto, pot, sep='\\n')\n"
      ],
      "metadata": {
        "id": "J7QdgOPhvaYk"
      },
      "execution_count": null,
      "outputs": []
    },
    {
      "cell_type": "code",
      "source": [
        "'''AC2 - Ex. 3\n",
        "by Fabiane Queiroz'''\n",
        "\n",
        "nota1 = float(input())\n",
        "nota2 = float(input())\n",
        "nota3 = float(input())\n",
        "\n",
        "media = (nota1+nota2+nota3)/3\n",
        "med_pond1 = (nota1*2 + nota2*2 + nota3*3)/7\n",
        "med_pond2 = (nota1 + nota2*2 + nota3*2)/5\n",
        "\n",
        "print(media, med_pond1, med_pond2, sep='\\n')"
      ],
      "metadata": {
        "id": "KX-zmCKFv4xT"
      },
      "execution_count": null,
      "outputs": []
    },
    {
      "cell_type": "code",
      "source": [
        "'''AC2 - Ex. 4\n",
        "by Fabiane Queiroz'''\n",
        "\n",
        "f = float(input())\n",
        "\n",
        "c = (f-32)*(5/9)\n",
        "\n",
        "print(c)"
      ],
      "metadata": {
        "id": "V7F99wt6z9Fj"
      },
      "execution_count": null,
      "outputs": []
    },
    {
      "cell_type": "code",
      "source": [
        "'''AC2 - Ex. 5\n",
        "by Fabiane Queiroz'''\n",
        "\n",
        "# Exercício selecionado para nota\n"
      ],
      "metadata": {
        "id": "ycIpmno80Vga"
      },
      "execution_count": null,
      "outputs": []
    },
    {
      "cell_type": "code",
      "source": [
        "''' Conversão para dólar\n",
        "by Fabiane Queiroz'''\n",
        "\n",
        "valor_dolar = float(input())\n",
        "\n",
        "valor_real = valor_dolar*3.55\n",
        "\n",
        "print('{:.2f}'.format(valor_real))"
      ],
      "metadata": {
        "id": "O9r_nMjpIbGK"
      },
      "execution_count": null,
      "outputs": []
    },
    {
      "cell_type": "code",
      "execution_count": null,
      "metadata": {
        "id": "QbTvPaqRCpUw"
      },
      "outputs": [],
      "source": [
        "'''3o ângulo do triângulo\n",
        "by Fabiane Queiroz'''\n",
        "\n",
        "pri_angulo = int(input())\n",
        "seg_angulo = int(input())\n",
        "\n",
        "terc_angulo = 180 - (pri_angulo + seg_angulo)\n",
        "\n",
        "print(\"3o angulo={:.6f}\".format(terc_angulo))"
      ]
    },
    {
      "cell_type": "code",
      "source": [
        "''' As 4 operações\n",
        "by Fabiane Queiroz'''\n",
        "\n",
        "num1 = float(input())\n",
        "num2 = float(input())\n",
        "\n",
        "soma = num1+num2\n",
        "subtracao = num1-num2\n",
        "multiplicacao = num1*num2\n",
        "divisao = num1/num2\n",
        "\n",
        "print('{:.2f}'.format(soma))\n",
        "print('{:.2f}'.format(subtracao))\n",
        "print('{:.2f}'.format(multiplicacao))\n",
        "print('{:.2f}'.format(divisao))"
      ],
      "metadata": {
        "id": "XyR-XDhC_zpb"
      },
      "execution_count": null,
      "outputs": []
    },
    {
      "cell_type": "code",
      "source": [
        "'''Média 1\n",
        "by Fabiane Queiroz'''\n",
        "\n",
        "a = float(input())\n",
        "b = float(input())\n",
        "\n",
        "media = (a*3.5 + b*7.5)/11\n",
        "\n",
        "print('MEDIA = {:.5f}'.format(media))"
      ],
      "metadata": {
        "id": "uXL7rOKWjTDw"
      },
      "execution_count": null,
      "outputs": []
    },
    {
      "cell_type": "code",
      "source": [
        "''' Diagonais de um polígono\n",
        "fonte: https://pt.wikipedia.org/wiki/Diagonais_de_um_pol%C3%ADgono\n",
        "by Fabiane Queiroz'''\n",
        "\n",
        "num_lados = int(input())\n",
        "\n",
        "num_diag = (num_lados*(num_lados-3))/2\n",
        "\n",
        "print(int(num_diag))\n"
      ],
      "metadata": {
        "id": "eMeBwDIYQNoK"
      },
      "execution_count": null,
      "outputs": []
    },
    {
      "cell_type": "code",
      "source": [
        "''' Hipotenusa\n",
        "by Fabiane Queiroz'''\n",
        "\n",
        "cateto1 = float(input())\n",
        "cateto2 = float(input())\n",
        "\n",
        "hipotenusa = (cateto1**2 + cateto2**2)**(1/2)\n",
        "\n",
        "print('{:.2f}'.format(hipotenusa))"
      ],
      "metadata": {
        "id": "bGQDbYhuR9Od"
      },
      "execution_count": null,
      "outputs": []
    },
    {
      "cell_type": "code",
      "source": [
        "'''Área do retângulo\n",
        "by Fabiane Queiroz'''\n",
        "\n",
        "lado1 = int(input())\n",
        "lado2 = int(input())\n",
        "\n",
        "area_retangulo = lado1*lado2\n",
        "\n",
        "print(area_retangulo)"
      ],
      "metadata": {
        "id": "aXYKzuav-RE-"
      },
      "execution_count": null,
      "outputs": []
    },
    {
      "cell_type": "code",
      "source": [
        "'''Área de um trapézio\n",
        "by Fabiane Queiroz'''\n",
        "\n",
        "base_maior = float(input())\n",
        "base_menor = float(input())\n",
        "altura = float(input())\n",
        "\n",
        "\n",
        "area = ((base_maior+base_menor)*altura)/2\n",
        "\n",
        "print('{:.1f}'.format(area))\n"
      ],
      "metadata": {
        "id": "MEUIH9S-8cT5"
      },
      "execution_count": null,
      "outputs": []
    },
    {
      "cell_type": "code",
      "source": [
        "'''Área do círculo\n",
        "by Fabiane Queiroz'''\n",
        "\n",
        "raio = float(input())\n",
        "\n",
        "PI = 3.14159\n",
        "\n",
        "area_circulo = PI*(raio**2)\n",
        "\n",
        "print('{:.3f}'.format(area_circulo))"
      ],
      "metadata": {
        "id": "DbbYM1_P9BGr"
      },
      "execution_count": null,
      "outputs": []
    },
    {
      "cell_type": "code",
      "source": [
        "'''Área da Superfície e Volume da Esfera\n",
        "by Fabiane Queiroz'''\n",
        "\n",
        "raio = float(input())\n",
        "\n",
        "PI = 3.1416\n",
        "\n",
        "area_sup = 4*PI*(raio**2)\n",
        "volume = (4*PI*(raio**3))/3\n",
        "\n",
        "print('{:.2f}'.format(area_sup))\n",
        "print('{:.2f}'.format(volume))"
      ],
      "metadata": {
        "id": "XG8mEuXn5H1w"
      },
      "execution_count": null,
      "outputs": []
    },
    {
      "cell_type": "code",
      "source": [
        "''' Comprimento de um arco e área do setor\n",
        "by Fabiane Queiroz'''\n",
        "\n",
        "raio = float(input())\n",
        "angulo = float(input())\n",
        "\n",
        "PI = 3.14\n",
        "\n",
        "comp_circular = (angulo*PI*raio)/180\n",
        "area_circular = (angulo*PI*raio**2)/360\n",
        "\n",
        "print('{:.2f}'.format(comp_circular))\n",
        "print('{:.2f}'.format(area_circular))"
      ],
      "metadata": {
        "id": "O_EiPIXYBh0i"
      },
      "execution_count": null,
      "outputs": []
    },
    {
      "cell_type": "code",
      "source": [
        "''' Conta de Água e Esgoto\n",
        "by Fabiane Queiroz'''\n",
        "\n",
        "agua_consumida_m3, custo_por_litro = map(float, input().split())\n",
        "\n",
        "agua_consumida_litros = agua_consumida_m3*1000\n",
        "\n",
        "custo_agua = agua_consumida_litros*custo_por_litro\n",
        "custo_esgoto = 0.8*custo_agua\n",
        "custo_total = custo_agua + custo_esgoto\n",
        "\n",
        "print('{:.2f}'.format(custo_agua))\n",
        "print('{:.2f}'.format(custo_esgoto))\n",
        "print('{:.2f}'.format(custo_total))"
      ],
      "metadata": {
        "id": "fey6AXpCHRqZ"
      },
      "execution_count": null,
      "outputs": []
    },
    {
      "cell_type": "code",
      "source": [
        "''' Conta de luz\n",
        "by Fabiane Queiroz'''\n",
        "\n",
        "kwh_consumidos = float(input())\n",
        "\n",
        "kwh_residencia = kwh_consumidos*1.5\n",
        "kwh_residencia_desc = kwh_residencia - kwh_residencia*0.15\n",
        "\n",
        "print('Valor a ser pago: R$ {:.2f} reais'.format(kwh_residencia))\n",
        "print('Valor a ser pago com desconto: R$ {:.2f} reais'.format(kwh_residencia_desc))"
      ],
      "metadata": {
        "id": "Hiei-M6RHixX"
      },
      "execution_count": null,
      "outputs": []
    },
    {
      "cell_type": "code",
      "source": [
        "''' Maior inteiro múltiplo\n",
        "by Fabiane Queiroz'''\n",
        "\n",
        "# Exercicio selecionado para nota"
      ],
      "metadata": {
        "id": "S9s1rqMfSsEE"
      },
      "execution_count": null,
      "outputs": []
    },
    {
      "cell_type": "code",
      "source": [
        "'''Módulo 3 - Diagonal\n",
        "by Fabiane Queiroz'''\n",
        "\n",
        "# Exercício selecionado para nota"
      ],
      "metadata": {
        "id": "iaD6jOo5uRvO"
      },
      "execution_count": null,
      "outputs": []
    },
    {
      "cell_type": "code",
      "source": [
        "'''Operação simples\n",
        "by Fabiane Queiroz'''\n",
        "\n",
        "a, b, c, d, e = map(float, input().split())\n",
        "\n",
        "resultado = (a+b+c)/(d+e)\n",
        "\n",
        "print('{:.2f}'.format(resultado))"
      ],
      "metadata": {
        "id": "n3Key7t8vgvz"
      },
      "execution_count": null,
      "outputs": []
    },
    {
      "cell_type": "code",
      "source": [
        "''' Quociente de uma divisão inteira\n",
        "by Fabiane Queiroz'''\n",
        "\n",
        "dividendo = int(input())\n",
        "divisor = int(input())\n",
        "\n",
        "resto = dividendo%divisor\n",
        "\n",
        "valor_exato = dividendo - resto\n",
        "quociente = valor_exato/divisor\n",
        "\n",
        "print('{:.0f}'.format(quociente))"
      ],
      "metadata": {
        "id": "PSX5zwi0wXtN"
      },
      "execution_count": null,
      "outputs": []
    },
    {
      "cell_type": "code",
      "source": [
        "''' Cédulas\n",
        "by Fabiane Queiroz'''\n",
        "\n",
        "# Exercicio selecionado para nota\n"
      ],
      "metadata": {
        "id": "DMwqVGND4xo0"
      },
      "execution_count": null,
      "outputs": []
    },
    {
      "cell_type": "code",
      "source": [
        "'''IMC\n",
        "by Fabiane Queiroz'''\n",
        "\n",
        "peso = float(input())\n",
        "altura = float(input())\n",
        "\n",
        "imc = peso/(altura**2)\n",
        "\n",
        "print('{:.1f}'.format(imc))"
      ],
      "metadata": {
        "id": "zK03UO4CEAiL"
      },
      "execution_count": null,
      "outputs": []
    },
    {
      "cell_type": "code",
      "source": [
        "'''Entrada e Saída de Data\n",
        "by Fabiane Queiroz'''\n",
        "\n",
        "entrada = input()\n",
        "dia, mes, ano = entrada.split('/')\n",
        "\n",
        "print(mes + '/' + dia + '/' + ano)\n",
        "print(ano + '/' + mes + '/' + dia)\n",
        "print(dia + '-' + mes + '-' + ano)"
      ],
      "metadata": {
        "id": "KdMpyIb8F7Uv"
      },
      "execution_count": null,
      "outputs": []
    },
    {
      "cell_type": "code",
      "source": [
        "'''Invertido\n",
        "by Fabiane Queiroz'''\n",
        "\n",
        "num = int(input())\n",
        "\n",
        "unidade = num%10\n",
        "dezena = (num//10)%10\n",
        "centena = (num//10)//10\n",
        "\n",
        "invertido = unidade*100+dezena*10+centena\n",
        "\n",
        "print(invertido)"
      ],
      "metadata": {
        "id": "sYuw37FZGvyS"
      },
      "execution_count": null,
      "outputs": []
    }
  ]
}