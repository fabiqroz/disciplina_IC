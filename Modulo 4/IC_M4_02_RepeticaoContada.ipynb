{
  "cells": [
    {
      "cell_type": "markdown",
      "metadata": {
        "colab_type": "text",
        "id": "view-in-github"
      },
      "source": [
        "<a href=\"https://colab.research.google.com/github/fabiqroz/disciplina_IC/blob/main/IC_M4_02_RepeticaoContada.ipynb\" target=\"_parent\"><img src=\"https://colab.research.google.com/assets/colab-badge.svg\" alt=\"Open In Colab\"/></a>"
      ]
    },
    {
      "cell_type": "markdown",
      "metadata": {
        "id": "8hQhDx48KUi6"
      },
      "source": [
        "Um *loop* `for` atua como um **iterador em Python**; ele passa por itens que estão em uma sequência ou qualquer outro item iterável. \n",
        "\n"
      ]
    },
    {
      "cell_type": "code",
      "execution_count": null,
      "metadata": {
        "id": "UfTU9o_b47Au"
      },
      "outputs": [],
      "source": [
        "n_alunos = 0\n",
        "limite = 10\n",
        "notas = []\n",
        "\n",
        "while n_alunos < limite:\n",
        "    nota = float(input())\n",
        "    notas.append(nota)\n",
        "    n_alunos += 1\n",
        "\n",
        "print(notas)\n"
      ]
    },
    {
      "cell_type": "code",
      "execution_count": null,
      "metadata": {},
      "outputs": [],
      "source": [
        "indice = 0\n",
        "limite = 10\n",
        "\n",
        "while indice < limite:\n",
        "    if notas[indice] % 2 == 0:\n",
        "        print('é par')\n",
        "    else:\n",
        "        print('é impar')    \n",
        "    indice += 1\n"
      ]
    },
    {
      "cell_type": "markdown",
      "metadata": {
        "id": "It5oXjtMS62g"
      },
      "source": [
        "Agora vamos adicionar uma instrução `if` para verificar se há números pares na sequencia e exibir estes números pares. "
      ]
    },
    {
      "cell_type": "code",
      "execution_count": null,
      "metadata": {
        "colab": {
          "base_uri": "https://localhost:8080/"
        },
        "id": "1Uvlfqq-S_ND",
        "outputId": "160f78db-137b-44a2-9e7d-44e95e4329e3"
      },
      "outputs": [],
      "source": [
        "for nota in notas:\n",
        "    if nota%2 == 0:\n",
        "        print('é par')\n",
        "    else:\n",
        "        print('é impar')\n",
        " \n"
      ]
    },
    {
      "cell_type": "markdown",
      "metadata": {
        "id": "OfaOupJhTvOE"
      },
      "source": [
        "Usando variáveis contadoras/acumuladoras para manter algum tipo de registro em execução durante vários *loops*. "
      ]
    },
    {
      "cell_type": "code",
      "execution_count": null,
      "metadata": {},
      "outputs": [],
      "source": [
        "notas"
      ]
    },
    {
      "cell_type": "code",
      "execution_count": null,
      "metadata": {
        "colab": {
          "base_uri": "https://localhost:8080/"
        },
        "id": "F1mUwFK9T3ji",
        "outputId": "d71ffe73-180f-42f3-9a6c-af41b71fa4f7"
      },
      "outputs": [],
      "source": [
        "pares = 0\n",
        "impares = 0\n",
        "\n",
        "for nota in notas:\n",
        "  if nota%2 == 0:\n",
        "    pares +=1\n",
        "  else:\n",
        "    impares +=1\n",
        "    \n",
        "print(pares,impares)"
      ]
    },
    {
      "cell_type": "markdown",
      "metadata": {
        "id": "Rpoe03ljU9D0"
      },
      "source": [
        "Usamos loops for  com *strings* também! Lembre-se de que as *strings* são uma sequência, portanto, quando iterarmos por elas, estaremos acessando cada item dessa *string*."
      ]
    },
    {
      "cell_type": "code",
      "execution_count": null,
      "metadata": {
        "colab": {
          "base_uri": "https://localhost:8080/"
        },
        "id": "CWJzw_DCVEdb",
        "outputId": "db5a61fa-7da0-4aad-820f-67e3181a44ad"
      },
      "outputs": [],
      "source": [
        "for i in \"maria\":\n",
        "  print(i)"
      ]
    },
    {
      "cell_type": "markdown",
      "metadata": {
        "id": "2P9Bz_f0VpzD"
      },
      "source": [
        "Também tem um `else` no `for`!"
      ]
    },
    {
      "cell_type": "code",
      "execution_count": null,
      "metadata": {},
      "outputs": [],
      "source": [
        "notas"
      ]
    },
    {
      "cell_type": "code",
      "execution_count": null,
      "metadata": {
        "colab": {
          "base_uri": "https://localhost:8080/"
        },
        "id": "8TLOQ0cHVtRP",
        "outputId": "8d57c090-9e09-4389-a32d-98e771b22994"
      },
      "outputs": [],
      "source": [
        "for nota in notas:\n",
        "  if nota == 7.5:\n",
        "    print(nota)\n",
        "    break\n",
        "else:\n",
        "  print(\"Não encontrei o elemento 7.5\")\n"
      ]
    },
    {
      "cell_type": "markdown",
      "metadata": {
        "id": "zGbeNG0xWLL0"
      },
      "source": [
        "## Usando o comando `range()`\n",
        "\n",
        "O comando (função) `range()` retirna uma sequencia numérica. As vezes nós iteramos sobre os elementos dessa sequencia, principalmente quando queremos que nossa variável de controle assuma valores dos indices de uma sequencia, e não valores da sequencia propriamente dita. \n",
        "\n",
        "<img src = \"https://drive.google.com/uc?id=1VDD3DJ3ko9Q79MlW8YJH2TxwyxE0Yub_\" width = \"500\">"
      ]
    },
    {
      "cell_type": "code",
      "execution_count": 27,
      "metadata": {
        "colab": {
          "base_uri": "https://localhost:8080/"
        },
        "id": "2dXjiE6j8W45",
        "outputId": "585a66bc-e7a7-4f89-9bda-31ad82b03bff"
      },
      "outputs": [
        {
          "name": "stdout",
          "output_type": "stream",
          "text": [
            "2 4 6 8 "
          ]
        }
      ],
      "source": [
        "for i in range(2, 10, 2):\n",
        "  print(i,end= ' ')"
      ]
    },
    {
      "cell_type": "code",
      "execution_count": 28,
      "metadata": {
        "colab": {
          "base_uri": "https://localhost:8080/"
        },
        "id": "Cu38zgkYWRLr",
        "outputId": "e3159460-ce35-4281-fa9f-6502c39dbaac"
      },
      "outputs": [
        {
          "name": "stdout",
          "output_type": "stream",
          "text": [
            "0 1 2 3 4 5 6 7 8 9 "
          ]
        }
      ],
      "source": [
        "for i in range(10):\n",
        "  print(i, end=' ') "
      ]
    },
    {
      "cell_type": "code",
      "execution_count": 29,
      "metadata": {
        "colab": {
          "base_uri": "https://localhost:8080/"
        },
        "id": "RdqFsYP2X32E",
        "outputId": "7f6d229f-a5e9-425b-a34c-a4536aefdc82"
      },
      "outputs": [
        {
          "name": "stdout",
          "output_type": "stream",
          "text": [
            "1 3 5 7 9 "
          ]
        }
      ],
      "source": [
        "for i in range(1,10,2):\n",
        "  print(i, end=' ') "
      ]
    },
    {
      "cell_type": "code",
      "execution_count": 30,
      "metadata": {},
      "outputs": [
        {
          "data": {
            "text/plain": [
              "[3.0, 8.0, 9.0, 3.0, 4.0, 10.0, 8.0, 5.0, 3.0, 0.0]"
            ]
          },
          "execution_count": 30,
          "metadata": {},
          "output_type": "execute_result"
        }
      ],
      "source": [
        "notas"
      ]
    },
    {
      "cell_type": "code",
      "execution_count": 31,
      "metadata": {},
      "outputs": [
        {
          "data": {
            "text/plain": [
              "9.0"
            ]
          },
          "execution_count": 31,
          "metadata": {},
          "output_type": "execute_result"
        }
      ],
      "source": [
        "notas[2]"
      ]
    },
    {
      "cell_type": "code",
      "execution_count": 32,
      "metadata": {},
      "outputs": [
        {
          "data": {
            "text/plain": [
              "10"
            ]
          },
          "execution_count": 32,
          "metadata": {},
          "output_type": "execute_result"
        }
      ],
      "source": [
        "len(notas)"
      ]
    },
    {
      "cell_type": "code",
      "execution_count": 33,
      "metadata": {},
      "outputs": [
        {
          "data": {
            "text/plain": [
              "[3.0, 8.0, 9.0, 3.0, 4.0, 10.0, 8.0, 5.0, 3.0, 0.0]"
            ]
          },
          "execution_count": 33,
          "metadata": {},
          "output_type": "execute_result"
        }
      ],
      "source": [
        "notas"
      ]
    },
    {
      "cell_type": "code",
      "execution_count": 39,
      "metadata": {},
      "outputs": [
        {
          "name": "stdout",
          "output_type": "stream",
          "text": [
            "3.0 8.0 9.0 3.0 4.0 10.0 8.0 5.0 3.0 0.0 "
          ]
        }
      ],
      "source": [
        "for i in notas:\n",
        "  print(i, end=' ')\n"
      ]
    },
    {
      "cell_type": "code",
      "execution_count": 40,
      "metadata": {
        "colab": {
          "base_uri": "https://localhost:8080/"
        },
        "id": "kxsdS_jbZUq6",
        "outputId": "d92956b6-8741-4322-b68a-dff7c97d8513"
      },
      "outputs": [
        {
          "name": "stdout",
          "output_type": "stream",
          "text": [
            "3.0 8.0 9.0 3.0 4.0 10.0 8.0 5.0 3.0 0.0 "
          ]
        }
      ],
      "source": [
        "for i in range(len(notas)):\n",
        "  print(notas[i], end=' ')"
      ]
    },
    {
      "cell_type": "markdown",
      "metadata": {
        "id": "B5Cacq9kX9uE"
      },
      "source": [
        "Agora vamos resolver o nosso problema motivacional!\n",
        "\n",
        "> Suponhamos que queiramos somar os numeros pares em uma dada lista:"
      ]
    },
    {
      "cell_type": "code",
      "execution_count": 46,
      "metadata": {},
      "outputs": [
        {
          "name": "stdout",
          "output_type": "stream",
          "text": [
            "7.5\n",
            "[10.0, 9.0, 6.0, 5.0]\n"
          ]
        }
      ],
      "source": [
        "n_alunos = 0\n",
        "soma = 0\n",
        "notas = []\n",
        "\n",
        "nota = float(input())\n",
        "notas.append(nota)\n",
        "\n",
        "while nota>=0:\n",
        "    n_alunos += 1\n",
        "    soma += nota\n",
        "    nota = float(input())\n",
        "    if nota > 0:\n",
        "        notas.append(nota)\n",
        "\n",
        "media = soma/n_alunos\n",
        "print(media)\n",
        "print(notas)"
      ]
    },
    {
      "cell_type": "code",
      "execution_count": 47,
      "metadata": {},
      "outputs": [
        {
          "name": "stdout",
          "output_type": "stream",
          "text": [
            "2 alunos ficaram acima da média 7.5\n",
            "E suas notas foram: [10.0, 9.0]\n"
          ]
        }
      ],
      "source": [
        "acima_media = []\n",
        "for nota in notas:\n",
        "    if nota >=media:\n",
        "        acima_media.append(nota)\n",
        "\n",
        "print('{} alunos ficaram acima da média {}'.format(len(acima_media), media))\n",
        "print('E suas notas foram: {}'.format(acima_media))\n"
      ]
    }
  ],
  "metadata": {
    "colab": {
      "authorship_tag": "ABX9TyM05PfUNZk1WYT1Ca7QODTz",
      "collapsed_sections": [],
      "include_colab_link": true,
      "provenance": []
    },
    "kernelspec": {
      "display_name": "Python 3",
      "name": "python3"
    },
    "language_info": {
      "codemirror_mode": {
        "name": "ipython",
        "version": 3
      },
      "file_extension": ".py",
      "mimetype": "text/x-python",
      "name": "python",
      "nbconvert_exporter": "python",
      "pygments_lexer": "ipython3",
      "version": "3.9.16"
    }
  },
  "nbformat": 4,
  "nbformat_minor": 0
}
