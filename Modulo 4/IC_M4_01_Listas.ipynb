{
  "cells": [
    {
      "cell_type": "markdown",
      "metadata": {
        "colab_type": "text",
        "id": "view-in-github"
      },
      "source": [
        "<a href=\"https://colab.research.google.com/github/fabiqroz/disciplina_IC/blob/main/IC_M4_01_Listas_ipynb_.ipynb\" target=\"_parent\"><img src=\"https://colab.research.google.com/assets/colab-badge.svg\" alt=\"Open In Colab\"/></a>"
      ]
    },
    {
      "cell_type": "markdown",
      "metadata": {
        "id": "GCceH8VMWDdC"
      },
      "source": [
        "# Desafio Motivacional\n",
        "\n",
        "<img src = \"https://drive.google.com/uc?id=1Gy4XA0dWqpdDVCQc0GbjJ24hJ1GXYuTT\" width = \"1000\">\n",
        "\n"
      ]
    },
    {
      "cell_type": "markdown",
      "metadata": {
        "id": "pb1fHmqutWsP"
      },
      "source": [
        "# Listas"
      ]
    },
    {
      "cell_type": "code",
      "execution_count": 4,
      "metadata": {
        "id": "dLQVDyeOtFgT"
      },
      "outputs": [],
      "source": [
        "# Atribuindo uma lista a uma variável chamada minha_lista\n",
        "lista = [1,2,3,5*2]"
      ]
    },
    {
      "cell_type": "code",
      "execution_count": 5,
      "metadata": {
        "colab": {
          "base_uri": "https://localhost:8080/"
        },
        "id": "4bBHeX3tfDa9",
        "outputId": "e5cc9ce8-d0ea-4ad4-cbe1-dd136f837331"
      },
      "outputs": [
        {
          "data": {
            "text/plain": [
              "[1, 2, 3, 10]"
            ]
          },
          "execution_count": 5,
          "metadata": {},
          "output_type": "execute_result"
        }
      ],
      "source": [
        "lista"
      ]
    },
    {
      "cell_type": "code",
      "execution_count": 6,
      "metadata": {
        "colab": {
          "base_uri": "https://localhost:8080/"
        },
        "id": "CS1P0R5sJ0cL",
        "outputId": "3e01eb95-b3e5-4a20-e01d-5fc4dc62a82e"
      },
      "outputs": [
        {
          "data": {
            "text/plain": [
              "list"
            ]
          },
          "execution_count": 6,
          "metadata": {},
          "output_type": "execute_result"
        }
      ],
      "source": [
        "# Verificando o tipo da variável lista\n",
        "type(lista)"
      ]
    },
    {
      "cell_type": "markdown",
      "metadata": {
        "id": "GgbabgiPueHu"
      },
      "source": [
        "Listas podem ser heterogêneas:"
      ]
    },
    {
      "cell_type": "code",
      "execution_count": 8,
      "metadata": {
        "id": "3QI5Qs2OubbF"
      },
      "outputs": [],
      "source": [
        "# Criando listas heterogêneas\n",
        "minha_lista = [1, 4.6, 'maria', True]"
      ]
    },
    {
      "cell_type": "code",
      "execution_count": 9,
      "metadata": {
        "colab": {
          "base_uri": "https://localhost:8080/"
        },
        "id": "O44YwsZvfsGb",
        "outputId": "6a4bf72d-afcc-43a0-bef4-728682a3db3b"
      },
      "outputs": [
        {
          "data": {
            "text/plain": [
              "[1, 4.6, 'maria', True]"
            ]
          },
          "execution_count": 9,
          "metadata": {},
          "output_type": "execute_result"
        }
      ],
      "source": [
        "minha_lista"
      ]
    },
    {
      "cell_type": "markdown",
      "metadata": {
        "id": "b8WrT4w9uqFe"
      },
      "source": [
        "Assim como as *strings*, o comando (funçao) `len()` lhe dirá quantos itens tem em uma lista."
      ]
    },
    {
      "cell_type": "code",
      "execution_count": 10,
      "metadata": {
        "colab": {
          "base_uri": "https://localhost:8080/"
        },
        "id": "PnpOvi4Cuymu",
        "outputId": "137fa1ce-42f1-46e6-d30e-77d8627aeed7"
      },
      "outputs": [
        {
          "data": {
            "text/plain": [
              "4"
            ]
          },
          "execution_count": 10,
          "metadata": {},
          "output_type": "execute_result"
        }
      ],
      "source": [
        "# Verificando o tamanho de uma lista\n",
        "len(minha_lista)"
      ]
    },
    {
      "cell_type": "code",
      "execution_count": 11,
      "metadata": {
        "colab": {
          "base_uri": "https://localhost:8080/"
        },
        "id": "rODUXhEwlVAG",
        "outputId": "80dd720e-850a-4251-abe7-b1c02a0dff52"
      },
      "outputs": [
        {
          "data": {
            "text/plain": [
              "6"
            ]
          },
          "execution_count": 11,
          "metadata": {},
          "output_type": "execute_result"
        }
      ],
      "source": [
        "len(\"python\")"
      ]
    },
    {
      "cell_type": "markdown",
      "metadata": {
        "id": "QkGLAroAu6Na"
      },
      "source": [
        "## Indexação em listas\n",
        "\n",
        "Indexação e \"fatiamento\" de listas e *strings* funcionam da mesma maneira.\n",
        "\n",
        "Vamos entender como isso funciona a indexação dos elementos em uma string:\n",
        "\n",
        "<img src = \"https://drive.google.com/uc?id=1AH8DJp_IRHn16w5YKS0HWa7UU2wwjxfY\" width = \"400\">\n",
        "\n",
        "\n",
        "E em uma lista:\n",
        "\n",
        "<img src = \"https://drive.google.com/uc?id=1YrEdqb5sXJxrgy5F8YatLEW_DC1OrK7H\" width = \"600\">\n",
        "\n"
      ]
    },
    {
      "cell_type": "code",
      "execution_count": 50,
      "metadata": {
        "id": "MvqIloCXu76Q"
      },
      "outputs": [],
      "source": [
        "# Criando uma string\n",
        "minha_string = 'Python'\n",
        "\n",
        "# Criando uma lista\n",
        "minha_lista = ['um','dois','tres',4,5]"
      ]
    },
    {
      "cell_type": "code",
      "execution_count": 42,
      "metadata": {},
      "outputs": [
        {
          "name": "stdout",
          "output_type": "stream",
          "text": [
            "Python\n",
            "['um', 'dois', 'tres', 4, 5]\n"
          ]
        }
      ],
      "source": [
        "print(minha_string)\n",
        "print(minha_lista)"
      ]
    },
    {
      "cell_type": "code",
      "execution_count": 48,
      "metadata": {
        "colab": {
          "base_uri": "https://localhost:8080/",
          "height": 35
        },
        "id": "uT3M4EhbI1gn",
        "outputId": "afca5edc-74ac-4d20-d8d5-b16aa18cc0f0"
      },
      "outputs": [
        {
          "data": {
            "text/plain": [
              "1"
            ]
          },
          "execution_count": 48,
          "metadata": {},
          "output_type": "execute_result"
        }
      ],
      "source": [
        "# Primeiro elemento da string\n",
        "minha_lista[0]"
      ]
    },
    {
      "cell_type": "code",
      "execution_count": 14,
      "metadata": {
        "colab": {
          "base_uri": "https://localhost:8080/",
          "height": 35
        },
        "id": "iGYqXRSmGbqT",
        "outputId": "347bf4a7-66ac-4d3e-9d77-019c9372c71e"
      },
      "outputs": [
        {
          "data": {
            "text/plain": [
              "'P'"
            ]
          },
          "execution_count": 14,
          "metadata": {},
          "output_type": "execute_result"
        }
      ],
      "source": [
        "# Primeiro elemento da lista\n",
        "minha_string[0]"
      ]
    },
    {
      "cell_type": "code",
      "execution_count": 43,
      "metadata": {
        "colab": {
          "base_uri": "https://localhost:8080/"
        },
        "id": "O5MBYT0gOTcT",
        "outputId": "f6d14d0a-ebfc-41f9-e3d7-27d0e5bb1ccc"
      },
      "outputs": [
        {
          "name": "stdout",
          "output_type": "stream",
          "text": [
            "n\n",
            "5\n"
          ]
        }
      ],
      "source": [
        "# Primeiro elemento da string e da lista (da direita para a esquerda)\n",
        "print(minha_string[-1])\n",
        "print(minha_lista[-1])"
      ]
    },
    {
      "cell_type": "code",
      "execution_count": 19,
      "metadata": {
        "colab": {
          "base_uri": "https://localhost:8080/"
        },
        "id": "fqZOt3laN5n_",
        "outputId": "ae43091d-d91e-4fb7-c4b8-eb1eb054e201"
      },
      "outputs": [
        {
          "name": "stdout",
          "output_type": "stream",
          "text": [
            "yt\n",
            "['dois', 'tres']\n"
          ]
        }
      ],
      "source": [
        "# Segundo e terceiros elementos da string e da lista \n",
        "print(minha_string[1:3])\n",
        "print(minha_lista[1:3])"
      ]
    },
    {
      "cell_type": "code",
      "execution_count": 20,
      "metadata": {
        "colab": {
          "base_uri": "https://localhost:8080/"
        },
        "id": "fniROQtjJX8j",
        "outputId": "ebc6e938-2eff-4549-9e7b-fe8496054689"
      },
      "outputs": [
        {
          "name": "stdout",
          "output_type": "stream",
          "text": [
            "Pyt\n",
            "['um', 'dois', 'tres']\n"
          ]
        }
      ],
      "source": [
        "# Os tres primeiros elementos da string e da lista \n",
        "print(minha_string[:3])\n",
        "print(minha_lista[:3])"
      ]
    },
    {
      "cell_type": "code",
      "execution_count": 21,
      "metadata": {
        "colab": {
          "base_uri": "https://localhost:8080/"
        },
        "id": "WnzSeR18JNKz",
        "outputId": "583a613c-4721-45c2-cb07-48b73c2a2b8a"
      },
      "outputs": [
        {
          "name": "stdout",
          "output_type": "stream",
          "text": [
            "hon\n",
            "[4, 5]\n"
          ]
        }
      ],
      "source": [
        "# Os tres ultimos elementos da string e da lista \n",
        "print(minha_string[3:])\n",
        "print(minha_lista[3:])"
      ]
    },
    {
      "cell_type": "markdown",
      "metadata": {
        "id": "aXC9hgJSNoE3"
      },
      "source": [
        "Perceba que a indexação de listas retornará um erro se não houver nenhum item nesse índice. Por exemplo:"
      ]
    },
    {
      "cell_type": "code",
      "execution_count": 44,
      "metadata": {},
      "outputs": [
        {
          "data": {
            "text/plain": [
              "['um', 'dois', 'tres', 4, 5]"
            ]
          },
          "execution_count": 44,
          "metadata": {},
          "output_type": "execute_result"
        }
      ],
      "source": [
        "minha_lista"
      ]
    },
    {
      "cell_type": "code",
      "execution_count": 23,
      "metadata": {
        "colab": {
          "base_uri": "https://localhost:8080/",
          "height": 203
        },
        "id": "EBIzYRSMNj6a",
        "outputId": "96754310-7c7d-4505-b479-1a676b687a79"
      },
      "outputs": [
        {
          "ename": "IndexError",
          "evalue": "list index out of range",
          "output_type": "error",
          "traceback": [
            "\u001b[0;31m---------------------------------------------------------------------------\u001b[0m",
            "\u001b[0;31mIndexError\u001b[0m                                Traceback (most recent call last)",
            "Cell \u001b[0;32mIn[23], line 1\u001b[0m\n\u001b[0;32m----> 1\u001b[0m \u001b[43mminha_lista\u001b[49m\u001b[43m[\u001b[49m\u001b[38;5;241;43m10\u001b[39;49m\u001b[43m]\u001b[49m\n",
            "\u001b[0;31mIndexError\u001b[0m: list index out of range"
          ]
        }
      ],
      "source": [
        "minha_lista[10]\n"
      ]
    },
    {
      "cell_type": "markdown",
      "metadata": {
        "id": "VUiABeBaNv4G"
      },
      "source": [
        "<img src = \"https://drive.google.com/uc?id=1xKxbRypQVkHMwdcV19sVSOQ8nCev12kw\" width = \"300\">"
      ]
    },
    {
      "cell_type": "markdown",
      "metadata": {
        "id": "iGdYMeRjSWw6"
      },
      "source": [
        "## Concatenando listas"
      ]
    },
    {
      "cell_type": "markdown",
      "metadata": {
        "id": "GrlhpKn5JkhO"
      },
      "source": [
        "Também podemos usar operador `+` para concatenar listas, assim como fizemos para *strings*."
      ]
    },
    {
      "cell_type": "code",
      "execution_count": 24,
      "metadata": {},
      "outputs": [
        {
          "data": {
            "text/plain": [
              "['um', 'dois', 'tres', 4, 5]"
            ]
          },
          "execution_count": 24,
          "metadata": {},
          "output_type": "execute_result"
        }
      ],
      "source": [
        "minha_lista"
      ]
    },
    {
      "cell_type": "code",
      "execution_count": 45,
      "metadata": {
        "colab": {
          "base_uri": "https://localhost:8080/"
        },
        "id": "G-I8gZgZJpPO",
        "outputId": "e13c3a3c-1f5f-46b4-ba70-11903e30cc18"
      },
      "outputs": [
        {
          "data": {
            "text/plain": [
              "['um', 'dois', 'tres', 4, 5, 6, 7, 8]"
            ]
          },
          "execution_count": 45,
          "metadata": {},
          "output_type": "execute_result"
        }
      ],
      "source": [
        "lista2 = minha_lista + [6,7,8]\n",
        "lista2"
      ]
    },
    {
      "cell_type": "markdown",
      "metadata": {
        "id": "XncapzXjKl1h"
      },
      "source": [
        "O mesmo serve para o operador `*` para replicar o conteúdo de uma lista."
      ]
    },
    {
      "cell_type": "code",
      "execution_count": 28,
      "metadata": {
        "colab": {
          "base_uri": "https://localhost:8080/"
        },
        "id": "zHGBttSpKuC5",
        "outputId": "37f9c14e-3498-4400-83da-9c54ba732e80"
      },
      "outputs": [
        {
          "data": {
            "text/plain": [
              "['ha', 'ha', 'ha', 'ha', 'ha']"
            ]
          },
          "execution_count": 28,
          "metadata": {},
          "output_type": "execute_result"
        }
      ],
      "source": [
        "[\"ha\"]*5\n"
      ]
    },
    {
      "cell_type": "markdown",
      "metadata": {
        "id": "2Jjx--xIKJMQ"
      },
      "source": [
        "Perceba que as duas  ações  anteriore não alteraram o conteúdo original das listas."
      ]
    },
    {
      "cell_type": "code",
      "execution_count": 51,
      "metadata": {
        "colab": {
          "base_uri": "https://localhost:8080/"
        },
        "id": "wwSpKUCWKQMi",
        "outputId": "b0fb2931-92ab-436d-e8e2-83b7ff64b7cb"
      },
      "outputs": [
        {
          "data": {
            "text/plain": [
              "['um', 'dois', 'tres', 4, 5]"
            ]
          },
          "execution_count": 51,
          "metadata": {},
          "output_type": "execute_result"
        }
      ],
      "source": [
        "minha_lista"
      ]
    },
    {
      "cell_type": "code",
      "execution_count": 37,
      "metadata": {},
      "outputs": [
        {
          "data": {
            "text/plain": [
              "['um', 'dois', 'tres', 4, 5, 6, 7, 8]"
            ]
          },
          "execution_count": 37,
          "metadata": {},
          "output_type": "execute_result"
        }
      ],
      "source": [
        "lista2"
      ]
    },
    {
      "cell_type": "markdown",
      "metadata": {
        "id": "vW0dzbECKTXM"
      },
      "source": [
        "Contudo, listas, como qualquer outra variável, pode ser sobrescrita. "
      ]
    },
    {
      "cell_type": "code",
      "execution_count": 52,
      "metadata": {
        "id": "zW0iNNNjKH74"
      },
      "outputs": [],
      "source": [
        "minha_lista = [1,0]"
      ]
    },
    {
      "cell_type": "code",
      "execution_count": 53,
      "metadata": {
        "colab": {
          "base_uri": "https://localhost:8080/"
        },
        "id": "y9kDfLfJKX4B",
        "outputId": "08e54e76-8bdd-4c80-b193-06fbc3b6b961"
      },
      "outputs": [
        {
          "data": {
            "text/plain": [
              "[1, 0]"
            ]
          },
          "execution_count": 53,
          "metadata": {},
          "output_type": "execute_result"
        }
      ],
      "source": [
        "minha_lista"
      ]
    },
    {
      "cell_type": "markdown",
      "metadata": {
        "id": "fZnrzdRpLFO5"
      },
      "source": [
        "# Funções embutidas (Built-in ) para se trabalhar com listas\n",
        "\n",
        "Vamos em frente e explorar alguns métodos mais especiais para objetos do tipo `list`:"
      ]
    },
    {
      "cell_type": "code",
      "execution_count": 56,
      "metadata": {
        "id": "iXInJ8MSLqLt"
      },
      "outputs": [],
      "source": [
        "lista = [1,2,3]"
      ]
    },
    {
      "cell_type": "code",
      "execution_count": 57,
      "metadata": {
        "colab": {
          "base_uri": "https://localhost:8080/"
        },
        "id": "EHFlfkXtMe29",
        "outputId": "975eed1a-a455-4fca-c7bd-4a6dff13bfe7"
      },
      "outputs": [
        {
          "data": {
            "text/plain": [
              "[1, 2, 3]"
            ]
          },
          "execution_count": 57,
          "metadata": {},
          "output_type": "execute_result"
        }
      ],
      "source": [
        "lista"
      ]
    },
    {
      "cell_type": "markdown",
      "metadata": {
        "id": "JufyYkNZMKG9"
      },
      "source": [
        "## O método `append()`\n",
        "\n",
        "Nós utilizamos o método `append()` para adicionar um novo item, permanentemente, ao final de uma lista:\n"
      ]
    },
    {
      "cell_type": "code",
      "execution_count": 58,
      "metadata": {
        "id": "EJmTrDcyMP7C"
      },
      "outputs": [],
      "source": [
        "lista.append(4)"
      ]
    },
    {
      "cell_type": "code",
      "execution_count": 59,
      "metadata": {
        "colab": {
          "base_uri": "https://localhost:8080/"
        },
        "id": "NKYG5CquMcD6",
        "outputId": "127e2852-4d59-4bfb-d1de-8c1e5eb8c40f"
      },
      "outputs": [
        {
          "data": {
            "text/plain": [
              "[1, 2, 3, 4]"
            ]
          },
          "execution_count": 59,
          "metadata": {},
          "output_type": "execute_result"
        }
      ],
      "source": [
        "lista"
      ]
    },
    {
      "cell_type": "markdown",
      "metadata": {
        "id": "Ktjb9N74RidZ"
      },
      "source": [
        "## O método `extend()`\n",
        "\n",
        "Nós utilizamos o método `extend()` para adicionar uma outra lista, permanentemente, ao final de uma lista:"
      ]
    },
    {
      "cell_type": "code",
      "execution_count": 60,
      "metadata": {
        "id": "PbUbdBVKR6C9"
      },
      "outputs": [],
      "source": [
        "lista.extend([5,6,7])\n",
        "#Isso é a mesma coisa que:\n",
        "#lista = lista + [5,6,7]"
      ]
    },
    {
      "cell_type": "code",
      "execution_count": 61,
      "metadata": {
        "colab": {
          "base_uri": "https://localhost:8080/"
        },
        "id": "SI_1VR_xSHAo",
        "outputId": "9146a157-c0e9-4fe1-bb88-3bd7cd338f88"
      },
      "outputs": [
        {
          "data": {
            "text/plain": [
              "[1, 2, 3, 4, 5, 6, 7]"
            ]
          },
          "execution_count": 61,
          "metadata": {},
          "output_type": "execute_result"
        }
      ],
      "source": [
        "lista"
      ]
    },
    {
      "cell_type": "markdown",
      "metadata": {
        "id": "jt0mV_IxM3EK"
      },
      "source": [
        "## O método `pop()`\n",
        "\n",
        "Usamos o método `pop()` para remover um item da lista. Por padrão, o `pop()` remove o último item da lista, mas você também pode especificar o índice do item a ser removido. Vejamos um exemplo:"
      ]
    },
    {
      "cell_type": "code",
      "execution_count": 62,
      "metadata": {
        "colab": {
          "base_uri": "https://localhost:8080/"
        },
        "id": "iMtqlflfNJm8",
        "outputId": "7f2302f3-ff0d-4e6a-82d1-10b1eeb458e2"
      },
      "outputs": [
        {
          "data": {
            "text/plain": [
              "7"
            ]
          },
          "execution_count": 62,
          "metadata": {},
          "output_type": "execute_result"
        }
      ],
      "source": [
        "lista.pop()"
      ]
    },
    {
      "cell_type": "code",
      "execution_count": 63,
      "metadata": {
        "colab": {
          "base_uri": "https://localhost:8080/"
        },
        "id": "RwdBfcEANSXK",
        "outputId": "762e2f69-1151-4af7-c06f-51bd8febc559"
      },
      "outputs": [
        {
          "data": {
            "text/plain": [
              "[1, 2, 3, 4, 5, 6]"
            ]
          },
          "execution_count": 63,
          "metadata": {},
          "output_type": "execute_result"
        }
      ],
      "source": [
        "lista"
      ]
    },
    {
      "cell_type": "code",
      "execution_count": 64,
      "metadata": {
        "colab": {
          "base_uri": "https://localhost:8080/"
        },
        "id": "JwEnoLujNUXR",
        "outputId": "92a7ffd8-c824-4fd6-c4e1-ee0b96d9fe8f"
      },
      "outputs": [
        {
          "data": {
            "text/plain": [
              "6"
            ]
          },
          "execution_count": 64,
          "metadata": {},
          "output_type": "execute_result"
        }
      ],
      "source": [
        "lista.pop(-1)"
      ]
    },
    {
      "cell_type": "code",
      "execution_count": 65,
      "metadata": {
        "colab": {
          "base_uri": "https://localhost:8080/"
        },
        "id": "29LPpIRrNYIO",
        "outputId": "fd0d0742-5e0f-4f0e-d4fd-1e6d364c1f65"
      },
      "outputs": [
        {
          "data": {
            "text/plain": [
              "[1, 2, 3, 4, 5]"
            ]
          },
          "execution_count": 65,
          "metadata": {},
          "output_type": "execute_result"
        }
      ],
      "source": [
        "lista"
      ]
    },
    {
      "cell_type": "code",
      "execution_count": 66,
      "metadata": {},
      "outputs": [
        {
          "data": {
            "text/plain": [
              "2"
            ]
          },
          "execution_count": 66,
          "metadata": {},
          "output_type": "execute_result"
        }
      ],
      "source": [
        "lista.pop(1)"
      ]
    },
    {
      "cell_type": "code",
      "execution_count": 67,
      "metadata": {},
      "outputs": [
        {
          "data": {
            "text/plain": [
              "[1, 3, 4, 5]"
            ]
          },
          "execution_count": 67,
          "metadata": {},
          "output_type": "execute_result"
        }
      ],
      "source": [
        "lista"
      ]
    },
    {
      "cell_type": "markdown",
      "metadata": {
        "id": "VP0wBpkSSMv_"
      },
      "source": [
        "## O comando `remove()`\n",
        "\n",
        "Nós utilizamos o método `remove()` para remover um item pelo seu valor:"
      ]
    },
    {
      "cell_type": "code",
      "execution_count": 68,
      "metadata": {
        "id": "w1EKl5gzSgbx"
      },
      "outputs": [],
      "source": [
        "lista.remove(4)"
      ]
    },
    {
      "cell_type": "code",
      "execution_count": 69,
      "metadata": {
        "colab": {
          "base_uri": "https://localhost:8080/"
        },
        "id": "DN8QlWI8SP27",
        "outputId": "804738bd-1dcc-4cff-f816-e1cc04851c0e"
      },
      "outputs": [
        {
          "data": {
            "text/plain": [
              "[1, 3, 5]"
            ]
          },
          "execution_count": 69,
          "metadata": {},
          "output_type": "execute_result"
        }
      ],
      "source": [
        "lista"
      ]
    },
    {
      "cell_type": "code",
      "execution_count": 70,
      "metadata": {
        "id": "GwDKu8nKmiGo"
      },
      "outputs": [],
      "source": [
        "lista.extend([10, 9 , 10])"
      ]
    },
    {
      "cell_type": "code",
      "execution_count": 71,
      "metadata": {
        "colab": {
          "base_uri": "https://localhost:8080/"
        },
        "id": "170Jla-smo44",
        "outputId": "120ce724-d426-4164-9ddf-d67e761e6cae"
      },
      "outputs": [
        {
          "data": {
            "text/plain": [
              "[1, 3, 5, 10, 9, 10]"
            ]
          },
          "execution_count": 71,
          "metadata": {},
          "output_type": "execute_result"
        }
      ],
      "source": [
        "lista"
      ]
    },
    {
      "cell_type": "code",
      "execution_count": 72,
      "metadata": {
        "id": "HNQi8HE2mqlN"
      },
      "outputs": [],
      "source": [
        "lista.remove(10)"
      ]
    },
    {
      "cell_type": "code",
      "execution_count": 73,
      "metadata": {
        "colab": {
          "base_uri": "https://localhost:8080/"
        },
        "id": "qPBJ4XW6mtWU",
        "outputId": "156a51de-1d24-4091-a7cc-431d7fd9a6b6"
      },
      "outputs": [
        {
          "data": {
            "text/plain": [
              "[1, 3, 5, 9, 10]"
            ]
          },
          "execution_count": 73,
          "metadata": {},
          "output_type": "execute_result"
        }
      ],
      "source": [
        "lista"
      ]
    },
    {
      "cell_type": "markdown",
      "metadata": {
        "id": "liSuMUpiZy2n"
      },
      "source": [
        "## o comando `clear()`"
      ]
    },
    {
      "cell_type": "code",
      "execution_count": 74,
      "metadata": {
        "id": "TsEmSucUZ1tW"
      },
      "outputs": [],
      "source": [
        "lista.clear()"
      ]
    },
    {
      "cell_type": "code",
      "execution_count": 75,
      "metadata": {
        "colab": {
          "base_uri": "https://localhost:8080/"
        },
        "id": "4P1n3IuqZ4b1",
        "outputId": "5b137975-33ff-4964-fd42-5f23e8993ad6"
      },
      "outputs": [
        {
          "data": {
            "text/plain": [
              "[]"
            ]
          },
          "execution_count": 75,
          "metadata": {},
          "output_type": "execute_result"
        }
      ],
      "source": [
        "lista"
      ]
    },
    {
      "cell_type": "code",
      "execution_count": 76,
      "metadata": {
        "colab": {
          "base_uri": "https://localhost:8080/"
        },
        "id": "M54nj1ESnCra",
        "outputId": "f904802a-d255-4b1e-9632-facc10203d09"
      },
      "outputs": [
        {
          "data": {
            "text/plain": [
              "0"
            ]
          },
          "execution_count": 76,
          "metadata": {},
          "output_type": "execute_result"
        }
      ],
      "source": [
        "len(lista)"
      ]
    },
    {
      "cell_type": "code",
      "execution_count": 77,
      "metadata": {
        "id": "-hGIA6KZnF-R"
      },
      "outputs": [],
      "source": [
        "lista2 = []"
      ]
    },
    {
      "cell_type": "code",
      "execution_count": 78,
      "metadata": {
        "colab": {
          "base_uri": "https://localhost:8080/"
        },
        "id": "P9tJWJonnIia",
        "outputId": "6a1170ee-dce0-48e3-8795-bc23ac2da485"
      },
      "outputs": [
        {
          "data": {
            "text/plain": [
              "[]"
            ]
          },
          "execution_count": 78,
          "metadata": {},
          "output_type": "execute_result"
        }
      ],
      "source": [
        "lista2"
      ]
    },
    {
      "cell_type": "markdown",
      "metadata": {},
      "source": [
        "## Resolvendo o desafio motivacional!"
      ]
    },
    {
      "cell_type": "code",
      "execution_count": 81,
      "metadata": {},
      "outputs": [
        {
          "name": "stdout",
          "output_type": "stream",
          "text": [
            "7.5\n"
          ]
        }
      ],
      "source": [
        "n_alunos = 0\n",
        "soma = 0\n",
        "notas = []\n",
        "\n",
        "nota = float(input())\n",
        "notas.append(nota)\n",
        "\n",
        "while nota>=0:\n",
        "    n_alunos += 1\n",
        "    soma += nota\n",
        "    nota = float(input())\n",
        "    if nota >=0:\n",
        "        notas.append(nota)\n",
        "\n",
        "media = soma/n_alunos\n",
        "print(media)\n"
      ]
    },
    {
      "cell_type": "code",
      "execution_count": 82,
      "metadata": {},
      "outputs": [
        {
          "data": {
            "text/plain": [
              "[10.0, 9.0, 6.0, 5.0]"
            ]
          },
          "execution_count": 82,
          "metadata": {},
          "output_type": "execute_result"
        }
      ],
      "source": [
        "notas"
      ]
    }
  ],
  "metadata": {
    "colab": {
      "authorship_tag": "ABX9TyMJcrVLklJnu4b6hgGZ1pXq",
      "collapsed_sections": [],
      "include_colab_link": true,
      "provenance": []
    },
    "kernelspec": {
      "display_name": "Python 3",
      "name": "python3"
    },
    "language_info": {
      "codemirror_mode": {
        "name": "ipython",
        "version": 3
      },
      "file_extension": ".py",
      "mimetype": "text/x-python",
      "name": "python",
      "nbconvert_exporter": "python",
      "pygments_lexer": "ipython3",
      "version": "3.9.16"
    }
  },
  "nbformat": 4,
  "nbformat_minor": 0
}
