{
  "nbformat": 4,
  "nbformat_minor": 0,
  "metadata": {
    "colab": {
      "provenance": [],
      "collapsed_sections": [],
      "authorship_tag": "ABX9TyPYOH1X2XqQKjvpmKGlquqU",
      "include_colab_link": true
    },
    "kernelspec": {
      "name": "python3",
      "display_name": "Python 3"
    },
    "language_info": {
      "name": "python"
    }
  },
  "cells": [
    {
      "cell_type": "markdown",
      "metadata": {
        "id": "view-in-github",
        "colab_type": "text"
      },
      "source": [
        "<a href=\"https://colab.research.google.com/github/fabiqroz/disciplina_IC/blob/main/08_listas.ipynb\" target=\"_parent\"><img src=\"https://colab.research.google.com/assets/colab-badge.svg\" alt=\"Open In Colab\"/></a>"
      ]
    },
    {
      "cell_type": "markdown",
      "source": [
        "# Desafio Motivacional\n",
        "\n",
        "<img src = \"https://drive.google.com/uc?id=1Gy4XA0dWqpdDVCQc0GbjJ24hJ1GXYuTT\" width = \"1000\">\n",
        "\n"
      ],
      "metadata": {
        "id": "GCceH8VMWDdC"
      }
    },
    {
      "cell_type": "markdown",
      "source": [
        "# Listas"
      ],
      "metadata": {
        "id": "pb1fHmqutWsP"
      }
    },
    {
      "cell_type": "code",
      "execution_count": null,
      "metadata": {
        "id": "dLQVDyeOtFgT"
      },
      "outputs": [],
      "source": [
        "# Atribuindo uma lista a uma variável chamada minha_lista\n",
        "lista = [1,2,3]"
      ]
    },
    {
      "cell_type": "code",
      "source": [
        "lista"
      ],
      "metadata": {
        "colab": {
          "base_uri": "https://localhost:8080/"
        },
        "id": "4bBHeX3tfDa9",
        "outputId": "b620bfd3-4524-4a11-e5a4-b5fa3df9d50e"
      },
      "execution_count": null,
      "outputs": [
        {
          "output_type": "execute_result",
          "data": {
            "text/plain": [
              "[1, 2, 3]"
            ]
          },
          "metadata": {},
          "execution_count": 9
        }
      ]
    },
    {
      "cell_type": "code",
      "source": [
        "# Verificando o tipo da variável lista\n",
        "type(lista)"
      ],
      "metadata": {
        "colab": {
          "base_uri": "https://localhost:8080/"
        },
        "id": "CS1P0R5sJ0cL",
        "outputId": "1ecaafac-a946-4b7e-93cf-caf18fce7b2d"
      },
      "execution_count": null,
      "outputs": [
        {
          "output_type": "execute_result",
          "data": {
            "text/plain": [
              "list"
            ]
          },
          "metadata": {},
          "execution_count": 10
        }
      ]
    },
    {
      "cell_type": "markdown",
      "source": [
        "Listas podem ser heterogêneas:"
      ],
      "metadata": {
        "id": "GgbabgiPueHu"
      }
    },
    {
      "cell_type": "code",
      "source": [
        "# Criando listas heterogêneas\n",
        "minha_lista = [1, 4.6, 'maria', True]"
      ],
      "metadata": {
        "id": "3QI5Qs2OubbF"
      },
      "execution_count": null,
      "outputs": []
    },
    {
      "cell_type": "code",
      "source": [
        "minha_lista"
      ],
      "metadata": {
        "colab": {
          "base_uri": "https://localhost:8080/"
        },
        "id": "O44YwsZvfsGb",
        "outputId": "ade82cd6-a8c2-406c-eaf4-9be45d8668ae"
      },
      "execution_count": null,
      "outputs": [
        {
          "output_type": "execute_result",
          "data": {
            "text/plain": [
              "[1, 0]"
            ]
          },
          "metadata": {},
          "execution_count": 38
        }
      ]
    },
    {
      "cell_type": "markdown",
      "source": [
        "Assim como as *strings*, a ocomando (funçao) `len()` lhe dirá quantos itens tem em uma lista."
      ],
      "metadata": {
        "id": "b8WrT4w9uqFe"
      }
    },
    {
      "cell_type": "code",
      "source": [
        "# Verificando o tamanho de uma lista\n",
        "len(minha_lista)"
      ],
      "metadata": {
        "colab": {
          "base_uri": "https://localhost:8080/"
        },
        "id": "PnpOvi4Cuymu",
        "outputId": "6f198630-f3d1-48ea-fc84-dcd12dca127e"
      },
      "execution_count": null,
      "outputs": [
        {
          "output_type": "execute_result",
          "data": {
            "text/plain": [
              "2"
            ]
          },
          "metadata": {},
          "execution_count": 39
        }
      ]
    },
    {
      "cell_type": "code",
      "source": [
        "len(\"maria\")"
      ],
      "metadata": {
        "colab": {
          "base_uri": "https://localhost:8080/"
        },
        "id": "rODUXhEwlVAG",
        "outputId": "80dd720e-850a-4251-abe7-b1c02a0dff52"
      },
      "execution_count": null,
      "outputs": [
        {
          "output_type": "execute_result",
          "data": {
            "text/plain": [
              "5"
            ]
          },
          "metadata": {},
          "execution_count": 40
        }
      ]
    },
    {
      "cell_type": "markdown",
      "source": [
        "## Indexação em listas\n",
        "\n",
        "Indexação e \"fatiamento\" de listas e *strings* funcionam da mesma maneira.\n",
        "\n",
        "Vamos entender como isso funciona a indexação dos elementos em uma string:\n",
        "\n",
        "<img src = \"https://drive.google.com/uc?id=1AH8DJp_IRHn16w5YKS0HWa7UU2wwjxfY\" width = \"400\">\n",
        "\n",
        "\n",
        "E em uma lista:\n",
        "\n",
        "<img src = \"https://drive.google.com/uc?id=1YrEdqb5sXJxrgy5F8YatLEW_DC1OrK7H\" width = \"600\">\n",
        "\n"
      ],
      "metadata": {
        "id": "QkGLAroAu6Na"
      }
    },
    {
      "cell_type": "code",
      "source": [
        "# Criando uma string\n",
        "minha_string = 'Python'\n",
        "\n",
        "# Criando uma lista\n",
        "minha_lista = ['um','dois','tres',4,5]"
      ],
      "metadata": {
        "id": "MvqIloCXu76Q"
      },
      "execution_count": null,
      "outputs": []
    },
    {
      "cell_type": "code",
      "source": [
        "# Primeiro elemento da string\n",
        "minha_string[0]"
      ],
      "metadata": {
        "colab": {
          "base_uri": "https://localhost:8080/",
          "height": 35
        },
        "id": "uT3M4EhbI1gn",
        "outputId": "0ec99c57-1159-4be9-a30c-3f3c34da8daf"
      },
      "execution_count": null,
      "outputs": [
        {
          "output_type": "execute_result",
          "data": {
            "text/plain": [
              "'n'"
            ],
            "application/vnd.google.colaboratory.intrinsic+json": {
              "type": "string"
            }
          },
          "metadata": {},
          "execution_count": 17
        }
      ]
    },
    {
      "cell_type": "code",
      "source": [
        "# Primeiro elemento da lista\n",
        "minha_lista[0]"
      ],
      "metadata": {
        "colab": {
          "base_uri": "https://localhost:8080/",
          "height": 35
        },
        "id": "iGYqXRSmGbqT",
        "outputId": "5b61d0c0-97a2-4a2e-8465-0f5dd310534a"
      },
      "execution_count": null,
      "outputs": [
        {
          "output_type": "execute_result",
          "data": {
            "text/plain": [
              "'um'"
            ],
            "application/vnd.google.colaboratory.intrinsic+json": {
              "type": "string"
            }
          },
          "metadata": {},
          "execution_count": 18
        }
      ]
    },
    {
      "cell_type": "code",
      "source": [
        "# Primeiro elemento da string e da lista (da direita para a esquerda)\n",
        "print(minha_string[-1])\n",
        "print(minha_lista[-1])"
      ],
      "metadata": {
        "colab": {
          "base_uri": "https://localhost:8080/"
        },
        "id": "O5MBYT0gOTcT",
        "outputId": "f5fe627b-9be2-4ab5-fb96-449fb6391a0e"
      },
      "execution_count": null,
      "outputs": [
        {
          "output_type": "stream",
          "name": "stdout",
          "text": [
            "n\n",
            "5\n"
          ]
        }
      ]
    },
    {
      "cell_type": "code",
      "source": [
        "# Segundo e terceiros elementos da string e da lista \n",
        "print(minha_string[1:3])\n",
        "print(minha_lista[1:3])"
      ],
      "metadata": {
        "colab": {
          "base_uri": "https://localhost:8080/"
        },
        "id": "fqZOt3laN5n_",
        "outputId": "74fce8ee-e610-4432-c1f6-69df8c99dafb"
      },
      "execution_count": null,
      "outputs": [
        {
          "output_type": "stream",
          "name": "stdout",
          "text": [
            "yt\n",
            "['dois', 'tres']\n"
          ]
        }
      ]
    },
    {
      "cell_type": "code",
      "source": [
        "# Os tres primeiros elementos da string e da lista \n",
        "print(minha_string[:3])\n",
        "print(minha_lista[:3])"
      ],
      "metadata": {
        "colab": {
          "base_uri": "https://localhost:8080/"
        },
        "id": "fniROQtjJX8j",
        "outputId": "79a76a8a-99be-4e3b-d0fa-186f95ee20c1"
      },
      "execution_count": null,
      "outputs": [
        {
          "output_type": "stream",
          "name": "stdout",
          "text": [
            "hon\n",
            "[4, 5]\n"
          ]
        }
      ]
    },
    {
      "cell_type": "code",
      "source": [
        "# Os tres ultimos elementos da string e da lista \n",
        "print(minha_string[3:])\n",
        "print(minha_lista[3:])"
      ],
      "metadata": {
        "id": "WnzSeR18JNKz"
      },
      "execution_count": null,
      "outputs": []
    },
    {
      "cell_type": "markdown",
      "source": [
        "Perceba que a indexação de listas retornará um erro se não houver nenhum item nesse índice. Por exemplo:"
      ],
      "metadata": {
        "id": "aXC9hgJSNoE3"
      }
    },
    {
      "cell_type": "code",
      "source": [
        "minha_lista[10]\n"
      ],
      "metadata": {
        "colab": {
          "base_uri": "https://localhost:8080/",
          "height": 168
        },
        "id": "EBIzYRSMNj6a",
        "outputId": "d3bf3be8-53df-413f-bcb8-fdc520a40ed7"
      },
      "execution_count": null,
      "outputs": [
        {
          "output_type": "error",
          "ename": "IndexError",
          "evalue": "ignored",
          "traceback": [
            "\u001b[0;31m---------------------------------------------------------------------------\u001b[0m",
            "\u001b[0;31mIndexError\u001b[0m                                Traceback (most recent call last)",
            "\u001b[0;32m<ipython-input-28-d9c7c7a1bbd2>\u001b[0m in \u001b[0;36m<module>\u001b[0;34m\u001b[0m\n\u001b[0;32m----> 1\u001b[0;31m \u001b[0mminha_lista\u001b[0m\u001b[0;34m[\u001b[0m\u001b[0;36m10\u001b[0m\u001b[0;34m]\u001b[0m\u001b[0;34m\u001b[0m\u001b[0;34m\u001b[0m\u001b[0m\n\u001b[0m",
            "\u001b[0;31mIndexError\u001b[0m: list index out of range"
          ]
        }
      ]
    },
    {
      "cell_type": "markdown",
      "source": [
        "<img src = \"https://drive.google.com/uc?id=1xKxbRypQVkHMwdcV19sVSOQ8nCev12kw\" width = \"300\">"
      ],
      "metadata": {
        "id": "VUiABeBaNv4G"
      }
    },
    {
      "cell_type": "markdown",
      "source": [
        "## Concatenando listas"
      ],
      "metadata": {
        "id": "iGdYMeRjSWw6"
      }
    },
    {
      "cell_type": "markdown",
      "source": [
        "Também podemos usar operador `+` para concatenar listas, assim como fizemos para *strings*."
      ],
      "metadata": {
        "id": "GrlhpKn5JkhO"
      }
    },
    {
      "cell_type": "code",
      "source": [
        "lista2 = minha_lista + ['elemento1', 2]\n",
        "lista2"
      ],
      "metadata": {
        "colab": {
          "base_uri": "https://localhost:8080/"
        },
        "id": "G-I8gZgZJpPO",
        "outputId": "9f815688-6fbe-4d20-d3e2-7c7bf73f17fe"
      },
      "execution_count": null,
      "outputs": [
        {
          "output_type": "execute_result",
          "data": {
            "text/plain": [
              "['um', 'dois', 'tres', 4, 5, 'elemento1', 2]"
            ]
          },
          "metadata": {},
          "execution_count": 34
        }
      ]
    },
    {
      "cell_type": "markdown",
      "source": [
        "O mesmo serve para o operador `*` para replicar o conteúdo de uma lista."
      ],
      "metadata": {
        "id": "XncapzXjKl1h"
      }
    },
    {
      "cell_type": "code",
      "source": [
        "[\"ha\", \"he\"]*5"
      ],
      "metadata": {
        "colab": {
          "base_uri": "https://localhost:8080/"
        },
        "id": "zHGBttSpKuC5",
        "outputId": "33ed5483-97cd-463d-fa83-b084b2821433"
      },
      "execution_count": null,
      "outputs": [
        {
          "output_type": "execute_result",
          "data": {
            "text/plain": [
              "['ha', 'he', 'ha', 'he', 'ha', 'he', 'ha', 'he', 'ha', 'he']"
            ]
          },
          "metadata": {},
          "execution_count": 32
        }
      ]
    },
    {
      "cell_type": "markdown",
      "source": [
        "Perceba que as duas  ações  anteriore não alteraram o conteúdo original das listas."
      ],
      "metadata": {
        "id": "2Jjx--xIKJMQ"
      }
    },
    {
      "cell_type": "code",
      "source": [
        "minha_lista"
      ],
      "metadata": {
        "colab": {
          "base_uri": "https://localhost:8080/"
        },
        "id": "wwSpKUCWKQMi",
        "outputId": "b0fb2931-92ab-436d-e8e2-83b7ff64b7cb"
      },
      "execution_count": null,
      "outputs": [
        {
          "output_type": "execute_result",
          "data": {
            "text/plain": [
              "['um', 'dois', 'tres', 4, 5]"
            ]
          },
          "metadata": {},
          "execution_count": 35
        }
      ]
    },
    {
      "cell_type": "markdown",
      "source": [
        "Contudo, listas, como qualquer outra variável, pode ser sobrescrita. "
      ],
      "metadata": {
        "id": "vW0dzbECKTXM"
      }
    },
    {
      "cell_type": "code",
      "source": [
        "minha_lista = [1,0]"
      ],
      "metadata": {
        "id": "zW0iNNNjKH74"
      },
      "execution_count": null,
      "outputs": []
    },
    {
      "cell_type": "code",
      "source": [
        "minha_lista"
      ],
      "metadata": {
        "colab": {
          "base_uri": "https://localhost:8080/"
        },
        "id": "y9kDfLfJKX4B",
        "outputId": "f89e33bc-73ec-4e25-d3f1-252d04f37787"
      },
      "execution_count": null,
      "outputs": [
        {
          "output_type": "execute_result",
          "data": {
            "text/plain": [
              "[1, 0]"
            ]
          },
          "metadata": {},
          "execution_count": 37
        }
      ]
    },
    {
      "cell_type": "markdown",
      "source": [
        "# Funções embutidas (Built-in ) para se trabalhar com listas\n",
        "\n",
        "Vamos em frente e explorar alguns métodos mais especiais para objetos do tipo `list`:"
      ],
      "metadata": {
        "id": "fZnrzdRpLFO5"
      }
    },
    {
      "cell_type": "code",
      "source": [
        "lista = [1,2,3]"
      ],
      "metadata": {
        "id": "iXInJ8MSLqLt"
      },
      "execution_count": null,
      "outputs": []
    },
    {
      "cell_type": "code",
      "source": [
        "lista"
      ],
      "metadata": {
        "colab": {
          "base_uri": "https://localhost:8080/"
        },
        "id": "EHFlfkXtMe29",
        "outputId": "53082a43-4709-4293-96f5-4bbcac36eb23"
      },
      "execution_count": null,
      "outputs": [
        {
          "output_type": "execute_result",
          "data": {
            "text/plain": [
              "[1, 2, 3]"
            ]
          },
          "metadata": {},
          "execution_count": 42
        }
      ]
    },
    {
      "cell_type": "markdown",
      "source": [
        "## O método `append()`\n",
        "\n",
        "Nós utilizamos o método `append()` para adicionar um novo item, permanentemente, ao final de uma lista:\n"
      ],
      "metadata": {
        "id": "JufyYkNZMKG9"
      }
    },
    {
      "cell_type": "code",
      "source": [
        "lista.append(4)"
      ],
      "metadata": {
        "id": "EJmTrDcyMP7C"
      },
      "execution_count": null,
      "outputs": []
    },
    {
      "cell_type": "code",
      "source": [
        "lista"
      ],
      "metadata": {
        "colab": {
          "base_uri": "https://localhost:8080/"
        },
        "id": "NKYG5CquMcD6",
        "outputId": "0be2d1b1-1046-4fbf-fda6-5acc980ccce3"
      },
      "execution_count": null,
      "outputs": [
        {
          "output_type": "execute_result",
          "data": {
            "text/plain": [
              "[1, 2, 3, 4]"
            ]
          },
          "metadata": {},
          "execution_count": 44
        }
      ]
    },
    {
      "cell_type": "markdown",
      "source": [
        "## O método `extend()`\n",
        "\n",
        "Nós utilizamos o método `extend()` para adicionar uma outra lista, permanentemente, ao final de uma lista:"
      ],
      "metadata": {
        "id": "Ktjb9N74RidZ"
      }
    },
    {
      "cell_type": "code",
      "source": [
        "lista.extend([5,6,7])"
      ],
      "metadata": {
        "id": "PbUbdBVKR6C9"
      },
      "execution_count": null,
      "outputs": []
    },
    {
      "cell_type": "code",
      "source": [
        "lista"
      ],
      "metadata": {
        "colab": {
          "base_uri": "https://localhost:8080/"
        },
        "id": "SI_1VR_xSHAo",
        "outputId": "c12dd6e6-3ef7-4eb8-d03a-6acd216d48d6"
      },
      "execution_count": null,
      "outputs": [
        {
          "output_type": "execute_result",
          "data": {
            "text/plain": [
              "[1, 2, 3, 4, 5, 6, 7]"
            ]
          },
          "metadata": {},
          "execution_count": 46
        }
      ]
    },
    {
      "cell_type": "markdown",
      "source": [
        "## O método `pop()`\n",
        "\n",
        "Usamos o método `pop()` para remover um item da lista. Por padrão, o `pop()` remove o último item da lista, mas você também pode especificar o índice do item a ser removido. Vejamos um exemplo:"
      ],
      "metadata": {
        "id": "jt0mV_IxM3EK"
      }
    },
    {
      "cell_type": "code",
      "source": [
        "lista.pop()"
      ],
      "metadata": {
        "colab": {
          "base_uri": "https://localhost:8080/"
        },
        "id": "iMtqlflfNJm8",
        "outputId": "87d45016-bf11-4d00-b36d-f6f38bd35b07"
      },
      "execution_count": null,
      "outputs": [
        {
          "output_type": "execute_result",
          "data": {
            "text/plain": [
              "7"
            ]
          },
          "metadata": {},
          "execution_count": 47
        }
      ]
    },
    {
      "cell_type": "code",
      "source": [
        "lista"
      ],
      "metadata": {
        "colab": {
          "base_uri": "https://localhost:8080/"
        },
        "id": "RwdBfcEANSXK",
        "outputId": "4db68921-8704-494b-a5ff-4fe999ed0dc4"
      },
      "execution_count": null,
      "outputs": [
        {
          "output_type": "execute_result",
          "data": {
            "text/plain": [
              "[1, 2, 3, 4, 5, 6]"
            ]
          },
          "metadata": {},
          "execution_count": 48
        }
      ]
    },
    {
      "cell_type": "code",
      "source": [
        "lista.pop(0)"
      ],
      "metadata": {
        "colab": {
          "base_uri": "https://localhost:8080/"
        },
        "id": "JwEnoLujNUXR",
        "outputId": "8a3132e6-56a3-4210-9ca4-9831869861ee"
      },
      "execution_count": null,
      "outputs": [
        {
          "output_type": "execute_result",
          "data": {
            "text/plain": [
              "1"
            ]
          },
          "metadata": {},
          "execution_count": 49
        }
      ]
    },
    {
      "cell_type": "code",
      "source": [
        "lista"
      ],
      "metadata": {
        "colab": {
          "base_uri": "https://localhost:8080/"
        },
        "id": "29LPpIRrNYIO",
        "outputId": "0251738d-8cfd-41fb-a3df-a5df7fccffc2"
      },
      "execution_count": null,
      "outputs": [
        {
          "output_type": "execute_result",
          "data": {
            "text/plain": [
              "[2, 3, 4, 5, 6]"
            ]
          },
          "metadata": {},
          "execution_count": 50
        }
      ]
    },
    {
      "cell_type": "markdown",
      "source": [
        "## O comando `remove()`\n",
        "\n",
        "Nós utilizamos o método `remove()` para remover um item pelo seu valor:"
      ],
      "metadata": {
        "id": "VP0wBpkSSMv_"
      }
    },
    {
      "cell_type": "code",
      "source": [
        "lista.remove(2)"
      ],
      "metadata": {
        "id": "w1EKl5gzSgbx"
      },
      "execution_count": null,
      "outputs": []
    },
    {
      "cell_type": "code",
      "source": [
        "lista"
      ],
      "metadata": {
        "colab": {
          "base_uri": "https://localhost:8080/"
        },
        "id": "DN8QlWI8SP27",
        "outputId": "4c226bbe-da22-4330-bca6-980165014f71"
      },
      "execution_count": null,
      "outputs": [
        {
          "output_type": "execute_result",
          "data": {
            "text/plain": [
              "[3, 4, 5, 6]"
            ]
          },
          "metadata": {},
          "execution_count": 52
        }
      ]
    },
    {
      "cell_type": "code",
      "source": [
        "lista.extend([10, 10])"
      ],
      "metadata": {
        "id": "GwDKu8nKmiGo"
      },
      "execution_count": null,
      "outputs": []
    },
    {
      "cell_type": "code",
      "source": [
        "lista"
      ],
      "metadata": {
        "colab": {
          "base_uri": "https://localhost:8080/"
        },
        "id": "170Jla-smo44",
        "outputId": "1299829c-055b-47e6-b542-076b61f7e846"
      },
      "execution_count": null,
      "outputs": [
        {
          "output_type": "execute_result",
          "data": {
            "text/plain": [
              "[3, 4, 5, 6, 10, 10]"
            ]
          },
          "metadata": {},
          "execution_count": 54
        }
      ]
    },
    {
      "cell_type": "code",
      "source": [
        "lista.remove(10)"
      ],
      "metadata": {
        "id": "HNQi8HE2mqlN"
      },
      "execution_count": null,
      "outputs": []
    },
    {
      "cell_type": "code",
      "source": [
        "lista"
      ],
      "metadata": {
        "colab": {
          "base_uri": "https://localhost:8080/"
        },
        "id": "qPBJ4XW6mtWU",
        "outputId": "9a0665e7-cd62-44af-d647-54b66b6435fe"
      },
      "execution_count": null,
      "outputs": [
        {
          "output_type": "execute_result",
          "data": {
            "text/plain": [
              "[3, 4, 5, 6, 10]"
            ]
          },
          "metadata": {},
          "execution_count": 56
        }
      ]
    },
    {
      "cell_type": "markdown",
      "source": [
        "## o comando `clear()`"
      ],
      "metadata": {
        "id": "liSuMUpiZy2n"
      }
    },
    {
      "cell_type": "code",
      "source": [
        "lista.clear()"
      ],
      "metadata": {
        "id": "TsEmSucUZ1tW"
      },
      "execution_count": null,
      "outputs": []
    },
    {
      "cell_type": "code",
      "source": [
        "lista"
      ],
      "metadata": {
        "id": "4P1n3IuqZ4b1",
        "outputId": "61df8e77-a355-4e5e-d1b0-b19015cba99e",
        "colab": {
          "base_uri": "https://localhost:8080/"
        }
      },
      "execution_count": null,
      "outputs": [
        {
          "output_type": "execute_result",
          "data": {
            "text/plain": [
              "[]"
            ]
          },
          "metadata": {},
          "execution_count": 58
        }
      ]
    },
    {
      "cell_type": "code",
      "source": [
        "len(lista)"
      ],
      "metadata": {
        "colab": {
          "base_uri": "https://localhost:8080/"
        },
        "id": "M54nj1ESnCra",
        "outputId": "347ce43f-970f-4a95-dd49-91c796f0118a"
      },
      "execution_count": null,
      "outputs": [
        {
          "output_type": "execute_result",
          "data": {
            "text/plain": [
              "0"
            ]
          },
          "metadata": {},
          "execution_count": 59
        }
      ]
    },
    {
      "cell_type": "code",
      "source": [
        "lista2 = []"
      ],
      "metadata": {
        "id": "-hGIA6KZnF-R"
      },
      "execution_count": null,
      "outputs": []
    },
    {
      "cell_type": "code",
      "source": [
        "lista2"
      ],
      "metadata": {
        "colab": {
          "base_uri": "https://localhost:8080/"
        },
        "id": "P9tJWJonnIia",
        "outputId": "6dd731f8-ec88-41fd-cf8c-4d9cc7c03e8d"
      },
      "execution_count": null,
      "outputs": [
        {
          "output_type": "execute_result",
          "data": {
            "text/plain": [
              "[]"
            ]
          },
          "metadata": {},
          "execution_count": 61
        }
      ]
    }
  ]
}