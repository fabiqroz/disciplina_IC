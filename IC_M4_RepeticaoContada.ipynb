{
  "nbformat": 4,
  "nbformat_minor": 0,
  "metadata": {
    "colab": {
      "provenance": [],
      "collapsed_sections": [],
      "authorship_tag": "ABX9TyMIn8JxKqtUSg+5D5ACKl7l",
      "include_colab_link": true
    },
    "kernelspec": {
      "name": "python3",
      "display_name": "Python 3"
    },
    "language_info": {
      "name": "python"
    }
  },
  "cells": [
    {
      "cell_type": "markdown",
      "metadata": {
        "id": "view-in-github",
        "colab_type": "text"
      },
      "source": [
        "<a href=\"https://colab.research.google.com/github/fabiqroz/disciplina_IC/blob/main/IC_M4_RepeticaoContada.ipynb\" target=\"_parent\"><img src=\"https://colab.research.google.com/assets/colab-badge.svg\" alt=\"Open In Colab\"/></a>"
      ]
    },
    {
      "cell_type": "markdown",
      "source": [
        "Um *loop* `for` atua como um **iterador em Python**; ele passa por itens que estão em uma sequência ou qualquer outro item iterável. \n",
        "\n"
      ],
      "metadata": {
        "id": "8hQhDx48KUi6"
      }
    },
    {
      "cell_type": "code",
      "execution_count": null,
      "metadata": {
        "id": "Acygq1bYJT49"
      },
      "outputs": [],
      "source": [
        "lista = [1,2,3,4,5,6,7,8,9,10]"
      ]
    },
    {
      "cell_type": "code",
      "source": [
        "for num in lista:\n",
        "    print(num)"
      ],
      "metadata": {
        "colab": {
          "base_uri": "https://localhost:8080/"
        },
        "id": "iO44-NugSufJ",
        "outputId": "13a16631-0764-4e20-eb47-416c5d18b701"
      },
      "execution_count": null,
      "outputs": [
        {
          "output_type": "stream",
          "name": "stdout",
          "text": [
            "1\n",
            "2\n",
            "3\n",
            "4\n",
            "5\n",
            "6\n",
            "7\n",
            "8\n",
            "9\n",
            "10\n"
          ]
        }
      ]
    },
    {
      "cell_type": "markdown",
      "source": [
        "Agora vamos adicionar uma instrução `if` para verificar se há números pares na sequencia e exibir estes números pares. "
      ],
      "metadata": {
        "id": "It5oXjtMS62g"
      }
    },
    {
      "cell_type": "code",
      "source": [
        "for num in lista:\n",
        "  if num % 2 == 0:\n",
        "      print(num)"
      ],
      "metadata": {
        "id": "1Uvlfqq-S_ND"
      },
      "execution_count": null,
      "outputs": []
    },
    {
      "cell_type": "markdown",
      "source": [
        "também podemos definir um if-else dentro do loop!"
      ],
      "metadata": {
        "id": "5teEgNvaTUsq"
      }
    },
    {
      "cell_type": "code",
      "source": [
        "for num in lista:\n",
        "  if num % 2 == 0:\n",
        "      print(num)\n",
        "  else:\n",
        "      print('Número ímpar')"
      ],
      "metadata": {
        "colab": {
          "base_uri": "https://localhost:8080/"
        },
        "id": "a6lVv4RTTbT5",
        "outputId": "0da2fe54-a5ba-4779-900f-93bf8e5b04c5"
      },
      "execution_count": null,
      "outputs": [
        {
          "output_type": "stream",
          "name": "stdout",
          "text": [
            "Número ímpar\n",
            "2\n",
            "Número ímpar\n",
            "4\n",
            "Número ímpar\n",
            "6\n",
            "Número ímpar\n",
            "8\n",
            "Número ímpar\n",
            "10\n"
          ]
        }
      ]
    },
    {
      "cell_type": "markdown",
      "source": [
        "Usando variáveis contadoras/acumuladoras para manter algum tipo de registro em execução durante vários *loops*:"
      ],
      "metadata": {
        "id": "OfaOupJhTvOE"
      }
    },
    {
      "cell_type": "code",
      "source": [
        "#Variável acumuladora\n",
        "soma = 0 \n",
        "\n",
        "for num in lista:\n",
        "    soma += num\n",
        "\n",
        "print(soma)"
      ],
      "metadata": {
        "colab": {
          "base_uri": "https://localhost:8080/"
        },
        "id": "F1mUwFK9T3ji",
        "outputId": "53016901-5da4-43dc-c3a6-e453976a5342"
      },
      "execution_count": null,
      "outputs": [
        {
          "output_type": "stream",
          "name": "stdout",
          "text": [
            "55\n"
          ]
        }
      ]
    },
    {
      "cell_type": "markdown",
      "source": [
        "Usamos loops for  com *strings* também! Lembre-se de que as *strings* são uma sequência, portanto, quando iterarmos por elas, estaremos acessando cada item dessa *string*."
      ],
      "metadata": {
        "id": "Rpoe03ljU9D0"
      }
    },
    {
      "cell_type": "code",
      "source": [
        "for letra in 'Oi mundo!':\n",
        "    print(letra)"
      ],
      "metadata": {
        "colab": {
          "base_uri": "https://localhost:8080/"
        },
        "id": "CWJzw_DCVEdb",
        "outputId": "ca8627e9-cdc8-4d7a-b3ab-4cbaa8edeefb"
      },
      "execution_count": null,
      "outputs": [
        {
          "output_type": "stream",
          "name": "stdout",
          "text": [
            "O\n",
            "i\n",
            " \n",
            "m\n",
            "u\n",
            "n\n",
            "d\n",
            "o\n",
            "!\n"
          ]
        }
      ]
    },
    {
      "cell_type": "markdown",
      "source": [
        "Também tem um `else` no `for`!"
      ],
      "metadata": {
        "id": "2P9Bz_f0VpzD"
      }
    },
    {
      "cell_type": "code",
      "source": [
        "lista_2 = []\n",
        "for item in lista_2:\n",
        "  print('Achei um item na lista:', item)\n",
        "  break\n",
        "else: \n",
        "  print('Procurei por um item na lista, mas não encontrei! :(')"
      ],
      "metadata": {
        "colab": {
          "base_uri": "https://localhost:8080/"
        },
        "id": "8TLOQ0cHVtRP",
        "outputId": "a9c6f8a7-c1a7-403e-ca74-407a54b83fdf"
      },
      "execution_count": null,
      "outputs": [
        {
          "output_type": "stream",
          "name": "stdout",
          "text": [
            "Procurei por um item na lista, mas não encontrei! :(\n"
          ]
        }
      ]
    },
    {
      "cell_type": "markdown",
      "source": [
        "## Usando o comando `range()`\n",
        "\n",
        "O comando (função) `range()` retirna uma sequencia numérica. As vezes nós iteramos sobre os elementos dessa sequencia, principalmente quando queremos que nossa variável de controle assuma valores dos indices de uma sequencia, e não valores da sequencia propriamente dita. \n",
        "\n",
        "<img src = \"https://drive.google.com/uc?id=1VDD3DJ3ko9Q79MlW8YJH2TxwyxE0Yub_\" width = \"500\">"
      ],
      "metadata": {
        "id": "zGbeNG0xWLL0"
      }
    },
    {
      "cell_type": "code",
      "source": [
        "for i in range(10):\n",
        "  print(i, end=' ') "
      ],
      "metadata": {
        "colab": {
          "base_uri": "https://localhost:8080/"
        },
        "id": "Cu38zgkYWRLr",
        "outputId": "ec1d09a3-8496-4254-dabc-39e13f6ecb13"
      },
      "execution_count": null,
      "outputs": [
        {
          "output_type": "stream",
          "name": "stdout",
          "text": [
            "0 1 2 3 4 5 6 7 8 9 "
          ]
        }
      ]
    },
    {
      "cell_type": "code",
      "source": [
        "for i in range(1,10,2):\n",
        "  print(i, end=' ') "
      ],
      "metadata": {
        "colab": {
          "base_uri": "https://localhost:8080/"
        },
        "id": "RdqFsYP2X32E",
        "outputId": "7d91714c-d2fe-4a38-d461-5f111e03d76e"
      },
      "execution_count": null,
      "outputs": [
        {
          "output_type": "stream",
          "name": "stdout",
          "text": [
            "1 3 5 7 9 "
          ]
        }
      ]
    },
    {
      "cell_type": "code",
      "source": [
        "for i in range(len(lista)):\n",
        "  print(lista[i])"
      ],
      "metadata": {
        "id": "kxsdS_jbZUq6"
      },
      "execution_count": null,
      "outputs": []
    },
    {
      "cell_type": "markdown",
      "source": [
        "Agora vamos pensar em um exemplo:\n",
        "\n",
        "> Suponha que queiramos acumular numa soma todos os números pares de uma sequencai:\n",
        "\n"
      ],
      "metadata": {
        "id": "B5Cacq9kX9uE"
      }
    },
    {
      "cell_type": "code",
      "source": [
        "soma = 0\n",
        "\n",
        "for num in lista:\n",
        "  if num % 2 == 0:\n",
        "      soma += num\n",
        "\n",
        "print(soma)"
      ],
      "metadata": {
        "colab": {
          "base_uri": "https://localhost:8080/"
        },
        "id": "ltGwPH6_YDQu",
        "outputId": "41a8dc35-f458-49e4-83f2-164234873bfa"
      },
      "execution_count": null,
      "outputs": [
        {
          "output_type": "stream",
          "name": "stdout",
          "text": [
            "30\n"
          ]
        }
      ]
    },
    {
      "cell_type": "markdown",
      "source": [
        "\n",
        "> Agora suponha que queiramos acumular numa soma todos os elementos da sequencia que estão indexados numa posição par: \n",
        "\n"
      ],
      "metadata": {
        "id": "z5BS1uI0Y5Gt"
      }
    },
    {
      "cell_type": "code",
      "source": [
        "soma = 0\n",
        "\n",
        "for posicao in range(len(lista)):\n",
        "  if posicao % 2 == 0:\n",
        "      soma += lista[posicao]\n",
        "\n",
        "print(soma)"
      ],
      "metadata": {
        "colab": {
          "base_uri": "https://localhost:8080/"
        },
        "id": "2HT3sHUJZGJj",
        "outputId": "d783a1e0-1ec1-4eaf-bf7a-1041d1025d21"
      },
      "execution_count": null,
      "outputs": [
        {
          "output_type": "stream",
          "name": "stdout",
          "text": [
            "25\n"
          ]
        }
      ]
    }
  ]
}