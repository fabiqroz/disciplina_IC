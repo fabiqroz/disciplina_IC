{
 "cells": [
  {
   "cell_type": "markdown",
   "metadata": {},
   "source": [
    "\n",
    "<center><img src='../cover.png' width=100%/></a></center>\n",
    "<center><em>Content Copyright by Fabiane Queiroz</em></center>"
   ]
  },
  {
   "cell_type": "markdown",
   "metadata": {},
   "source": [
    "# Entrada de dados"
   ]
  },
  {
   "cell_type": "markdown",
   "metadata": {},
   "source": [
    "Uma das tarefas mais comuns em um programa ou *script* é a captura de dados digitados pelos usuários, para que possam ser processados dentro do programa. Em Python, podemos empregar a função embutida <code>input()</code> para realizar essa tarefa.\n",
    "\n",
    "**O que veremos aqui??**\n",
    "\n",
    "    1.) Entrada de dados no python com a função input\n",
    "    "
   ]
  },
  {
   "cell_type": "markdown",
   "metadata": {},
   "source": [
    "## Entrada de dados via usuário\n"
   ]
  },
  {
   "cell_type": "code",
   "execution_count": 1,
   "metadata": {},
   "outputs": [],
   "source": [
    "# lendo uma string digitada pelo usuario e guardando seu valor em uma variavel\n",
    "nome = input('Digite seu nome: ')"
   ]
  },
  {
   "cell_type": "code",
   "execution_count": 2,
   "metadata": {},
   "outputs": [
    {
     "name": "stdout",
     "output_type": "stream",
     "text": [
      "Fabiane\n"
     ]
    }
   ],
   "source": [
    "# check\n",
    "print(nome)"
   ]
  },
  {
   "cell_type": "code",
   "execution_count": 3,
   "metadata": {},
   "outputs": [],
   "source": [
    "# lendo um numero inteiro a partir do usuario\n",
    "num_str = input('Digite um número inteiro: ')\n",
    "num = int(num_str)"
   ]
  },
  {
   "cell_type": "code",
   "execution_count": 4,
   "metadata": {},
   "outputs": [
    {
     "name": "stdout",
     "output_type": "stream",
     "text": [
      "50\n"
     ]
    }
   ],
   "source": [
    "# check\n",
    "print(num)"
   ]
  },
  {
   "cell_type": "code",
   "execution_count": 5,
   "metadata": {},
   "outputs": [],
   "source": [
    "# lendo um numero de ponto flutuante  a partir do usuario\n",
    "num = float(input('Digite um número real: '))"
   ]
  },
  {
   "cell_type": "code",
   "execution_count": 6,
   "metadata": {},
   "outputs": [
    {
     "name": "stdout",
     "output_type": "stream",
     "text": [
      "2.67\n"
     ]
    }
   ],
   "source": [
    "# check\n",
    "print(num)"
   ]
  },
  {
   "cell_type": "markdown",
   "metadata": {},
   "source": [
    "Multiplas entradas: uma em cada linha:"
   ]
  },
  {
   "cell_type": "code",
   "execution_count": 7,
   "metadata": {},
   "outputs": [],
   "source": [
    "a = int(input('Digite o valor inteiro para a: '))\n",
    "b = int(input('Digite o valor inteiro para b: '))"
   ]
  },
  {
   "cell_type": "markdown",
   "metadata": {},
   "source": [
    "Multiplas entradas em uma mesma linha:"
   ]
  },
  {
   "cell_type": "code",
   "execution_count": 8,
   "metadata": {},
   "outputs": [],
   "source": [
    "a , b = map(int, input('Digite dois valores inteiro separados por espaço: ').split())"
   ]
  },
  {
   "cell_type": "markdown",
   "metadata": {},
   "source": [
    "Agora um  exemplo de um programa em Python com entrada e saída de dados: \n",
    "\n",
    " <img src='Figures/excited.jpeg' width = 400/></a>"
   ]
  },
  {
   "cell_type": "code",
   "execution_count": 13,
   "metadata": {},
   "outputs": [
    {
     "name": "stdout",
     "output_type": "stream",
     "text": [
      "Idade | Peso  | Altura\n",
      "   36 | 60.50 |  1.70\n",
      "Ola Fabi, tudo bem?. De acordo com seus dados, o seu IMC é de 20.934256055363324\n"
     ]
    }
   ],
   "source": [
    "# Convertendo um dado numérico pra string\n",
    "nome = input('Qual o seu nome:? ')\n",
    "idade = int(input('Qual a sua idade? '))\n",
    "peso = float(input('Digite o seu peso (em kg): '))\n",
    "altura = float(input('Digite a sua altura (em m): '))\n",
    "\n",
    "imc = peso/(altura**2)\n",
    "\n",
    "\n",
    "print('{0:5} | {1:5} | {2:5}'.format('Idade', 'Peso', 'Altura'))\n",
    "print('{0:5} | {1:5.2f} | {2:5.2f}'.format(idade, peso, altura))\n",
    "\n",
    "print('Ola {}, tudo bem?. De acordo com seus dados, o seu IMC é de {}'.format(nome, imc))"
   ]
  },
  {
   "cell_type": "markdown",
   "metadata": {},
   "source": [
    "## Prómos Passos: Exemplos de programinahs em Python "
   ]
  }
 ],
 "metadata": {
  "kernelspec": {
   "display_name": "Python 3",
   "language": "python",
   "name": "python3"
  },
  "language_info": {
   "codemirror_mode": {
    "name": "ipython",
    "version": 3
   },
   "file_extension": ".py",
   "mimetype": "text/x-python",
   "name": "python",
   "nbconvert_exporter": "python",
   "pygments_lexer": "ipython3",
   "version": "3.9.6"
  }
 },
 "nbformat": 4,
 "nbformat_minor": 1
}
