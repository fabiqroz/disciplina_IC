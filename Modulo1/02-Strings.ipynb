{
 "cells": [
  {
   "cell_type": "markdown",
   "metadata": {},
   "source": [
    "\n",
    "<center><img src='../cover.png' width=100%/></a></center>\n",
    "<center><em>Content Copyright by Fabiane Queiroz</em></center>"
   ]
  },
  {
   "cell_type": "markdown",
   "metadata": {},
   "source": [
    "# Brincando com Strings"
   ]
  },
  {
   "cell_type": "markdown",
   "metadata": {},
   "source": [
    "Lembram que eu falei que além dos dados numéricos nós tinhamos dados alfa-numéricos e lógicos?? Agora vamos falar dessses tais dados alfa numéricos! Senta que lá vem as strings!!!\n",
    "\n",
    "Strings são usadas em Python para registrar informações de texto, como nomes ou até mesmo, números mas com uma funcionalidade literal, tipo um CEP, um RG, etc. Strings em Python são na verdade uma **sequência** (SPOILER!). Por exemplo, Python entende que a string \"hello\" é uma sequência de letras em uma ordem específica, o que significa que poderemos usar a **indexação** para pegar letras específicas (como a primeira ou a última letra).\n",
    "\n",
    "**O que veremos aqui??**\n",
    "\n",
    "    1.) Como criar strings\n",
    "    2.) Como exibir strings na tela\n",
    "    3.) Como indexar strings\n",
    "    4.) Algumas propriedas das strings\n",
    "    6.) Como formatar strings"
   ]
  },
  {
   "cell_type": "markdown",
   "metadata": {},
   "source": [
    "## Criando uma string\n",
    "Para criar uma string no Python, nós usamos aspas simples ou duplas. Exemplo:"
   ]
  },
  {
   "cell_type": "code",
   "execution_count": 1,
   "metadata": {},
   "outputs": [
    {
     "data": {
      "text/plain": [
       "'hello'"
      ]
     },
     "execution_count": 1,
     "metadata": {},
     "output_type": "execute_result"
    }
   ],
   "source": [
    "# uma palavra\n",
    "'Oi'"
   ]
  },
  {
   "cell_type": "code",
   "execution_count": 2,
   "metadata": {},
   "outputs": [
    {
     "data": {
      "text/plain": [
       "'This is also a string'"
      ]
     },
     "execution_count": 2,
     "metadata": {},
     "output_type": "execute_result"
    }
   ],
   "source": [
    "# Uma frase\n",
    "'O rato roeu a roupa do rei de roma'"
   ]
  },
  {
   "cell_type": "code",
   "execution_count": 3,
   "metadata": {},
   "outputs": [
    {
     "data": {
      "text/plain": [
       "'String built with double quotes'"
      ]
     },
     "execution_count": 3,
     "metadata": {},
     "output_type": "execute_result"
    }
   ],
   "source": [
    "# We can also use double quote\n",
    "\"Tambem posso usar aspas duplas!\""
   ]
  },
  {
   "cell_type": "markdown",
   "metadata": {},
   "source": [
    "Você pode usar combinações de aspas duplas e simples:"
   ]
  },
  {
   "cell_type": "code",
   "execution_count": 1,
   "metadata": {},
   "outputs": [
    {
     "data": {
      "text/plain": [
       "'\"Paia\" é uma palavra em alagoanês para indicar que algo é de má qualidade ou mal feito.'"
      ]
     },
     "execution_count": 1,
     "metadata": {},
     "output_type": "execute_result"
    }
   ],
   "source": [
    "'\"Paia\" é uma palavra em alagoanês para indicar que algo é de má qualidade ou mal feito.'"
   ]
  },
  {
   "cell_type": "markdown",
   "metadata": {},
   "source": [
    "Now let's learn about printing strings!"
   ]
  },
  {
   "cell_type": "markdown",
   "metadata": {},
   "source": [
    "## Exibindo uma string \n",
    "\n"
   ]
  },
  {
   "cell_type": "code",
   "execution_count": 3,
   "metadata": {},
   "outputs": [
    {
     "name": "stdout",
     "output_type": "stream",
     "text": [
      "Oi mundo!\n",
      "\n",
      "\n",
      "Fora Naro!!!\n"
     ]
    }
   ],
   "source": [
    "print('Oi mundo!')\n",
    "print('\\n')\n",
    "print('Fora Naro!!!')"
   ]
  },
  {
   "cell_type": "markdown",
   "metadata": {},
   "source": [
    "## String Basics\n",
    "\n",
    "Nós podemos usar uma **função integrada do Python** (SPOILER!!!) chamada *len* para saber o tamanho de uma string.\n"
   ]
  },
  {
   "cell_type": "code",
   "execution_count": 4,
   "metadata": {},
   "outputs": [
    {
     "data": {
      "text/plain": [
       "9"
      ]
     },
     "execution_count": 4,
     "metadata": {},
     "output_type": "execute_result"
    }
   ],
   "source": [
    "len('Oi mundo!')"
   ]
  },
  {
   "cell_type": "markdown",
   "metadata": {},
   "source": [
    "## Indexando os elementos de uma string\n",
    "Sabemos que strings são uma sequência, o que significa que Python pode usar índices para chamar partes da sequência. Vamos aprender como isso funciona.\n",
    " \n",
    " Nessa seção, tudo que veremos são SPOILERS do conteúdo do curso, **segura esse coração**!\n",
    "\n",
    " <img src='Figures/rc.jpeg' width = 200/></a>\n",
    "\n",
    " Em Python, usamos colchetes <code>[]</code> após um objeto para chamar seu índice. Também devemos observar que a indexação começa em 0 para Python. Vamos criar um novo objeto chamado <code>s</code> e então percorrer alguns exemplos de indexação.\n",
    "\n"
   ]
  },
  {
   "cell_type": "code",
   "execution_count": 10,
   "metadata": {
    "collapsed": true
   },
   "outputs": [],
   "source": [
    "# Criando a string\n",
    "s = 'Oi mundo!'"
   ]
  },
  {
   "cell_type": "code",
   "execution_count": 11,
   "metadata": {},
   "outputs": [
    {
     "name": "stdout",
     "output_type": "stream",
     "text": [
      "Oi mundo!\n"
     ]
    }
   ],
   "source": [
    "# Mostrando o conteúdo da string na tela\n",
    "print(s) "
   ]
  },
  {
   "cell_type": "markdown",
   "metadata": {},
   "source": [
    "Agora Vamos indexar os elementos:"
   ]
  },
  {
   "cell_type": "code",
   "execution_count": 12,
   "metadata": {},
   "outputs": [
    {
     "data": {
      "text/plain": [
       "'O'"
      ]
     },
     "execution_count": 12,
     "metadata": {},
     "output_type": "execute_result"
    }
   ],
   "source": [
    "# O primeiro elemento\n",
    "s[0]"
   ]
  },
  {
   "cell_type": "code",
   "execution_count": 13,
   "metadata": {},
   "outputs": [
    {
     "data": {
      "text/plain": [
       "'i'"
      ]
     },
     "execution_count": 13,
     "metadata": {},
     "output_type": "execute_result"
    }
   ],
   "source": [
    "s[1]"
   ]
  },
  {
   "cell_type": "code",
   "execution_count": 14,
   "metadata": {},
   "outputs": [
    {
     "data": {
      "text/plain": [
       "' '"
      ]
     },
     "execution_count": 14,
     "metadata": {},
     "output_type": "execute_result"
    }
   ],
   "source": [
    "s[2]"
   ]
  },
  {
   "cell_type": "markdown",
   "metadata": {
    "collapsed": true
   },
   "source": [
    "## String Properties\n",
    "\n",
    "É importante observar que as strings possuem uma propriedade importante conhecida como **imutabilidade** (esse SPOILER aqui é pesado, ein: a explicação disso vai estar na disciplina de Técnicas de programação!!!!). \n",
    "Isso significa que uma vez que uma string é criada, os elementos dentro dela **não** podem ser alterados ou substituídos. Por exemplo:"
   ]
  },
  {
   "cell_type": "code",
   "execution_count": 15,
   "metadata": {},
   "outputs": [
    {
     "data": {
      "text/plain": [
       "'Oi mundo!'"
      ]
     },
     "execution_count": 15,
     "metadata": {},
     "output_type": "execute_result"
    }
   ],
   "source": [
    "s"
   ]
  },
  {
   "cell_type": "code",
   "execution_count": 16,
   "metadata": {},
   "outputs": [
    {
     "ename": "TypeError",
     "evalue": "'str' object does not support item assignment",
     "output_type": "error",
     "traceback": [
      "\u001b[0;31m---------------------------------------------------------------------------\u001b[0m",
      "\u001b[0;31mTypeError\u001b[0m                                 Traceback (most recent call last)",
      "\u001b[0;32m/var/folders/rb/z_dfs56n5h96dkl70bfrtsg80000gn/T/ipykernel_36903/2132340687.py\u001b[0m in \u001b[0;36m<module>\u001b[0;34m\u001b[0m\n\u001b[1;32m      1\u001b[0m \u001b[0;31m# Vaos tentar mudar um elemento da string\u001b[0m\u001b[0;34m\u001b[0m\u001b[0;34m\u001b[0m\u001b[0;34m\u001b[0m\u001b[0m\n\u001b[0;32m----> 2\u001b[0;31m \u001b[0ms\u001b[0m\u001b[0;34m[\u001b[0m\u001b[0;36m0\u001b[0m\u001b[0;34m]\u001b[0m \u001b[0;34m=\u001b[0m \u001b[0;34m'x'\u001b[0m\u001b[0;34m\u001b[0m\u001b[0;34m\u001b[0m\u001b[0m\n\u001b[0m",
      "\u001b[0;31mTypeError\u001b[0m: 'str' object does not support item assignment"
     ]
    }
   ],
   "source": [
    "# Vaos tentar mudar um elemento da string\n",
    "s[0] = 'x'"
   ]
  },
  {
   "cell_type": "markdown",
   "metadata": {},
   "source": [
    "Veja que esse erro *TypeError* nem foi de sintaxe (*SintaxError*)! Que tipo de erro é esse??\n",
    "\n",
    " <img src='Figures/pergunta.jpeg' width = 200/></a>"
   ]
  },
  {
   "cell_type": "code",
   "execution_count": 17,
   "metadata": {},
   "outputs": [
    {
     "data": {
      "text/plain": [
       "'Oi mundo!'"
      ]
     },
     "execution_count": 17,
     "metadata": {},
     "output_type": "execute_result"
    }
   ],
   "source": [
    "s"
   ]
  },
  {
   "cell_type": "code",
   "execution_count": 19,
   "metadata": {},
   "outputs": [
    {
     "data": {
      "text/plain": [
       "'Oi mundo! Pára ai, que eu quero descer!!'"
      ]
     },
     "execution_count": 19,
     "metadata": {},
     "output_type": "execute_result"
    }
   ],
   "source": [
    "# Concatenando Strings\n",
    "s + ' Pára ai, que eu quero descer!!'"
   ]
  },
  {
   "cell_type": "code",
   "execution_count": 20,
   "metadata": {
    "collapsed": true
   },
   "outputs": [],
   "source": [
    "# Sobrescrevendo com a nova informação\n",
    "s = s + ' Pára ai, que eu quero descer!!'"
   ]
  },
  {
   "cell_type": "code",
   "execution_count": 21,
   "metadata": {},
   "outputs": [
    {
     "name": "stdout",
     "output_type": "stream",
     "text": [
      "Oi mundo! Pára ai, que eu quero descer!!\n"
     ]
    }
   ],
   "source": [
    "print(s)"
   ]
  },
  {
   "cell_type": "markdown",
   "metadata": {},
   "source": [
    "We can use the multiplication symbol to create repetition!"
   ]
  },
  {
   "cell_type": "code",
   "execution_count": 22,
   "metadata": {
    "collapsed": true
   },
   "outputs": [],
   "source": [
    "letra = 'z'"
   ]
  },
  {
   "cell_type": "code",
   "execution_count": 23,
   "metadata": {},
   "outputs": [
    {
     "name": "stdout",
     "output_type": "stream",
     "text": [
      "zzzzzzzzzz\n"
     ]
    }
   ],
   "source": [
    "print(letra*10)"
   ]
  },
  {
   "cell_type": "markdown",
   "metadata": {},
   "source": [
    "## Funções embutidas (Built-in ) para se trabalhar com Strings \n",
    "\n",
    "Quando a gente cria uma variável do tipo string, nós estamos  criando  objetos da classe string.\n",
    "\n",
    "Objetos em Python geralmente têm métodos embutidos (SPOILER de Técnicas de Programação!)... \n",
    "\n",
    " <img src='Figures/meperdi.gif' width = 200/></a>\n",
    "\n",
    "... Esses métodos são funções dentro do objeto (tenha fé! aprenderemos sobre isso com muito mais profundidade posteriormente) \n",
    "\n",
    "<img src='Figures/valha.jpeg' width = 200/></a>\n",
    "\n",
    "que podem executar ações ou comandos no próprio objeto.\n",
    "\n",
    "Segue o fio  de algum métodos dos objetos do tipo string:"
   ]
  },
  {
   "cell_type": "code",
   "execution_count": 24,
   "metadata": {},
   "outputs": [
    {
     "data": {
      "text/plain": [
       "'Oi mundo! Pára ai, que eu quero descer!!'"
      ]
     },
     "execution_count": 24,
     "metadata": {},
     "output_type": "execute_result"
    }
   ],
   "source": [
    "s"
   ]
  },
  {
   "cell_type": "code",
   "execution_count": 25,
   "metadata": {},
   "outputs": [
    {
     "data": {
      "text/plain": [
       "'OI MUNDO! PÁRA AI, QUE EU QUERO DESCER!!'"
      ]
     },
     "execution_count": 25,
     "metadata": {},
     "output_type": "execute_result"
    }
   ],
   "source": [
    "# Todo mundo maiúsculo\n",
    "s.upper()"
   ]
  },
  {
   "cell_type": "code",
   "execution_count": 26,
   "metadata": {},
   "outputs": [
    {
     "data": {
      "text/plain": [
       "'oi mundo! pára ai, que eu quero descer!!'"
      ]
     },
     "execution_count": 26,
     "metadata": {},
     "output_type": "execute_result"
    }
   ],
   "source": [
    "# todo mundo minusculo\n",
    "s.lower()"
   ]
  },
  {
   "cell_type": "code",
   "execution_count": 27,
   "metadata": {},
   "outputs": [
    {
     "data": {
      "text/plain": [
       "['Oi', 'mundo!', 'Pára', 'ai,', 'que', 'eu', 'quero', 'descer!!']"
      ]
     },
     "execution_count": 27,
     "metadata": {},
     "output_type": "execute_result"
    }
   ],
   "source": [
    "# separar a geral pelos espaços em branco \n",
    "s.split()"
   ]
  },
  {
   "cell_type": "code",
   "execution_count": 31,
   "metadata": {},
   "outputs": [
    {
     "data": {
      "text/plain": [
       "['Oi mundo! Pára ai', ' que eu quero descer!!']"
      ]
     },
     "execution_count": 31,
     "metadata": {},
     "output_type": "execute_result"
    }
   ],
   "source": [
    "# separar a geral por um caractere específico\n",
    "s.split(',')"
   ]
  },
  {
   "cell_type": "markdown",
   "metadata": {},
   "source": [
    "There are many more methods than the ones covered here. Visit the Advanced String section to find out more!"
   ]
  },
  {
   "cell_type": "markdown",
   "metadata": {},
   "source": [
    "## Formatando a saída de dados\n",
    "\n",
    "Vamos apreender a usar a função  format().  Essa *bichinha* vai nos acompanhar até o fim do curso, daqui por diante!"
   ]
  },
  {
   "cell_type": "code",
   "execution_count": 32,
   "metadata": {},
   "outputs": [
    {
     "data": {
      "text/plain": [
       "'Oi mundo! Qual a boa de hoje?'"
      ]
     },
     "execution_count": 32,
     "metadata": {},
     "output_type": "execute_result"
    }
   ],
   "source": [
    "'Oi mundo! {}'.format('Qual a boa de hoje?')"
   ]
  },
  {
   "cell_type": "code",
   "execution_count": 35,
   "metadata": {},
   "outputs": [],
   "source": [
    "nome = 'Fabiane'\n",
    "idade = 36"
   ]
  },
  {
   "cell_type": "code",
   "execution_count": 40,
   "metadata": {},
   "outputs": [],
   "source": [
    "# Convertendo um dado numérico pra string\n",
    "s_idade = str(idade)"
   ]
  },
  {
   "cell_type": "markdown",
   "metadata": {},
   "source": [
    "Veja que esse erro *IndentationError* nem foi de sintaxe (*SintaxError*)! Que tipo de erro é esse??\n",
    "\n",
    " <img src='Figures/pergunta.jpeg' width = 200/></a>"
   ]
  },
  {
   "cell_type": "code",
   "execution_count": 41,
   "metadata": {},
   "outputs": [],
   "source": [
    "frase = 'Oi, meu nome é ' + nome + ' e eu tenho '+ s_idade + ' anos de idade'\n"
   ]
  },
  {
   "cell_type": "code",
   "execution_count": 42,
   "metadata": {},
   "outputs": [
    {
     "name": "stdout",
     "output_type": "stream",
     "text": [
      "Oi, meu nome é Fabiane e eu tenho 36 anos de idade\n"
     ]
    }
   ],
   "source": [
    "print(frase)"
   ]
  },
  {
   "cell_type": "code",
   "execution_count": 45,
   "metadata": {},
   "outputs": [],
   "source": [
    "print('Oi, meu nome é {0} e eu tenho {1} anos de idade'.format(nome, idade))"
   ]
  },
  {
   "cell_type": "code",
   "execution_count": 51,
   "metadata": {},
   "outputs": [
    {
     "name": "stdout",
     "output_type": "stream",
     "text": [
      "Oi, meu nome é Fabiane e eu tenho 36 anos de idade\n"
     ]
    }
   ],
   "source": [
    "print('Oi, meu nome é {} e eu tenho {} anos de idade'.format(nome, idade))"
   ]
  },
  {
   "cell_type": "code",
   "execution_count": 48,
   "metadata": {},
   "outputs": [
    {
     "name": "stdout",
     "output_type": "stream",
     "text": [
      "Oi, meu nome é 36 e eu tenho Fabiane anos de idade\n"
     ]
    }
   ],
   "source": [
    "print('Oi, meu nome é {1} e eu tenho {0} anos de idade'.format(nome, idade))"
   ]
  },
  {
   "cell_type": "code",
   "execution_count": 54,
   "metadata": {},
   "outputs": [],
   "source": [
    "peso = 60.56"
   ]
  },
  {
   "cell_type": "code",
   "execution_count": 55,
   "metadata": {},
   "outputs": [
    {
     "name": "stdout",
     "output_type": "stream",
     "text": [
      "Oi, meu nome é Fabiane, eu tenho 36 anos de idade e peso 60.56 quilos\n"
     ]
    }
   ],
   "source": [
    "print('Oi, meu nome é {}, eu tenho {} anos de idade e peso {} quilos'.format(nome, idade, peso))"
   ]
  },
  {
   "cell_type": "code",
   "execution_count": 61,
   "metadata": {},
   "outputs": [
    {
     "name": "stdout",
     "output_type": "stream",
     "text": [
      "Oi, meu nome é Fabiane, eu tenho 36 anos de idade e peso 60.560 quilos\n"
     ]
    }
   ],
   "source": [
    "print('Oi, meu nome é {}, eu tenho {} anos de idade e peso {:.3f} quilos'.format(nome, idade, peso))"
   ]
  },
  {
   "cell_type": "code",
   "execution_count": 67,
   "metadata": {},
   "outputs": [
    {
     "name": "stdout",
     "output_type": "stream",
     "text": [
      "Fruta    | Quantidade\n",
      "Maças    |       3.0\n",
      "Laranjas |        10\n"
     ]
    }
   ],
   "source": [
    "print('{0:8} | {1:9}'.format('Fruta', 'Quantidade'))\n",
    "print('{0:8} | {1:9.1f}'.format('Maças', 3))\n",
    "print('{0:8} | {1:9}'.format('Laranjas', 10))"
   ]
  },
  {
   "cell_type": "markdown",
   "metadata": {},
   "source": [
    "## Prómos Passos: Entrada de Dados."
   ]
  }
 ],
 "metadata": {
  "kernelspec": {
   "display_name": "Python 3",
   "language": "python",
   "name": "python3"
  },
  "language_info": {
   "codemirror_mode": {
    "name": "ipython",
    "version": 3
   },
   "file_extension": ".py",
   "mimetype": "text/x-python",
   "name": "python",
   "nbconvert_exporter": "python",
   "pygments_lexer": "ipython3",
   "version": "3.9.6"
  }
 },
 "nbformat": 4,
 "nbformat_minor": 1
}
